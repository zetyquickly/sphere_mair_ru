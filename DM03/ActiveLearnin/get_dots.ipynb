{
 "cells": [
  {
   "cell_type": "code",
   "execution_count": 1,
   "metadata": {
    "collapsed": true
   },
   "outputs": [],
   "source": [
    "import commands\n",
    "import numpy as np\n",
    "\n",
    "def oracle(x):\n",
    "    x = list(x)\n",
    "    query = \"./Oracle.static \" + ' '.join(map(lambda y:str(y), x))\n",
    "    if query.strip() == 'Function is undefined at this point!' or query.strip() == 'inf':\n",
    "        return None\n",
    "    return np.array(x + [float(commands.getoutput(query))])"
   ]
  }
 ],
 "metadata": {
  "kernelspec": {
   "display_name": "Python 2",
   "language": "python",
   "name": "python2"
  },
  "language_info": {
   "codemirror_mode": {
    "name": "ipython",
    "version": 2
   },
   "file_extension": ".py",
   "mimetype": "text/x-python",
   "name": "python",
   "nbconvert_exporter": "python",
   "pygments_lexer": "ipython2",
   "version": "2.7.15"
  }
 },
 "nbformat": 4,
 "nbformat_minor": 2
}
