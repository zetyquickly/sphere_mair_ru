{
 "cells": [
  {
   "cell_type": "code",
   "execution_count": 1,
   "metadata": {
    "collapsed": true
   },
   "outputs": [],
   "source": [
    "from sklearn.tree import DecisionTreeRegressor\n",
    "from sklearn.metrics import mean_squared_error\n",
    "import numpy as np\n",
    "from matplotlib import pyplot as plt\n",
    "from tqdm import tqdm_notebook as tqdm \n",
    "%matplotlib inline"
   ]
  },
  {
   "cell_type": "code",
   "execution_count": 2,
   "metadata": {
    "collapsed": true
   },
   "outputs": [],
   "source": [
    "def func(x):\n",
    "    return x[0]*x[1] + np.log(x[1]**4 * x[2]**2) - x[0]**3 + np.sin(x[2]) + 500. "
   ]
  },
  {
   "cell_type": "code",
   "execution_count": 18,
   "metadata": {
    "collapsed": true
   },
   "outputs": [],
   "source": [
    "N = 100\n",
    "a = 0\n",
    "b = 10\n",
    "#initial_set = (b-a)*np.random.rand(N,3) + a\n",
    "#initial_labels = np.fromiter(map(func, initial_set), np.float64).reshape(-1, 1)\n",
    "\n",
    "unlabeled_data = (b-a)*np.random.rand(N**3,3) + a\n",
    "test_labels = np.fromiter(map(func, unlabeled_data), np.float64).reshape(-1,1)"
   ]
  },
  {
   "cell_type": "code",
   "execution_count": 5,
   "metadata": {
    "collapsed": true
   },
   "outputs": [],
   "source": [
    "def sample_train(X, y):\n",
    "    rand_ind = np.random.choice(len(y), int(len(y) * 0.8), replace=True)\n",
    "    return X[rand_ind], y[rand_ind]"
   ]
  },
  {
   "cell_type": "code",
   "execution_count": 21,
   "metadata": {
    "collapsed": true
   },
   "outputs": [],
   "source": [
    "class committee(object):\n",
    "    def __init__(self, C):\n",
    "        self.C = C\n",
    "        \n",
    "    def fit(self, X, y):\n",
    "        self.models = []\n",
    "        for idx in range(self.C):\n",
    "            clf = DecisionTreeRegressor()\n",
    "            clf.fit(*sample_train(X, y))\n",
    "            self.models.append(clf)\n",
    "            \n",
    "    def predict(self, X):\n",
    "        committee_predictions = np.array([m.predict(X) for m in self.models]).T\n",
    "        median_predict = np.percentile(committee_predictions, 50, axis=1)\n",
    "        return median_predict\n",
    "    \n",
    "    def get_uncertain(self, X):\n",
    "        committee_predictions = np.array([m.predict(X) for m in self.models]).T\n",
    "        inter_quantile = (np.percentile(committee_predictions, 75, axis=1) - \n",
    "                          np.percentile(committee_predictions, 25, axis=1))\n",
    "        #print(committee_predictions)\n",
    "        std = np.std(committee_predictions, axis=1)\n",
    "        #print(np.sort(std))\n",
    "        return np.argsort(std)[::-1]"
   ]
  },
  {
   "cell_type": "code",
   "execution_count": 22,
   "metadata": {},
   "outputs": [
    {
     "data": {
      "application/vnd.jupyter.widget-view+json": {
       "model_id": "56e1ca27df5b4b53a93d85329e7ae2d3",
       "version_major": 2,
       "version_minor": 0
      },
      "text/plain": [
       "A Jupyter Widget"
      ]
     },
     "metadata": {},
     "output_type": "display_data"
    },
    {
     "name": "stdout",
     "output_type": "stream",
     "text": [
      "\n"
     ]
    },
    {
     "data": {
      "application/vnd.jupyter.widget-view+json": {
       "model_id": "cbb9e9b08d2a476f9b5bcb8567205165",
       "version_major": 2,
       "version_minor": 0
      },
      "text/plain": [
       "A Jupyter Widget"
      ]
     },
     "metadata": {},
     "output_type": "display_data"
    },
    {
     "name": "stdout",
     "output_type": "stream",
     "text": [
      "\n"
     ]
    }
   ],
   "source": [
    "def reveal_unlabeled(X, y, unlabeled_data, indices):\n",
    "    revealed_data = unlabeled_data[indices]\n",
    "    revealed_labels = np.fromiter(map(func, revealed_data), np.float64).reshape(-1,1)\n",
    "    X = np.vstack((X, revealed_data))\n",
    "    y = np.vstack((y, revealed_labels))\n",
    "    unlabeled_data = np.delete(unlabeled_data, indices, axis=0)\n",
    "    return X, y, unlabeled_data\n",
    "\n",
    "\n",
    "\n",
    "C = 10\n",
    "M = 30\n",
    "reveal_count = 100#int(N**3 * 0.3) // M \n",
    "unscertainty_error = []\n",
    "random_sampling_error = []\n",
    "\n",
    "cur_unlabeled = unlabeled_data\n",
    "cur_labels = test_labels\n",
    "\n",
    "mask = (np.random.rand(cur_unlabeled.shape[0]) > 0.95)\n",
    "\n",
    "X_train_uncert = unlabeled_data[mask]\n",
    "y_train_uncert = test_labels[mask]\n",
    "\n",
    "X_train_random = X_train_uncert\n",
    "y_train_random = y_train_uncert\n",
    "\n",
    "cur_unlabeled_uncert = cur_unlabeled[~mask]\n",
    "cur_unlabeled_random = cur_unlabeled[~mask]\n",
    "cur_labels = cur_labels[~mask]\n",
    "\n",
    "\n",
    "mask = (np.random.rand(cur_unlabeled_uncert.shape[0]) > 0.9)\n",
    "X_test = cur_unlabeled_uncert[mask]\n",
    "y_test = cur_labels[mask]\n",
    "\n",
    "\n",
    "\n",
    "for idx in tqdm(range(M)):\n",
    "    com = committee(10)\n",
    "    com.fit(*sample_train(X_train_uncert, y_train_uncert))\n",
    "    answer = com.predict(X_test)\n",
    "    most_uncertain = com.get_uncertain(cur_unlabeled_uncert)[0:reveal_count]\n",
    "    X_train_uncert, y_train_uncert, cur_unlabeled_uncert = reveal_unlabeled(X_train_uncert, \n",
    "                                                                     y_train_uncert, \n",
    "                                                                     cur_unlabeled_uncert, \n",
    "                                                                     most_uncertain)\n",
    "    \n",
    "    unscertainty_error.append(mean_squared_error(y_test, answer))\n",
    "\n",
    "for idx in tqdm(range(M)):\n",
    "    com = committee(10)\n",
    "    com.fit(*sample_train(X_train_random, y_train_random))\n",
    "    answer = com.predict(X_test)\n",
    "    most_uncertain = np.random.choice(len(cur_unlabeled_random), reveal_count, replace=False)\n",
    "    X_train_random, y_train_random, cur_unlabeled_random = reveal_unlabeled(X_train_random, \n",
    "                                                                     y_train_random, \n",
    "                                                                     cur_unlabeled_random, \n",
    "                                                                     most_uncertain)\n",
    "    \n",
    "    random_sampling_error.append(mean_squared_error(y_test, answer))\n",
    "    "
   ]
  },
  {
   "cell_type": "code",
   "execution_count": 23,
   "metadata": {},
   "outputs": [
    {
     "data": {
      "text/plain": [
       "<matplotlib.legend.Legend at 0x7f413d26af28>"
      ]
     },
     "execution_count": 23,
     "metadata": {},
     "output_type": "execute_result"
    },
    {
     "data": {
      "image/png": "[encoded data removed]",
      "text/plain": [
       "<Figure size 432x288 with 1 Axes>"
      ]
     },
     "metadata": {},
     "output_type": "display_data"
    }
   ],
   "source": [
    "plt.plot(unscertainty_error, label=\"uncert\")\n",
    "plt.plot(random_sampling_error, label=\"random\")\n",
    "plt.legend()"
   ]
  },
  {
   "cell_type": "code",
   "execution_count": 171,
   "metadata": {},
   "outputs": [
    {
     "data": {
      "text/plain": [
       "[<matplotlib.lines.Line2D at 0x7faaa635fd30>]"
      ]
     },
     "execution_count": 171,
     "metadata": {},
     "output_type": "execute_result"
    },
    {
     "data": {
      "image/png": "[encoded data removed]",
      "text/plain": [
       "<Figure size 432x288 with 1 Axes>"
      ]
     },
     "metadata": {
      "needs_background": "light"
     },
     "output_type": "display_data"
    }
   ],
   "source": []
  },
  {
   "cell_type": "code",
   "execution_count": 157,
   "metadata": {},
   "outputs": [
    {
     "data": {
      "text/plain": [
       "(2999980,)"
      ]
     },
     "execution_count": 157,
     "metadata": {},
     "output_type": "execute_result"
    }
   ],
   "source": [
    "unlabeled_data.shape"
   ]
  },
  {
   "cell_type": "code",
   "execution_count": 6,
   "metadata": {
    "collapsed": true
   },
   "outputs": [],
   "source": [
    "mask = (np.random.rand(130000) > 0.99999)"
   ]
  },
  {
   "cell_type": "code",
   "execution_count": 8,
   "metadata": {},
   "outputs": [
    {
     "data": {
      "text/plain": [
       "(array([28680]),)"
      ]
     },
     "execution_count": 8,
     "metadata": {},
     "output_type": "execute_result"
    }
   ],
   "source": [
    "np.where(mask == True)"
   ]
  },
  {
   "cell_type": "code",
   "execution_count": 62,
   "metadata": {
    "collapsed": true
   },
   "outputs": [],
   "source": [
    "from sklearn.base import BaseEstimator, RegressorMixin\n",
    "from sklearn.tree import DecisionTreeRegressor\n",
    "from sklearn.linear_model import SGDRegressor\n",
    "from sklearn.ensemble import RandomForestRegressor, GradientBoostingRegressor\n",
    "import numpy as np\n",
    "from collections import namedtuple, Counter\n",
    "from itertools import groupby\n",
    "from sklearn.externals import joblib\n",
    "from collections import Counter\n",
    "from functools import reduce\n",
    "from scipy.optimize import fmin\n",
    "import sklearn\n",
    "import sklearn.cluster\n",
    "\n",
    "def preprocess(X):\n",
    "    return np.concatenate([\n",
    "        X,\n",
    "        np.exp(X),\n",
    "        np.log(X),\n",
    "        np.sin(X),\n",
    "        np.sqrt(X),\n",
    "        np.square(X),\n",
    "        np.cbrt(X)\n",
    "    ], axis=1)\n",
    "\n",
    "\n",
    "class ActiveTree(BaseEstimator, RegressorMixin):\n",
    "    def __init__(self, lr=1e-1, k=1000, max_depth=10, percentile=0.75, sample_num_near=10, sample_num_random=10, cluster_num=10, sample_range=1.0):\n",
    "        self.lr = lr\n",
    "        self.k = k\n",
    "        self.max_depth = max_depth\n",
    "        self.percentile = percentile\n",
    "        self.sample_num_near = sample_num_near\n",
    "        self.sample_num_random = sample_num_random\n",
    "        self.cluster_num = cluster_num\n",
    "        self.sample_range = sample_range\n",
    "\n",
    "    def fit(self, X, y, U):\n",
    "        y = np.log(np.clip(y, 1e-10, None))\n",
    "        self.model = DecisionTreeRegressor(max_depth=self.max_depth)\n",
    "        self.B = RandomForestRegressor(n_estimators=10)\n",
    "        self.X, self.y = X, y\n",
    "\n",
    "        self.model.fit(self.X, self.y)\n",
    "        self.B.fit(preprocess(self.X), self.y)\n",
    "        self.U = U\n",
    "        return self\n",
    "\n",
    "    def partial_fit(self, X, y):\n",
    "        y = np.log(np.clip(y, 1e-10, None))\n",
    "        self.X = np.concatenate([self.X, X], axis=0)\n",
    "        self.y = np.concatenate([self.y, y], axis=0)\n",
    "\n",
    "        self.max_depth += 10\n",
    "        self.model = DecisionTreeRegressor(max_depth=self.max_depth)\n",
    "        \n",
    "        self.model.fit(self.X, self.y)\n",
    "\n",
    "    def wantedToKnow(self):\n",
    "        # max values\n",
    "        inds = self.model.apply(self.U)\n",
    "        values = self.model.tree_.value[inds, 0, 0]\n",
    "        th = np.percentile(values, int(100 * self.percentile))\n",
    "        top = np.where(values > th)[0]\n",
    "        i = top[np.random.randint(0, top.shape[0], size=self.sample_num_near)]\n",
    "        X_sample = self.sampleNear(self.U[i])\n",
    "        np.delete(self.U, i, axis=0)\n",
    "\n",
    "        # random values\n",
    "        X_sample = np.concatenate([X_sample, 10 * np.random.rand(self.sample_num_random, 3)], axis=0)\n",
    "\n",
    "        # maximum bootstrap loss values\n",
    "        y_pred = self.predict(self.U)\n",
    "        y_distr = self.B.predict(preprocess(self.U))\n",
    "        w = (y_pred - y_distr)**2\n",
    "        ind = np.argsort(w)[-min(w.shape[0], self.k):]\n",
    "        X_sample = np.concatenate([X_sample, self.U[ind]], axis=0)\n",
    "        np.delete(self.U, ind, axis=0)\n",
    "\n",
    "        # scipy optimizers\n",
    "        def tmp(x):\n",
    "            X = self.sampleNear([x])\n",
    "            return np.mean(self.predict(X))\n",
    "        \n",
    "        x0 = fmin(lambda x : -tmp(x), self.U[np.random.randint(0, self.U.shape[0])])\n",
    "        X_sample = np.concatenate([X_sample, self.sampleNear([x0])], axis=0)\n",
    "        \n",
    "        # clusters\n",
    "        cluster = sklearn.cluster.KMeans(n_clusters=self.cluster_num)\n",
    "        centers = cluster.fit(self.U).cluster_centers_ \n",
    "        X_sample = np.concatenate([X_sample, self.sampleNear(centers)], axis=0)\n",
    "\n",
    "        return X_sample\n",
    "\n",
    "    def sampleNear(self, X):\n",
    "        return np.concatenate([np.random.multivariate_normal(x, np.diag([self.sample_range] * 3), self.sample_num_near) for x in X], axis=0)   \n",
    "    \n",
    "    def predict(self, X):\n",
    "        return np.exp(self.model.predict(X))\n",
    "\n",
    "    def save(self):\n",
    "        joblib.dump(self.model, 'model.pkl')\n",
    "        \n",
    "    def restore(self):\n",
    "        self.model = joblib.load('model.pkl')\n",
    "\n"
   ]
  },
  {
   "cell_type": "code",
   "execution_count": 38,
   "metadata": {},
   "outputs": [
    {
     "data": {
      "text/plain": [
       "(8957, 3)"
      ]
     },
     "execution_count": 38,
     "metadata": {},
     "output_type": "execute_result"
    }
   ],
   "source": [
    "X_unlabeled.shape"
   ]
  },
  {
   "cell_type": "code",
   "execution_count": 67,
   "metadata": {},
   "outputs": [
    {
     "name": "stdout",
     "output_type": "stream",
     "text": [
      "Warning: Maximum number of function evaluations has been exceeded.\n"
     ]
    }
   ],
   "source": [
    "loss = lambda y_true, y_pred : np.sqrt(mean_squared_error(y_true, y_pred))\n",
    "model = ActiveTree()\n",
    "\n",
    "X_unlabeled = unlabeled_data\n",
    "y_unlabeled = test_labels\n",
    "mask = (np.random.rand(X_unlabeled.shape[0]) > 0.9)\n",
    "\n",
    "X_train = X_unlabeled[mask]\n",
    "y_train = y_unlabeled[mask]\n",
    "\n",
    "X_unlabeled = X_unlabeled[~mask, :]\n",
    "y_unlabeled = y_unlabeled[~mask]\n",
    "\n",
    "\n",
    "mask = (np.random.rand(X_unlabeled.shape[0]) > 0.99)\n",
    "\n",
    "X_test = X_unlabeled[mask]\n",
    "y_test = y_unlabeled[mask]\n",
    "\n",
    "model.fit(X_train, y_train, X_unlabeled)\n",
    "t = 0\n",
    "while(True):\n",
    "    try:\n",
    "        X_sample = model.wantedToKnow()\n",
    "        print(\"wanted to know\", X_sample.shape[0])\n",
    "\n",
    "        X_train, y_train = X_sample, np.fromiter(map(func, X_sample), np.float64)\n",
    "        model.partial_fit(X_train, y_train)\n",
    "        t += 1\n",
    "        y_pred = model.predict(X_test)\n",
    "        print(\"loss at %d is %f\" % (t, loss(y_test, y_pred)))\n",
    "    except KeyboardInterrupt:\n",
    "        break"
   ]
  },
  {
   "cell_type": "code",
   "execution_count": null,
   "metadata": {
    "collapsed": true
   },
   "outputs": [],
   "source": []
  },
  {
   "cell_type": "code",
   "execution_count": null,
   "metadata": {
    "collapsed": true
   },
   "outputs": [],
   "source": []
  },
  {
   "cell_type": "code",
   "execution_count": null,
   "metadata": {
    "collapsed": true
   },
   "outputs": [],
   "source": []
  },
  {
   "cell_type": "code",
   "execution_count": null,
   "metadata": {
    "collapsed": true
   },
   "outputs": [],
   "source": []
  },
  {
   "cell_type": "code",
   "execution_count": null,
   "metadata": {
    "collapsed": true
   },
   "outputs": [],
   "source": []
  },
  {
   "cell_type": "code",
   "execution_count": null,
   "metadata": {
    "collapsed": true
   },
   "outputs": [],
   "source": []
  }
 ],
 "metadata": {
  "kernelspec": {
   "display_name": "Python 3",
   "language": "python",
   "name": "python3"
  },
  "language_info": {
   "codemirror_mode": {
    "name": "ipython",
    "version": 3
   },
   "file_extension": ".py",
   "mimetype": "text/x-python",
   "name": "python",
   "nbconvert_exporter": "python",
   "pygments_lexer": "ipython3",
   "version": "3.6.5"
  }
 },
 "nbformat": 4,
 "nbformat_minor": 2
}
