{
 "cells": [
  {
   "cell_type": "code",
   "execution_count": 12,
   "metadata": {},
   "outputs": [],
   "source": [
    "from pyspark.ml.evaluation import RegressionEvaluator\n",
    "from pyspark.ml.recommendation import ALS\n",
    "from pyspark.ml.tuning import TrainValidationSplit, ParamGridBuilder\n",
    "import pyspark.sql.functions as F"
   ]
  },
  {
   "cell_type": "code",
   "execution_count": 2,
   "metadata": {},
   "outputs": [],
   "source": [
    "import os\n",
    "\n",
    "os.environ[\"PYSPARK_PYTHON\"]=\"/home/emil/.conda/envs/python2/bin/python2.7\"\n",
    "os.environ[\"PYSPARK_DRIVER_PYTHON\"]=\"/home/emil/.conda/envs/python2/bin/python2.7\""
   ]
  },
  {
   "cell_type": "code",
   "execution_count": 3,
   "metadata": {},
   "outputs": [],
   "source": [
    "from pyspark.sql import SparkSession\n",
    "\n",
    "spark = SparkSession.builder \\\n",
    "        .master(\"local\") \\\n",
    "        .appName(\"Word Count\") \\\n",
    "        .config(\"spark.some.config.option\", \"some-value\") \\\n",
    "        .getOrCreate()\n",
    "\n",
    "sc = spark.sparkContext\n",
    "data=sc.textFile(\"train.txt\", use_unicode=False)"
   ]
  },
  {
   "cell_type": "code",
   "execution_count": 4,
   "metadata": {},
   "outputs": [],
   "source": [
    "data = data.map(lambda x: [float(item) for item in x.split(\"\\t\")])"
   ]
  },
  {
   "cell_type": "code",
   "execution_count": 5,
   "metadata": {},
   "outputs": [],
   "source": [
    "df = spark.createDataFrame(data, [\"uid\", \"mid\", \"rat\"])"
   ]
  },
  {
   "cell_type": "code",
   "execution_count": 19,
   "metadata": {},
   "outputs": [],
   "source": [
    "df = df.withColumn(\"pred\", F.lit(1.0))"
   ]
  },
  {
   "cell_type": "code",
   "execution_count": 20,
   "metadata": {},
   "outputs": [
    {
     "name": "stdout",
     "output_type": "stream",
     "text": [
      "+---+----+---+----+\n",
      "|uid| mid|rat|pred|\n",
      "+---+----+---+----+\n",
      "|1.0| 1.0|5.0| 1.0|\n",
      "|1.0| 2.0|3.0| 1.0|\n",
      "|1.0| 3.0|4.0| 1.0|\n",
      "|1.0| 4.0|3.0| 1.0|\n",
      "|1.0| 5.0|3.0| 1.0|\n",
      "|1.0| 6.0|5.0| 1.0|\n",
      "|1.0| 7.0|4.0| 1.0|\n",
      "|1.0| 8.0|1.0| 1.0|\n",
      "|1.0| 9.0|5.0| 1.0|\n",
      "|1.0|10.0|3.0| 1.0|\n",
      "|1.0|11.0|2.0| 1.0|\n",
      "|1.0|12.0|5.0| 1.0|\n",
      "|1.0|13.0|5.0| 1.0|\n",
      "|1.0|14.0|5.0| 1.0|\n",
      "|1.0|15.0|5.0| 1.0|\n",
      "|1.0|16.0|5.0| 1.0|\n",
      "|1.0|17.0|3.0| 1.0|\n",
      "|1.0|18.0|4.0| 1.0|\n",
      "|1.0|19.0|5.0| 1.0|\n",
      "|1.0|21.0|1.0| 1.0|\n",
      "+---+----+---+----+\n",
      "only showing top 20 rows\n",
      "\n"
     ]
    }
   ],
   "source": [
    "df.show()"
   ]
  },
  {
   "cell_type": "code",
   "execution_count": 21,
   "metadata": {},
   "outputs": [],
   "source": [
    "(training, test) = df.randomSplit([0.8, 0.2])"
   ]
  },
  {
   "cell_type": "code",
   "execution_count": 22,
   "metadata": {},
   "outputs": [],
   "source": [
    "als = ALS(userCol=\"uid\", itemCol=\"mid\", ratingCol=\"rat\",\n",
    "          coldStartStrategy=\"drop\", nonnegative=True)"
   ]
  },
  {
   "cell_type": "code",
   "execution_count": 23,
   "metadata": {},
   "outputs": [],
   "source": [
    "param_grid = (ParamGridBuilder()\n",
    "              .addGrid(als.rank, [12,13,14])\n",
    "              .addGrid(als.maxIter, [18,19,20])\n",
    "              .addGrid(als.regParam, [.17,.18,.19])\n",
    "              .build())\n",
    "evaluator = RegressionEvaluator(metricName='rmse', labelCol='rat', predictionCol='prediction')\n",
    "tvs = TrainValidationSplit(estimator=als, estimatorParamMaps=param_grid, evaluator=evaluator)"
   ]
  },
  {
   "cell_type": "code",
   "execution_count": 25,
   "metadata": {},
   "outputs": [],
   "source": [
    "model = tvs.fit(training)"
   ]
  },
  {
   "cell_type": "code",
   "execution_count": 28,
   "metadata": {},
   "outputs": [
    {
     "data": {
      "text/plain": [
       "ALS_0769bc6f454a"
      ]
     },
     "execution_count": 28,
     "metadata": {},
     "output_type": "execute_result"
    }
   ],
   "source": [
    "model.bestModel"
   ]
  },
  {
   "cell_type": "code",
   "execution_count": 31,
   "metadata": {},
   "outputs": [
    {
     "name": "stdout",
     "output_type": "stream",
     "text": [
      "+-----+-----+---+----+----------+\n",
      "|  uid|  mid|rat|pred|prediction|\n",
      "+-----+-----+---+----+----------+\n",
      "|224.0|148.0|3.0| 1.0| 3.2040348|\n",
      "|479.0|148.0|2.0| 1.0| 2.7969046|\n",
      "|120.0|148.0|3.0| 1.0| 2.8998196|\n",
      "|430.0|148.0|2.0| 1.0| 2.8928638|\n",
      "|455.0|148.0|3.0| 1.0| 3.0570571|\n",
      "|891.0|148.0|5.0| 1.0| 3.9947226|\n",
      "|552.0|148.0|3.0| 1.0| 2.9523656|\n",
      "|880.0|148.0|2.0| 1.0| 3.1273022|\n",
      "| 49.0|148.0|1.0| 1.0| 1.7567825|\n",
      "|293.0|148.0|1.0| 1.0| 2.3282893|\n",
      "|320.0|148.0|4.0| 1.0| 3.3790927|\n",
      "| 21.0|148.0|1.0| 1.0| 2.3851006|\n",
      "|825.0|148.0|4.0| 1.0|  3.758829|\n",
      "|198.0|148.0|3.0| 1.0|  2.516036|\n",
      "|158.0|148.0|4.0| 1.0| 3.1702442|\n",
      "|506.0|148.0|3.0| 1.0| 3.2699554|\n",
      "|313.0|148.0|2.0| 1.0| 2.9741333|\n",
      "|399.0|148.0|4.0| 1.0| 2.7649565|\n",
      "|705.0|148.0|5.0| 1.0| 3.5423028|\n",
      "|932.0|148.0|2.0| 1.0| 2.9119356|\n",
      "+-----+-----+---+----+----------+\n",
      "only showing top 20 rows\n",
      "\n"
     ]
    }
   ],
   "source": [
    "predictions.show()"
   ]
  },
  {
   "cell_type": "code",
   "execution_count": 29,
   "metadata": {},
   "outputs": [
    {
     "name": "stdout",
     "output_type": "stream",
     "text": [
      "RMSE: 2.77514110243\n"
     ]
    }
   ],
   "source": [
    "best_model = model.bestModel\n",
    "predictions = best_model.transform(test)\n",
    "rmse = evaluator.evaluate(predictions)\n",
    "\n",
    "print(\"RMSE: \" + str(rmse))"
   ]
  }
 ],
 "metadata": {
  "kernelspec": {
   "display_name": "Python 2",
   "language": "python",
   "name": "python2"
  },
  "language_info": {
   "codemirror_mode": {
    "name": "ipython",
    "version": 2
   },
   "file_extension": ".py",
   "mimetype": "text/x-python",
   "name": "python",
   "nbconvert_exporter": "python",
   "pygments_lexer": "ipython2",
   "version": "2.7.15"
  }
 },
 "nbformat": 4,
 "nbformat_minor": 2
}
