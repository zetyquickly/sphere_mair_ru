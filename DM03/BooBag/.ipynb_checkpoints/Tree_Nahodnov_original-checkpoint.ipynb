{
 "cells": [
  {
   "cell_type": "code",
   "execution_count": 3,
   "metadata": {},
   "outputs": [],
   "source": [
    "class DataLoader:\n",
    "    def __init__(self, path):\n",
    "        self.path = path\n",
    "        \n",
    "    def get(self):\n",
    "        with open(self.path, \"r\") as f:\n",
    "            data = np.loadtxt(f)\n",
    "        y = data[:, 0] \n",
    "        X = data[:, 1:]\n",
    "        return X, y\n",
    "X_train, y_train = DataLoader(\"spam.train.txt\").get()\n",
    "X_test, y_test = DataLoader(\"spam.test.txt\").get()"
   ]
  },
  {
   "cell_type": "code",
   "execution_count": 21,
   "metadata": {
    "collapsed": true
   },
   "outputs": [],
   "source": [
    "import numpy as np\n",
    "from tqdm import tqdm_notebook as tqdm\n",
    "import threading\n",
    "\n",
    "\n",
    "class _Node:\n",
    "    def __init__(self, node_idx, eps=1e-5, threading_level=0):\n",
    "        self.node_idx = node_idx\n",
    "        self.eps = eps\n",
    "        self.threading_level = threading_level\n",
    "        self.is_leaf = False\n",
    "\n",
    "        self.n_obj = None\n",
    "\n",
    "        self.n_best_fea = None\n",
    "        self.threshold = None\n",
    "\n",
    "        self.left_node = None\n",
    "        self.right_node = None\n",
    "\n",
    "        self.prediction = None\n",
    "\n",
    "    def fit(self, x, y, depth, max_depth, min_samples_split=2, min_samples_leaf=1):\n",
    "        # if depth > 0 and depth == self.threading_level:\n",
    "        #     print('New Thread')\n",
    "        #     thread = threading.Thread(target=self.fit_, args=(x, y, depth, max_depth, min_samples_split, min_samples_leaf))\n",
    "        #     thread .start()\n",
    "        #     thread.join()\n",
    "        # else:\n",
    "        #     self.fit_(x, y, depth, max_depth, min_samples_split, min_samples_leaf)\n",
    "        self.fit_(x, y, depth, max_depth, min_samples_split, min_samples_leaf)\n",
    "\n",
    "    def fit_(self, x, y, depth, max_depth, min_samples_split=2, min_samples_leaf=1):\n",
    "        self.n_obj = x.shape[0]\n",
    "\n",
    "        if depth == max_depth or x.shape[0] < min_samples_split:\n",
    "            self.is_leaf = True\n",
    "            self.prediction = np.mean(y)\n",
    "            return\n",
    "\n",
    "        x_sliced = x\n",
    "        y_sliced = y\n",
    "\n",
    "        idx_sliced_sorted = np.argsort(x_sliced, axis=0)\n",
    "\n",
    "        x_sliced_sorted = np.sort(x_sliced, axis=0)\n",
    "        y_sliced_sorted = y_sliced[idx_sliced_sorted]\n",
    "\n",
    "        y_sq_cumsum = np.cumsum(y_sliced_sorted ** 2, axis=0)\n",
    "        y_sq_cumsum_reversed = np.cumsum(y_sliced_sorted[::-1] ** 2, axis=0)[::-1]\n",
    "\n",
    "        y_cumsum = np.cumsum(y_sliced_sorted, axis=0)\n",
    "        y_cumsum_reversed = np.cumsum(y_sliced_sorted[::-1], axis=0)[::-1]\n",
    "\n",
    "        cnt_array = np.array(range(1, y_cumsum.shape[0] + 1)).reshape(-1, 1)\n",
    "        #mse_left = y_sq_cumsum - y_cumsum ** 2 / cnt_array\n",
    "        #mse_right = y_sq_cumsum_reversed - y_cumsum_reversed ** 2 / cnt_array[::-1]\n",
    "        mse_left = y_cumsum ** 2 / cnt_array\n",
    "        mse_right = y_cumsum_reversed ** 2 / cnt_array[::-1]\n",
    "\n",
    "        mse = mse_left\n",
    "        mse[:-1] += mse_right[1:]\n",
    "\n",
    "        # exclude non valuable slices\n",
    "        garbage_fea = np.where(np.abs(np.max(x, axis=0) - np.min(x, axis=0)) < self.eps)[0]\n",
    "        if garbage_fea.shape[0] > 0:\n",
    "            mse[:, garbage_fea] = np.nan\n",
    "        # exclude (n, 0) slice\n",
    "        mse[-1] = np.nan\n",
    "        # exclude incorrect border slices\n",
    "        mse[x_sliced_sorted == np.roll(x_sliced_sorted, shift=-1, axis=0)] = np.nan\n",
    "\n",
    "        try:\n",
    "            #n_best_obj, self.n_best_fea = np.unravel_index(np.nanargmin(mse), mse.shape)\n",
    "            n_best_obj, self.n_best_fea = np.unravel_index(np.nanargmax(mse), mse.shape)\n",
    "        except ValueError:\n",
    "            self.is_leaf = True\n",
    "            self.prediction = np.mean(y)\n",
    "            return\n",
    "\n",
    "        self.threshold = (x_sliced_sorted[n_best_obj, self.n_best_fea] + \n",
    "                            x_sliced_sorted[n_best_obj + 1, self.n_best_fea]) / 2.0\n",
    "\n",
    "        left_obj = np.where(x[:, self.n_best_fea] <= self.threshold)[0]\n",
    "        right_obj = np.where(x[:, self.n_best_fea] > self.threshold)[0]\n",
    "        if left_obj.shape[0] < min_samples_leaf or right_obj.shape[0] < min_samples_leaf:\n",
    "            self.is_leaf = True\n",
    "            self.prediction = np.mean(y)\n",
    "            return\n",
    "        #print(\"Step:\", self.node_idx)\n",
    "        #print(mse)\n",
    "        self.left_node = _Node(2 * self.node_idx + 1, self.threading_level)\n",
    "        self.right_node = _Node(2 * self.node_idx + 2, self.threading_level)\n",
    "        self.left_node.fit(x[left_obj], y[left_obj], depth + 1, max_depth, min_samples_split)\n",
    "        self.right_node.fit(x[right_obj], y[right_obj], depth + 1, max_depth, min_samples_split)\n",
    "\n",
    "    def predict(self, x):\n",
    "        if self.is_leaf:\n",
    "            return self.prediction\n",
    "\n",
    "        prediction = np.empty([x.shape[0]])\n",
    "        left_obj = np.where(x[:, self.n_best_fea] <= self.threshold)\n",
    "        right_obj = np.where(x[:, self.n_best_fea] > self.threshold)\n",
    "\n",
    "        prediction[left_obj] = self.left_node.predict(x[left_obj])\n",
    "        prediction[right_obj] = self.right_node.predict(x[right_obj])\n",
    "\n",
    "        return prediction\n",
    "\n",
    "    def traverse(self):\n",
    "        if self.is_leaf:\n",
    "            return\n",
    "        self.left_node.traverse()\n",
    "        self.right_node.traverse()\n",
    "\n",
    "\n",
    "class RegressionDecisionTree:\n",
    "    def __init__(self, max_depth=1, min_samples_split=2, threading_level=0):\n",
    "        self.max_depth = max_depth\n",
    "        self.min_samples_split = min_samples_split\n",
    "        self.threading_level = threading_level\n",
    "\n",
    "        self.top_node = _Node(node_idx=0, threading_level=threading_level)\n",
    "\n",
    "    def fit(self, x, y):\n",
    "        self.top_node.fit(x, y, 0, self.max_depth, self.min_samples_split)\n",
    "\n",
    "    def predict(self, x):\n",
    "        return self.top_node.predict(x)\n",
    "\n",
    "    def traverse(self):\n",
    "        self.top_node.traverse()"
   ]
  },
  {
   "cell_type": "code",
   "execution_count": 9,
   "metadata": {},
   "outputs": [],
   "source": [
    "from sklearn.model_selection import train_test_split\n",
    "from sklearn.datasets import make_classification\n",
    "X, y = make_classification(n_samples=10000, n_features=1000,\n",
    "                           random_state=139, shuffle=False)\n",
    "X_train, X_test, y_train, y_test = train_test_split(X, y, test_size=0.5)"
   ]
  },
  {
   "cell_type": "code",
   "execution_count": 36,
   "metadata": {
    "scrolled": false
   },
   "outputs": [],
   "source": [
    "my_clf = RegressionDecisionTree(max_depth=10)\n",
    "\n",
    "my_clf.fit(X_train.astype(np.float64),y_train.astype(np.float64))\n",
    "\n"
   ]
  },
  {
   "cell_type": "code",
   "execution_count": 24,
   "metadata": {},
   "outputs": [
    {
     "data": {
      "application/vnd.jupyter.widget-view+json": {
       "model_id": "2614358390374e2dbc6f2d2d929ded07",
       "version_major": 2,
       "version_minor": 0
      },
      "text/plain": [
       "HBox(children=(IntProgress(value=0, max=7), HTML(value=u'')))"
      ]
     },
     "metadata": {},
     "output_type": "display_data"
    }
   ],
   "source": [
    "from sklearn.tree import DecisionTreeRegressor\n",
    "from sklearn.metrics import mean_squared_error\n",
    "\n",
    "my = []\n",
    "sk = []\n",
    "\n",
    "max_depth = 20\n",
    "for idx in tqdm(range(1, max_depth, 3)):\n",
    "    my_clf = RegressionDecisionTree(max_depth=idx)\n",
    "    sk_clf = DecisionTreeRegressor(max_depth=idx)\n",
    "    my_clf.fit(X_train.astype(np.float64),y_train.astype(np.float64))\n",
    "    sk_clf.fit(X_train.astype(np.float64),y_train.astype(np.float64))\n",
    "\n",
    "    my.append(mean_squared_error(y_test, my_clf.predict(X_test)))\n",
    "    sk.append(mean_squared_error(y_test, sk_clf.predict(X_test)))\n"
   ]
  },
  {
   "cell_type": "code",
   "execution_count": 25,
   "metadata": {},
   "outputs": [
    {
     "name": "stdout",
     "output_type": "stream",
     "text": [
      "22\n"
     ]
    }
   ],
   "source": [
    "sk_clf = DecisionTreeRegressor(max_depth=None)\n",
    "sk_clf.fit(X_train.astype(np.float64),y_train.astype(np.float64))\n",
    "print(sk_clf.tree_.max_depth)"
   ]
  },
  {
   "cell_type": "code",
   "execution_count": 25,
   "metadata": {},
   "outputs": [
    {
     "data": {
      "text/plain": [
       "<matplotlib.legend.Legend at 0x7f54338ec050>"
      ]
     },
     "execution_count": 25,
     "metadata": {},
     "output_type": "execute_result"
    },
    {
     "data": {
      "image/png": "[encoded data removed]",
      "text/plain": [
       "<Figure size 432x288 with 1 Axes>"
      ]
     },
     "metadata": {},
     "output_type": "display_data"
    }
   ],
   "source": [
    "from matplotlib import pyplot as plt\n",
    "%matplotlib inline\n",
    "plt.plot(my)\n",
    "plt.plot(sk)\n",
    "plt.legend([\"my\", \"sklearn\"])"
   ]
  }
 ],
 "metadata": {
  "kernelspec": {
   "display_name": "Python 2",
   "language": "python",
   "name": "python2"
  },
  "language_info": {
   "codemirror_mode": {
    "name": "ipython",
    "version": 2
   },
   "file_extension": ".py",
   "mimetype": "text/x-python",
   "name": "python",
   "nbconvert_exporter": "python",
   "pygments_lexer": "ipython2",
   "version": "2.7.14"
  }
 },
 "nbformat": 4,
 "nbformat_minor": 2
}
