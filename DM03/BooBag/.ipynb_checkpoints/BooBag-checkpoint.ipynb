{
 "cells": [
  {
   "cell_type": "code",
   "execution_count": 2,
   "metadata": {},
   "outputs": [],
   "source": [
    "from sklearn.ensemble import RandomForestClassifier\n",
    "import numpy as np\n",
    "from tqdm import tqdm_notebook as tqdm"
   ]
  },
  {
   "cell_type": "code",
   "execution_count": 3,
   "metadata": {},
   "outputs": [
    {
     "name": "stdout",
     "output_type": "stream",
     "text": [
      "0.9436848363325155\n"
     ]
    }
   ],
   "source": [
    "from sklearn.ensemble import RandomForestRegressor\n",
    "from sklearn.tree import DecisionTreeRegressor\n",
    "from sklearn.datasets import make_classification\n",
    "from sklearn.model_selection import train_test_split\n",
    "from sklearn.metrics import roc_auc_score\n",
    "from sklearn.ensemble import GradientBoostingClassifier\n",
    "X, y = make_classification(n_samples=10000, n_features=100,\n",
    "                           random_state=139, shuffle=False)\n",
    "X_train, X_test, y_train, y_test = train_test_split(X, y, test_size=0.33)\n",
    "clf = RandomForestRegressor(max_depth=2, random_state=139)\n",
    "clf.fit(X_train, y_train)\n",
    "print(roc_auc_score(y_test, clf.predict(X_test)))\n",
    "#print(clf.feature_importances_)"
   ]
  },
  {
   "cell_type": "code",
   "execution_count": null,
   "metadata": {
    "collapsed": true
   },
   "outputs": [],
   "source": [
    "tr = DecisionTreeRegressor(max_depth=2)\n",
    "tr.fit(X_train, y_train)"
   ]
  },
  {
   "cell_type": "code",
   "execution_count": null,
   "metadata": {
    "collapsed": true
   },
   "outputs": [],
   "source": [
    "print(np.where(tr.tree_.apply(X.astype(np.float32)) == 5)[0])\n",
    "print(tr.predict(X.astype(np.float32)))\n",
    "print(tr.tree_.children_left)\n",
    "\n",
    "for leaf in np.where(tr.tree_.children_left == TREE_LEAF)[0]:\n",
    "    #update_terminal_region(tree, terminal_regions, leaf, X, y, residual)\n",
    "    print(leaf)"
   ]
  },
  {
   "cell_type": "code",
   "execution_count": null,
   "metadata": {
    "collapsed": true
   },
   "outputs": [],
   "source": [
    "X_train.shape"
   ]
  },
  {
   "cell_type": "code",
   "execution_count": 3,
   "metadata": {
    "collapsed": true
   },
   "outputs": [],
   "source": [
    "class DataLoader:\n",
    "    def __init__(self, path):\n",
    "        self.path = path\n",
    "        \n",
    "    def get(self):\n",
    "        with open(self.path, \"r\") as f:\n",
    "            data = np.loadtxt(f)\n",
    "        y = data[:, 0] \n",
    "        X = data[:, 1:]\n",
    "        return X, y"
   ]
  },
  {
   "cell_type": "code",
   "execution_count": 4,
   "metadata": {
    "collapsed": true
   },
   "outputs": [],
   "source": [
    "X_train, y_train = DataLoader(\"spam.train.txt\").get()\n",
    "X_test, y_test = DataLoader(\"spam.test.txt\").get()\n",
    "\n",
    "# sk_boo = GradientBoostingClassifier(n_estimators=N, random_state=139)\n",
    "# sk_boo.fit(X_train, y_train)\n",
    "# roc_auc_score(y_test, sk_boo.predict_proba(X_test)[:,1])"
   ]
  },
  {
   "cell_type": "code",
   "execution_count": null,
   "metadata": {
    "collapsed": true
   },
   "outputs": [],
   "source": [
    "a = np.array([[1,2],[7,9]])\n",
    "np.cumsum(a ** 2, axis=0)\n",
    "a[-1] = np.nan\n",
    "a"
   ]
  },
  {
   "cell_type": "code",
   "execution_count": 5,
   "metadata": {
    "collapsed": true
   },
   "outputs": [],
   "source": [
    "import numpy as np\n",
    "\n",
    "class _Node:\n",
    "    def __init__(self, node_idx):\n",
    "        self.node_idx = node_idx\n",
    "        self.eps = 1e-3\n",
    "        self.is_leaf = False\n",
    "\n",
    "        self.n_obj = None\n",
    "\n",
    "        self.n_best_fea = None\n",
    "        self.threshold = None\n",
    "\n",
    "        self.left_node = None\n",
    "        self.right_node = None\n",
    "\n",
    "        self.prediction = None\n",
    "\n",
    "    def fit(self, x, y, depth, max_depth, min_samples_split=2, min_samples_leaf=1):\n",
    "        self.n_obj = x.shape[0]\n",
    "\n",
    "        if depth == max_depth or x.shape[0] < min_samples_split:\n",
    "            self.is_leaf = True\n",
    "            self.prediction = np.mean(y)\n",
    "            return\n",
    "\n",
    "        x_sliced = x\n",
    "        y_sliced = y\n",
    "        \n",
    "        # индексы отсортированных столбцов (признаков)\n",
    "        idx_sliced_sorted = np.argsort(x_sliced, axis=0)\n",
    "        \n",
    "        # отсортированные x, y\n",
    "        x_sliced_sorted = np.sort(x_sliced, axis=0)\n",
    "        y_sliced_sorted = y_sliced[idx_sliced_sorted]\n",
    "        \n",
    "        # получаем квадраты целей и аккумулируем их в последней строке\n",
    "        y_sq_cumsum = np.cumsum(y_sliced_sorted ** 2, axis=0)\n",
    "        # то же на развернутой матрице\n",
    "        y_sq_cumsum_reversed = np.cumsum(y_sliced_sorted[::-1] ** 2, axis=0)[::-1]\n",
    "        \n",
    "        # аккумуляция первых степеней\n",
    "        y_cumsum = np.cumsum(y_sliced_sorted, axis=0)\n",
    "        # аккумуляция первых степеней в развернутой матрице\n",
    "        y_cumsum_reversed = np.cumsum(y_sliced_sorted[::-1], axis=0)[::-1]\n",
    "\n",
    "        # считаем эмпирическую дисперсию (умноженную на n)\n",
    "        cnt_array = np.array(range(1, y_cumsum.shape[0] + 1)).reshape(-1, 1)\n",
    "        mse_left = y_sq_cumsum - y_cumsum ** 2 / cnt_array\n",
    "        mse_right = y_sq_cumsum_reversed - y_cumsum_reversed ** 2 / cnt_array[::-1]\n",
    "        \n",
    "        # скалдываем левый и правый вариант mse \n",
    "        mse = mse_left\n",
    "        mse[:-1] += mse_right[1:]\n",
    "\n",
    "        # исключаем из рассмотрения незначительные признаки (заполняя их nan)\n",
    "        garbage_fea = np.where(np.abs(np.max(x, axis=0) - np.min(x, axis=0)) < self.eps)[0]\n",
    "        if garbage_fea.shape[0] > 0:\n",
    "            mse[:, garbage_fea] = np.nan\n",
    "        # исключаем последнюю строку\n",
    "        mse[-1] = np.nan\n",
    "        # исключаем случаи разделения по признакам с равным значениями mse\n",
    "        mse[x_sliced_sorted == np.roll(x_sliced_sorted, shift=-1, axis=0)] = np.nan\n",
    "        \n",
    "        # получаем двумерные индексы в матрице mse \n",
    "        try:\n",
    "            n_best_obj, self.n_best_fea = np.unravel_index(np.nanargmin(mse), mse.shape)\n",
    "        except ValueError:\n",
    "            self.is_leaf = True\n",
    "            self.prediction = np.mean(y)\n",
    "            return\n",
    "        \n",
    "        # фиксируем порог\n",
    "        self.threshold = x_sliced_sorted[n_best_obj, self.n_best_fea]\n",
    "\n",
    "        # получаем индексы левой и правой подматрице\n",
    "        left_obj = np.where(x[:, self.n_best_fea] <= self.threshold)[0]\n",
    "        right_obj = np.where(x[:, self.n_best_fea] > self.threshold)[0]\n",
    "        if left_obj.shape[0] < min_samples_leaf or right_obj.shape[0] < min_samples_leaf:\n",
    "            self.is_leaf = True\n",
    "            self.prediction = np.mean(y)\n",
    "            return\n",
    "        \n",
    "        self.left_node = _Node(2 * self.node_idx + 1)\n",
    "        self.right_node = _Node(2 * self.node_idx + 2)\n",
    "        self.left_node.fit(x[left_obj], y[left_obj], depth + 1, max_depth, min_samples_split)\n",
    "        self.right_node.fit(x[right_obj], y[right_obj], depth + 1, max_depth, min_samples_split)\n",
    "\n",
    "    def predict(self, x):\n",
    "        if self.is_leaf:\n",
    "            return self.prediction\n",
    "\n",
    "        prediction = np.empty([x.shape[0]])\n",
    "        left_obj = np.where(x[:, self.n_best_fea] <= self.threshold)\n",
    "        right_obj = np.where(x[:, self.n_best_fea] > self.threshold)\n",
    "\n",
    "        prediction[left_obj] = self.left_node.predict(x[left_obj])\n",
    "        prediction[right_obj] = self.right_node.predict(x[right_obj])\n",
    "\n",
    "        return prediction\n",
    "    \n",
    "    def apply(self, x):\n",
    "        if self.is_leaf:\n",
    "            return self.node_idx\n",
    "        \n",
    "        idx = np.empty([x.shape[0]], dtype=np.int32)\n",
    "        left_obj = np.where(x[:, self.n_best_fea] <= self.threshold)\n",
    "        right_obj = np.where(x[:, self.n_best_fea] > self.threshold)\n",
    "\n",
    "        idx[left_obj] = self.left_node.apply(x[left_obj])\n",
    "        idx[right_obj] = self.right_node.apply(x[right_obj])\n",
    "\n",
    "        return idx\n",
    "\n",
    "    def traverse(self, nodes_list):\n",
    "        nodes_list.append(self)\n",
    "        if self.is_leaf:\n",
    "            return\n",
    "        self.left_node.traverse(nodes_list)\n",
    "        self.right_node.traverse(nodes_list)\n",
    "            \n",
    "        \n",
    "class RegressionDecisionTree:\n",
    "    def __init__(self, max_depth=1, min_samples_split=2):\n",
    "        self.max_depth = max_depth\n",
    "        self.min_samples_split = min_samples_split\n",
    "\n",
    "        self.top_node = _Node(node_idx=0)\n",
    "        self.nodes = []\n",
    "\n",
    "    def fit(self, x, y):\n",
    "        self.top_node.fit(x, y, 0, self.max_depth, self.min_samples_split)\n",
    "        self.traverse()\n",
    "\n",
    "    def predict(self, x):\n",
    "        return self.top_node.predict(x)\n",
    "\n",
    "    def traverse(self):\n",
    "        return self.top_node.traverse(self.nodes)\n",
    "        \n",
    "    def __getitem__(self, key):\n",
    "        for item in self.nodes:\n",
    "            if item.node_idx == key:\n",
    "                return item\n",
    "    "
   ]
  },
  {
   "cell_type": "code",
   "execution_count": 6,
   "metadata": {},
   "outputs": [
    {
     "name": "stdout",
     "output_type": "stream",
     "text": [
      "0.8038803712322645\n",
      "0.7920565192582394\n",
      "[<__main__._Node instance at 0x7ff699a91368>, <__main__._Node instance at 0x7ff663b3f0e0>, <__main__._Node instance at 0x7ff69a701b00>]\n"
     ]
    }
   ],
   "source": [
    "clf = RegressionDecisionTree()\n",
    "sk_clf = DecisionTreeRegressor()\n",
    "clf.fit(X_train.astype(np.float64),y_train.astype(np.float64))\n",
    "print(roc_auc_score(y_test, clf.predict(X_test)))\n",
    "sk_clf.fit(X_train.astype(np.float64),y_train.astype(np.float64))\n",
    "print(roc_auc_score(y_test, sk_clf.predict(X_test)))\n",
    "#print(clf.tree_.apply(X_test))\n",
    "#print(clf.leafs)\n",
    "print(clf.nodes)"
   ]
  },
  {
   "cell_type": "code",
   "execution_count": 8,
   "metadata": {
    "collapsed": true
   },
   "outputs": [],
   "source": [
    "class Bagging(object):\n",
    "    \n",
    "    def __init__(self, max_depth = 3, n_estimators = 30, subsample_size = 5000, max_features=100):\n",
    "            \n",
    "        self.max_depth = max_depth\n",
    "        self.n_estimators = n_estimators\n",
    "        self.subsample_size = subsample_size\n",
    "        self.max_features = max_features\n",
    "#         self.estimators_ = [DecisionTreeRegressor(max_depth=max_depth, random_state=139)\n",
    "#                            for _ in range(self.n_estimators)]\n",
    "        self.estimators_ = [RegressionDecisionTree(max_depth=max_depth)\n",
    "                               for _ in range(self.n_estimators)]\n",
    "        self.rsm_indices = []\n",
    "    \n",
    "    def get_bootstrap_samples(self, X, y):\n",
    "        indices = np.random.choice(X.shape[0], self.subsample_size, replace=True)\n",
    "        rsm_indices = np.random.choice(X.shape[1], self.max_features, replace=False)\n",
    "        #rsm_indices = np.arange(int(np.sqrt(X.shape[1])))\n",
    "        #self.rsm_indices.append(rsm_indices)\n",
    "        samples_X = X[indices,:]#[:,rsm_indices]\n",
    "        samples_y = y_train[indices]\n",
    "        return samples_X, samples_y\n",
    "\n",
    "#         n_samples = X.shape[0]\n",
    "\n",
    "#         indices = np.random.randint(0, n_samples, n_samples)\n",
    "#         samples_X = X[indices,:]\n",
    "#         samples_y = y_train[indices]\n",
    "        \n",
    "#         return samples_X, samples_y\n",
    "    \n",
    "    def fit(self, data_train, y_train):        \n",
    "        for i in range(self.n_estimators):\n",
    "            samples_train, samples_y = self.get_bootstrap_samples(data_train, y_train)\n",
    "            self.estimators_[i].built_tree = self.estimators_[i].fit(samples_train.astype(np.float64), samples_y.astype(np.float64))\n",
    "                \n",
    "    def predict(self, X_test):      \n",
    "        pred = []\n",
    "        for i in range(self.n_estimators):\n",
    "            #pred.append(self.estimators_[i].predict(X_test[:, self.rsm_indices[i]].astype(np.float64)))\n",
    "            pred.append(self.estimators_[i].predict(X_test.astype(np.float64)))\n",
    "        return np.mean(pred, axis=0)\n",
    "\n",
    "    "
   ]
  },
  {
   "cell_type": "code",
   "execution_count": 9,
   "metadata": {
    "collapsed": true
   },
   "outputs": [],
   "source": [
    "def sigmoid(h):\n",
    "    return 1./(1. + np.exp(-h))\n",
    "\n",
    "class Boosting(object):\n",
    "    def __init__(self):\n",
    "        self.boo = []\n",
    "        \n",
    "    def append(self, bag):\n",
    "        self.boo.append(bag)\n",
    "        \n",
    "    def predict(self, X):\n",
    "        prediction = np.zeros(X.shape[0])\n",
    "        for bag in self.boo:\n",
    "            prediction += bag.predict(X)\n",
    "        return prediction\n",
    "    \n",
    "    def _dLdh(self, y_true, y_pred):\n",
    "        return sigmoid(y_pred) - y_true\n",
    "    \n",
    "    def next_values(self, y_true, y_pred):\n",
    "        return -self._dLdh(y_true, y_pred)\n",
    "    "
   ]
  },
  {
   "cell_type": "code",
   "execution_count": 10,
   "metadata": {
    "collapsed": true
   },
   "outputs": [],
   "source": [
    "\n",
    "def update_terminal_region(terminal_regions, leaf, X, y, residual):\n",
    "        \"\"\"Make a single Newton-Raphson step.\n",
    "\n",
    "        our node estimate is given by:\n",
    "\n",
    "            sum((y - prob)) / sum(prob * (1 - prob))\n",
    "\n",
    "        we take advantage that: y - prob = residual\n",
    "        \"\"\"\n",
    "        terminal_region = np.where(terminal_regions.astype(np.int32) == leaf.node_idx)[0]\n",
    "        residual = residual.take(terminal_region, axis=0)\n",
    "        y = y.take(terminal_region, axis=0)\n",
    "\n",
    "        numerator = np.sum(residual)\n",
    "        denominator = np.sum((y - residual) * (1 - y + residual))\n",
    "\n",
    "        # prevents overflow and division by zero\n",
    "        if abs(denominator) < 1e-150:\n",
    "            leaf.prediction = 0.0\n",
    "        else:\n",
    "            leaf.prediction = numerator / denominator\n",
    "\n",
    "\n",
    "def optimize_leafs(forest, X, y, residual):\n",
    "    #tree = forest\n",
    "    for tree in bag.estimators_:\n",
    "        terminal_regions = tree.top_node.apply(X.astype(np.float32))\n",
    "        for node in tree.nodes:\n",
    "            if node.is_leaf:\n",
    "                update_terminal_region(terminal_regions, node, X, y, residual)"
   ]
  },
  {
   "cell_type": "code",
   "execution_count": null,
   "metadata": {
    "collapsed": true
   },
   "outputs": [],
   "source": [
    "# sklearn interface\n",
    "# from sklearn.tree._tree import TREE_LEAF\n",
    "\n",
    "# def update_terminal_region(tree, terminal_regions, leaf, X, y, residual):\n",
    "#         \"\"\"Make a single Newton-Raphson step.\n",
    "\n",
    "#         our node estimate is given by:\n",
    "\n",
    "#             sum((y - prob)) / sum(prob * (1 - prob))\n",
    "\n",
    "#         we take advantage that: y - prob = residual\n",
    "#         \"\"\"\n",
    "#         terminal_region = np.where(terminal_regions == leaf)[0]\n",
    "#         residual = residual.take(terminal_region, axis=0)\n",
    "#         y = y.take(terminal_region, axis=0)\n",
    "\n",
    "#         numerator = np.sum(residual)\n",
    "#         denominator = np.sum((y - residual) * (1 - y + residual))\n",
    "\n",
    "#         # prevents overflow and division by zero\n",
    "#         if abs(denominator) < 1e-150:\n",
    "#             tree.value[leaf, 0, 0] = 0.0\n",
    "#         else:\n",
    "#             tree.value[leaf, 0, 0] = numerator / denominator\n",
    "\n",
    "\n",
    "# def optimize_leafs(forest, X, y, residual):\n",
    "#     for tree in bag.estimators_:\n",
    "#         tree = tree.tree_\n",
    "#         terminal_regions = tree.apply(X.astype(np.float32))\n",
    "#         for leaf in np.where(tree.children_left == TREE_LEAF)[0]:\n",
    "#             update_terminal_region(tree, terminal_regions, leaf, X, y, residual)\n"
   ]
  },
  {
   "cell_type": "code",
   "execution_count": 13,
   "metadata": {
    "collapsed": true
   },
   "outputs": [],
   "source": [
    "def LogLoss(y_true, y_pred):\n",
    "    return np.sum(-y_true*np.log(sigmoid(y_pred)) - (1 - y_true)*np.log(1 - sigmoid(y_pred)))"
   ]
  },
  {
   "cell_type": "code",
   "execution_count": 11,
   "metadata": {},
   "outputs": [
    {
     "data": {
      "application/vnd.jupyter.widget-view+json": {
       "model_id": "fe8195d65b70436985764b949d78c8ee",
       "version_major": 2,
       "version_minor": 0
      },
      "text/plain": [
       "HBox(children=(IntProgress(value=0, max=20), HTML(value=u'')))"
      ]
     },
     "metadata": {},
     "output_type": "display_data"
    },
    {
     "name": "stdout",
     "output_type": "stream",
     "text": [
      "\n",
      "(0.9878791145344626, 0.9566143120623632)\n"
     ]
    },
    {
     "data": {
      "text/plain": [
       "0.9692422651821415"
      ]
     },
     "execution_count": 11,
     "metadata": {},
     "output_type": "execute_result"
    }
   ],
   "source": [
    "N = 20\n",
    "boo = Boosting()\n",
    "labels_to_predict = y_train\n",
    "h_i = np.zeros(X_train.shape[0])\n",
    "eta = 0.1\n",
    "\n",
    "#bag = RandomForestRegressor(max_depth=3, random_state=139)# обучаем лесок на текущих метках\n",
    "bag = Bagging(subsample_size = 7093, max_features=102)\n",
    "#bag = RegressionDecisionTree()\n",
    "bag.fit(X_train, labels_to_predict)\n",
    "boo.append(bag)\n",
    "for idx in tqdm(range(N)):  \n",
    "    h_i = h_i + bag.predict(X_train)\n",
    "    #print(np.sum(boo._dLdh(y_train, h_i)))\n",
    "    labels_to_predict = boo.next_values(y_train, h_i)# делаем шаг бустинга\n",
    "    \n",
    "    #bag = RandomForestRegressor(max_depth=3, random_state=139)# обучаем лесок на текущих метках\n",
    "    #bag = DecisionTreeRegressor(max_depth=3, random_state=139)\n",
    "    bag = Bagging(n_estimators=50, subsample_size = 1000, max_features=60)\n",
    "    #bag = RegressionDecisionTree()\n",
    "    bag.fit(X_train, labels_to_predict)\n",
    "    boo.append(bag)\n",
    "    \n",
    "    optimize_leafs(bag, X_train, y_train, labels_to_predict)\n",
    "\n",
    "    \n",
    "    \n",
    "print(roc_auc_score(y_train, boo.predict(X_train)),\n",
    "      roc_auc_score(y_test, boo.predict(X_test)))\n",
    "\n",
    "sk_boo = GradientBoostingClassifier(n_estimators=N, random_state=139)\n",
    "sk_boo.fit(X_train, y_train)\n",
    "roc_auc_score(y_test, sk_boo.predict_proba(X_test)[:,1])"
   ]
  },
  {
   "cell_type": "code",
   "execution_count": null,
   "metadata": {
    "collapsed": true
   },
   "outputs": [],
   "source": [
    "sk_boo.predict_proba(X_test)[:, 1]"
   ]
  },
  {
   "cell_type": "code",
   "execution_count": null,
   "metadata": {
    "collapsed": true
   },
   "outputs": [],
   "source": [
    "y_test"
   ]
  },
  {
   "cell_type": "code",
   "execution_count": null,
   "metadata": {
    "collapsed": true
   },
   "outputs": [],
   "source": [
    "print(boo.predict(X_test))"
   ]
  },
  {
   "cell_type": "code",
   "execution_count": 14,
   "metadata": {},
   "outputs": [
    {
     "name": "stdout",
     "output_type": "stream",
     "text": [
      "Test\n",
      "3297.913642047876\n",
      "3034.095319676036\n",
      "1.0869512307873073\n",
      "Train\n",
      "1015.4797183306739\n",
      "1625.8383504320245\n",
      "0.6245883657873099\n"
     ]
    }
   ],
   "source": [
    "print(\"Test\")\n",
    "print(LogLoss(y_test, boo.predict(X_test)))\n",
    "print(LogLoss(y_test, sk_boo.decision_function(X_test)))\n",
    "print(LogLoss(y_test, boo.predict(X_test)) / LogLoss(y_test, sk_boo.decision_function(X_test)))\n",
    "\n",
    "print(\"Train\")\n",
    "print(LogLoss(y_train, boo.predict(X_train)))\n",
    "print(LogLoss(y_train, sk_boo.decision_function(X_train)))\n",
    "print(LogLoss(y_train, boo.predict(X_train)) / LogLoss(y_train, sk_boo.decision_function(X_train)))\n"
   ]
  },
  {
   "cell_type": "code",
   "execution_count": null,
   "metadata": {
    "collapsed": true
   },
   "outputs": [],
   "source": [
    "np.random.choice(X.shape[1], 100, replace=True)"
   ]
  },
  {
   "cell_type": "code",
   "execution_count": null,
   "metadata": {
    "collapsed": true
   },
   "outputs": [],
   "source": [
    "bag = Bagging()\n",
    "bag.fit(X_train, y_train)\n",
    "roc_auc_score(y_test, bag.predict(X_test))"
   ]
  },
  {
   "cell_type": "code",
   "execution_count": null,
   "metadata": {
    "collapsed": true
   },
   "outputs": [],
   "source": [
    "boo.boo"
   ]
  },
  {
   "cell_type": "markdown",
   "metadata": {},
   "source": [
    "## Передерываю"
   ]
  },
  {
   "cell_type": "code",
   "execution_count": 1,
   "metadata": {
    "collapsed": true
   },
   "outputs": [],
   "source": [
    "import numpy as np\n",
    "\n",
    "class _Node:\n",
    "    def __init__(self, node_idx):\n",
    "        self.node_idx = node_idx\n",
    "        self.eps = 1e-3\n",
    "        self.is_leaf = False\n",
    "\n",
    "        self.n_obj = None\n",
    "\n",
    "        self.n_best_fea = None\n",
    "        self.threshold = None\n",
    "\n",
    "        self.left_node = None\n",
    "        self.right_node = None\n",
    "\n",
    "        self.prediction = None\n",
    "\n",
    "    def fit(self, x, y, depth, max_depth, min_samples_split=2, min_samples_leaf=1):\n",
    "        self.n_obj = x.shape[0]\n",
    "\n",
    "        if depth == max_depth or x.shape[0] < min_samples_split:\n",
    "            self.is_leaf = True\n",
    "            self.prediction = np.mean(y)\n",
    "            return\n",
    "\n",
    "        x_sliced = x\n",
    "        y_sliced = y\n",
    "        \n",
    "        # индексы отсортированных столбцов (признаков)\n",
    "        idx_sliced_sorted = np.argsort(x_sliced, axis=0)\n",
    "        \n",
    "        # отсортированные x, y\n",
    "        x_sliced_sorted = np.sort(x_sliced, axis=0)\n",
    "        y_sliced_sorted = y_sliced[idx_sliced_sorted]\n",
    "        \n",
    "        # получаем квадраты целей и аккумулируем их к последней строке\n",
    "        y_sq_cumsum = np.cumsum(y_sliced_sorted ** 2, axis=0)\n",
    "        # то же на развернутой матрице\n",
    "        y_sq_cumsum_reversed = np.cumsum(y_sliced_sorted[::-1] ** 2, axis=0)[::-1]\n",
    "        \n",
    "        # аккумуляция первых степеней\n",
    "        y_cumsum = np.cumsum(y_sliced_sorted, axis=0)\n",
    "        # аккумуляция первых степеней в развернутой матрице\n",
    "        y_cumsum_reversed = np.cumsum(y_sliced_sorted[::-1], axis=0)[::-1]\n",
    "\n",
    "        # считаем эмпирическую дисперсию (умноженную на n)\n",
    "        cnt_array = np.array(range(1, y_cumsum.shape[0] + 1)).reshape(-1, 1)\n",
    "        mse_left = y_sq_cumsum - y_cumsum ** 2 / cnt_array\n",
    "        mse_right = y_sq_cumsum_reversed - y_cumsum_reversed ** 2 / cnt_array[::-1]\n",
    "        \n",
    "        # скалдываем левый и правый вариант mse \n",
    "        mse = mse_left\n",
    "        mse[:-1] += mse_right[1:]\n",
    "\n",
    "        # исключаем из рассмотрения незначительные признаки (заполняя их nan)\n",
    "        garbage_fea = np.where(np.abs(np.max(x, axis=0) - np.min(x, axis=0)) < self.eps)[0]\n",
    "        if garbage_fea.shape[0] > 0:\n",
    "            mse[:, garbage_fea] = np.nan\n",
    "        # исключаем последнюю строку\n",
    "        mse[-1] = np.nan\n",
    "        # исключаем случаи разделения по признакам с равным значениями mse\n",
    "        mse[x_sliced_sorted == np.roll(x_sliced_sorted, shift=-1, axis=0)] = np.nan\n",
    "        \n",
    "        # получаем двумерные индексы в матрице mse \n",
    "        try:\n",
    "            n_best_obj, self.n_best_fea = np.unravel_index(np.nanargmin(mse), mse.shape)\n",
    "        except ValueError:\n",
    "            self.is_leaf = True\n",
    "            self.prediction = np.mean(y)\n",
    "            return\n",
    "        \n",
    "        # фиксируем порог\n",
    "        self.threshold = (x_sliced_sorted[n_best_obj, self.n_best_fea] + \n",
    "                            x_sliced_sorted[n_best_obj + 1, self.n_best_fea]) / 2.0\n",
    "\n",
    "        # получаем индексы левой и правой подматрице\n",
    "        left_obj = np.where(x[:, self.n_best_fea] <= self.threshold)[0]\n",
    "        right_obj = np.where(x[:, self.n_best_fea] > self.threshold)[0]\n",
    "        if left_obj.shape[0] < min_samples_leaf or right_obj.shape[0] < min_samples_leaf:\n",
    "            self.is_leaf = True\n",
    "            self.prediction = np.mean(y)\n",
    "            return\n",
    "        \n",
    "        self.left_node = _Node(2 * self.node_idx + 1)\n",
    "        self.right_node = _Node(2 * self.node_idx + 2)\n",
    "        self.left_node.fit(x[left_obj], y[left_obj], depth + 1, max_depth, min_samples_split)\n",
    "        self.right_node.fit(x[right_obj], y[right_obj], depth + 1, max_depth, min_samples_split)\n",
    "\n",
    "    def predict(self, x):\n",
    "        if self.is_leaf:\n",
    "            return self.prediction\n",
    "\n",
    "        prediction = np.empty([x.shape[0]])\n",
    "        left_obj = np.where(x[:, self.n_best_fea] <= self.threshold)\n",
    "        right_obj = np.where(x[:, self.n_best_fea] > self.threshold)\n",
    "\n",
    "        prediction[left_obj] = self.left_node.predict(x[left_obj])\n",
    "        prediction[right_obj] = self.right_node.predict(x[right_obj])\n",
    "\n",
    "        return prediction\n",
    "    \n",
    "    def apply(self, x):\n",
    "        if self.is_leaf:\n",
    "            return self.node_idx\n",
    "        \n",
    "        idx = np.empty([x.shape[0]], dtype=np.int32)\n",
    "        left_obj = np.where(x[:, self.n_best_fea] <= self.threshold)\n",
    "        right_obj = np.where(x[:, self.n_best_fea] > self.threshold)\n",
    "\n",
    "        idx[left_obj] = self.left_node.apply(x[left_obj])\n",
    "        idx[right_obj] = self.right_node.apply(x[right_obj])\n",
    "\n",
    "        return idx\n",
    "\n",
    "    def traverse(self, nodes_list):\n",
    "        nodes_list.append(self)\n",
    "        if self.is_leaf:\n",
    "            return\n",
    "        self.left_node.traverse(nodes_list)\n",
    "        self.right_node.traverse(nodes_list)\n",
    "            \n",
    "        \n",
    "class RegressionDecisionTree:\n",
    "    def __init__(self, max_depth=1, min_samples_split=2):\n",
    "        self.max_depth = max_depth\n",
    "        self.min_samples_split = min_samples_split\n",
    "\n",
    "        self.top_node = _Node(node_idx=0)\n",
    "        self.nodes = []\n",
    "\n",
    "    def fit(self, x, y):\n",
    "        self.top_node.fit(x, y, 0, self.max_depth, self.min_samples_split)\n",
    "        self.traverse()\n",
    "\n",
    "    def predict(self, x):\n",
    "        return self.top_node.predict(x)\n",
    "\n",
    "    def traverse(self):\n",
    "        return self.top_node.traverse(self.nodes)\n",
    "        \n",
    "    def __getitem__(self, key):\n",
    "        for item in self.nodes:\n",
    "            if item.node_idx == key:\n",
    "                return item\n",
    "    "
   ]
  }
 ],
 "metadata": {
  "kernelspec": {
   "display_name": "Python 2",
   "language": "python",
   "name": "python2"
  },
  "language_info": {
   "codemirror_mode": {
    "name": "ipython",
    "version": 2
   },
   "file_extension": ".py",
   "mimetype": "text/x-python",
   "name": "python",
   "nbconvert_exporter": "python",
   "pygments_lexer": "ipython2",
   "version": "2.7.14"
  }
 },
 "nbformat": 4,
 "nbformat_minor": 2
}
