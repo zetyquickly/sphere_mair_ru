{
 "cells": [
  {
   "cell_type": "code",
   "execution_count": 6,
   "metadata": {},
   "outputs": [],
   "source": [
    "from sklearn.ensemble import RandomForestClassifier\n",
    "import numpy as np\n",
    "from tqdm import tqdm_notebook as tqdm"
   ]
  },
  {
   "cell_type": "code",
   "execution_count": 7,
   "metadata": {},
   "outputs": [
    {
     "name": "stdout",
     "output_type": "stream",
     "text": [
      "0.9396798205048777\n"
     ]
    }
   ],
   "source": [
    "from sklearn.ensemble import RandomForestRegressor\n",
    "from sklearn.tree import DecisionTreeRegressor\n",
    "from sklearn.datasets import make_classification\n",
    "from sklearn.model_selection import train_test_split\n",
    "from sklearn.metrics import roc_auc_score\n",
    "from sklearn.ensemble import GradientBoostingClassifier\n",
    "X, y = make_classification(n_samples=10000, n_features=100,\n",
    "                           random_state=139, shuffle=False)\n",
    "X_train, X_test, y_train, y_test = train_test_split(X, y, test_size=0.33)\n",
    "clf = RandomForestRegressor(max_depth=2, random_state=139)\n",
    "clf.fit(X_train, y_train)\n",
    "print(roc_auc_score(y_test, clf.predict(X_test)))\n",
    "#print(clf.feature_importances_)"
   ]
  },
  {
   "cell_type": "code",
   "execution_count": 8,
   "metadata": {},
   "outputs": [
    {
     "data": {
      "text/plain": [
       "DecisionTreeRegressor(criterion='mse', max_depth=2, max_features=None,\n",
       "           max_leaf_nodes=None, min_impurity_decrease=0.0,\n",
       "           min_impurity_split=None, min_samples_leaf=1,\n",
       "           min_samples_split=2, min_weight_fraction_leaf=0.0,\n",
       "           presort=False, random_state=None, splitter='best')"
      ]
     },
     "execution_count": 8,
     "metadata": {},
     "output_type": "execute_result"
    }
   ],
   "source": [
    "tr = DecisionTreeRegressor(max_depth=2)\n",
    "tr.fit(X_train, y_train)"
   ]
  },
  {
   "cell_type": "code",
   "execution_count": 9,
   "metadata": {},
   "outputs": [
    {
     "name": "stdout",
     "output_type": "stream",
     "text": [
      "[3165 3381 3779 3783 3969 4175 4524 4676 4748 5010 5014 5022 5024 5029\n",
      " 5050 5063 5068 5073 5074 5089 5129 5132 5139 5140 5143 5144 5154 5184\n",
      " 5196 5242 5254 5270 5290 5291 5295 5299 5303 5307 5312 5316 5320 5333\n",
      " 5340 5360 5368 5372 5380 5408 5420 5426 5427 5432 5437 5442 5446 5456\n",
      " 5462 5471 5473 5474 5475 5491 5495 5504 5513 5514 5530 5533 5537 5538\n",
      " 5541 5554 5555 5556 5558 5572 5585 5603 5610 5611 5613 5628 5639 5654\n",
      " 5664 5675 5680 5688 5689 5720 5753 5772 5773 5774 5775 5786 5787 5794\n",
      " 5804 5805 5806 5810 5834 5852 5854 5876 5886 5913 5922 5931 5939 5953\n",
      " 5955 5961 5973 5977 5987 5993 5994 6003 6028 6047 6057 6064 6069 6073\n",
      " 6077 6088 6102 6107 6132 6138 6161 6171 6174 6181 6186 6197 6200 6205\n",
      " 6220 6243 6256 6257 6258 6261 6265 6267 6275 6278 6288 6306 6307 6325\n",
      " 6328 6357 6363 6368 6371 6375 6402 6406 6416 6419 6428 6460 6469 6471\n",
      " 6475 6478 6479 6480 6481 6509 6514 6531 6540 6574 6578 6584 6590 6613\n",
      " 6655 6668 6669 6681 6702 6730 6736 6750 6765 6780 6785 6803 6808 6822\n",
      " 6827 6843 6846 6847 6849 6876 6877 6879 6887 6895 6912 6919 6922 6931\n",
      " 6940 6957 6976 7006 7009 7016 7021 7025 7038 7063 7086 7090 7094 7147\n",
      " 7151 7159 7172 7181 7189 7193 7198 7199 7213 7227 7246 7249 7251 7271\n",
      " 7295 7297 7318 7354 7355 7356 7366 7367 7417 7424 7429 7452 7453 7463\n",
      " 7469 7472 7473 7485 7486 7488 7491 7505 7508 7510 7537 7539 7551 7562\n",
      " 7564 7569 7570 7572 7606 7614 7624 7627 7628 7635 7641 7643 7661 7668\n",
      " 7676 7679 7698 7705 7706 7721 7734 7736 7757 7770 7773 7778 7788 7796\n",
      " 7823 7825 7837 7850 7851 7860 7863 7872 7877 7886 7888 7897 7898 7929\n",
      " 7932 7935 7938 7945 7947 7953 7956 7958 7974 7991 8033 8040 8044 8068\n",
      " 8080 8100 8101 8109 8127 8132 8143 8145 8149 8169 8185 8187 8189 8192\n",
      " 8214 8219 8232 8234 8247 8270 8271 8281 8285 8292 8293 8297 8307 8315\n",
      " 8316 8320 8333 8351 8356 8357 8360 8365 8366 8410 8440 8441 8445 8451\n",
      " 8452 8467 8490 8494 8497 8524 8534 8535 8547 8558 8562 8566 8576 8577\n",
      " 8585 8607 8613 8616 8645 8656 8657 8662 8666 8694 8696 8704 8707 8724\n",
      " 8736 8758 8760 8763 8769 8786 8794 8817 8824 8827 8831 8833 8835 8845\n",
      " 8849 8853 8857 8866 8887 8889 8894 8895 8898 8910 8922 8926 8938 8948\n",
      " 8957 8975 8989 8995 9001 9004 9014 9024 9030 9040 9041 9044 9054 9061\n",
      " 9063 9070 9077 9118 9122 9124 9139 9144 9161 9169 9170 9179 9187 9189\n",
      " 9194 9212 9217 9218 9221 9231 9233 9243 9254 9269 9273 9285 9287 9292\n",
      " 9297 9301 9305 9311 9319 9326 9349 9379 9388 9396 9406 9416 9418 9421\n",
      " 9443 9450 9456 9457 9460 9461 9473 9479 9480 9492 9504 9505 9510 9517\n",
      " 9519 9529 9530 9542 9560 9565 9573 9581 9585 9589 9609 9610 9611 9616\n",
      " 9633 9636 9644 9655 9661 9663 9675 9689 9695 9697 9699 9701 9709 9713\n",
      " 9717 9726 9734 9754 9772 9773 9784 9788 9810 9838 9840 9852 9854 9869\n",
      " 9872 9881 9882 9888 9889 9890 9900 9922 9940 9941 9946 9959 9967 9971\n",
      " 9972 9978 9981 9986]\n",
      "[0.91683103 0.03162055 0.03162055 ... 0.91683103 0.34076016 0.91683103]\n",
      "[ 1  2 -1 -1  5 -1 -1]\n"
     ]
    },
    {
     "ename": "NameError",
     "evalue": "name 'TREE_LEAF' is not defined",
     "output_type": "error",
     "traceback": [
      "\u001b[0;31m---------------------------------------------------------------------------\u001b[0m",
      "\u001b[0;31mNameError\u001b[0m                                 Traceback (most recent call last)",
      "\u001b[0;32m<ipython-input-9-2328cc45b598>\u001b[0m in \u001b[0;36m<module>\u001b[0;34m()\u001b[0m\n\u001b[1;32m      3\u001b[0m \u001b[0;32mprint\u001b[0m\u001b[0;34m(\u001b[0m\u001b[0mtr\u001b[0m\u001b[0;34m.\u001b[0m\u001b[0mtree_\u001b[0m\u001b[0;34m.\u001b[0m\u001b[0mchildren_left\u001b[0m\u001b[0;34m)\u001b[0m\u001b[0;34m\u001b[0m\u001b[0m\n\u001b[1;32m      4\u001b[0m \u001b[0;34m\u001b[0m\u001b[0m\n\u001b[0;32m----> 5\u001b[0;31m \u001b[0;32mfor\u001b[0m \u001b[0mleaf\u001b[0m \u001b[0;32min\u001b[0m \u001b[0mnp\u001b[0m\u001b[0;34m.\u001b[0m\u001b[0mwhere\u001b[0m\u001b[0;34m(\u001b[0m\u001b[0mtr\u001b[0m\u001b[0;34m.\u001b[0m\u001b[0mtree_\u001b[0m\u001b[0;34m.\u001b[0m\u001b[0mchildren_left\u001b[0m \u001b[0;34m==\u001b[0m \u001b[0mTREE_LEAF\u001b[0m\u001b[0;34m)\u001b[0m\u001b[0;34m[\u001b[0m\u001b[0;36m0\u001b[0m\u001b[0;34m]\u001b[0m\u001b[0;34m:\u001b[0m\u001b[0;34m\u001b[0m\u001b[0m\n\u001b[0m\u001b[1;32m      6\u001b[0m     \u001b[0;31m#update_terminal_region(tree, terminal_regions, leaf, X, y, residual)\u001b[0m\u001b[0;34m\u001b[0m\u001b[0;34m\u001b[0m\u001b[0m\n\u001b[1;32m      7\u001b[0m     \u001b[0;32mprint\u001b[0m\u001b[0;34m(\u001b[0m\u001b[0mleaf\u001b[0m\u001b[0;34m)\u001b[0m\u001b[0;34m\u001b[0m\u001b[0m\n",
      "\u001b[0;31mNameError\u001b[0m: name 'TREE_LEAF' is not defined"
     ]
    }
   ],
   "source": [
    "print(np.where(tr.tree_.apply(X.astype(np.float32)) == 5)[0])\n",
    "print(tr.predict(X.astype(np.float32)))\n",
    "print(tr.tree_.children_left)\n",
    "\n",
    "for leaf in np.where(tr.tree_.children_left == TREE_LEAF)[0]:\n",
    "    #update_terminal_region(tree, terminal_regions, leaf, X, y, residual)\n",
    "    print(leaf)"
   ]
  },
  {
   "cell_type": "code",
   "execution_count": 10,
   "metadata": {},
   "outputs": [
    {
     "data": {
      "text/plain": [
       "(6700, 100)"
      ]
     },
     "execution_count": 10,
     "metadata": {},
     "output_type": "execute_result"
    }
   ],
   "source": [
    "X_train.shape"
   ]
  },
  {
   "cell_type": "code",
   "execution_count": 11,
   "metadata": {},
   "outputs": [],
   "source": [
    "class DataLoader:\n",
    "    def __init__(self, path):\n",
    "        self.path = path\n",
    "        \n",
    "    def get(self):\n",
    "        with open(self.path, \"r\") as f:\n",
    "            data = np.loadtxt(f)\n",
    "        y = data[:, 0] \n",
    "        X = data[:, 1:]\n",
    "        return X, y"
   ]
  },
  {
   "cell_type": "code",
   "execution_count": 12,
   "metadata": {},
   "outputs": [],
   "source": [
    "X_train, y_train = DataLoader(\"spam.train.txt\").get()\n",
    "X_test, y_test = DataLoader(\"spam.test.txt\").get()\n",
    "\n",
    "# sk_boo = GradientBoostingClassifier(n_estimators=N, random_state=139)\n",
    "# sk_boo.fit(X_train, y_train)\n",
    "# roc_auc_score(y_test, sk_boo.predict_proba(X_test)[:,1])\n"
   ]
  },
  {
   "cell_type": "code",
   "execution_count": 13,
   "metadata": {},
   "outputs": [],
   "source": [
    "import numpy as np\n",
    "\n",
    "class _Node:\n",
    "    def __init__(self, node_idx):\n",
    "        self.node_idx = node_idx\n",
    "        self.eps = 1e-3\n",
    "        self.is_leaf = False\n",
    "\n",
    "        self.n_obj = None\n",
    "\n",
    "        self.n_best_fea = None\n",
    "        self.threshold = None\n",
    "\n",
    "        self.left_node = None\n",
    "        self.right_node = None\n",
    "\n",
    "        self.prediction = None\n",
    "\n",
    "    def fit(self, x, y, depth, max_depth, min_samples_split=2, min_samples_leaf=1):\n",
    "        self.n_obj = x.shape[0]\n",
    "\n",
    "        if depth == max_depth or x.shape[0] < min_samples_split:\n",
    "            self.is_leaf = True\n",
    "            self.prediction = np.mean(y)\n",
    "            return\n",
    "\n",
    "        x_sliced = x\n",
    "        y_sliced = y\n",
    "        \n",
    "        # индексы отсортированных столбцов (признаков)\n",
    "        idx_sliced_sorted = np.argsort(x_sliced, axis=0)\n",
    "        \n",
    "        # отсортированные x, y\n",
    "        x_sliced_sorted = np.sort(x_sliced, axis=0)\n",
    "        y_sliced_sorted = y_sliced[idx_sliced_sorted]\n",
    "        \n",
    "        # получаем квадраты целей и аккумулируем их в последней строке\n",
    "        y_sq_cumsum = np.cumsum(y_sliced_sorted ** 2, axis=0)\n",
    "        # то же на развернутой матрице\n",
    "        y_sq_cumsum_reversed = np.cumsum(y_sliced_sorted[::-1] ** 2, axis=0)[::-1]\n",
    "        \n",
    "        # аккумуляция первых степеней\n",
    "        y_cumsum = np.cumsum(y_sliced_sorted, axis=0)\n",
    "        # аккумуляция первых степеней в развернутой матрице\n",
    "        y_cumsum_reversed = np.cumsum(y_sliced_sorted[::-1], axis=0)[::-1]\n",
    "\n",
    "        # считаем эмпирическую дисперсию (умноженную на n)\n",
    "        cnt_array = np.array(range(1, y_cumsum.shape[0] + 1)).reshape(-1, 1)\n",
    "        mse_left = y_sq_cumsum - y_cumsum ** 2 / cnt_array\n",
    "        mse_right = y_sq_cumsum_reversed - y_cumsum_reversed ** 2 / cnt_array[::-1]\n",
    "        \n",
    "        # скалдываем левый и правый вариант mse \n",
    "        mse = mse_left\n",
    "        mse[:-1] += mse_right[1:]\n",
    "\n",
    "        # исключаем из рассмотрения незначительные признаки (заполняя их nan)\n",
    "        garbage_fea = np.where(np.abs(np.max(x, axis=0) - np.min(x, axis=0)) < self.eps)[0]\n",
    "        if garbage_fea.shape[0] > 0:\n",
    "            mse[:, garbage_fea] = np.nan\n",
    "        # исключаем последнюю строку\n",
    "        mse[-1] = np.nan\n",
    "        # исключаем случаи разделения по признакам с равным значениями mse\n",
    "        mse[x_sliced_sorted == np.roll(x_sliced_sorted, shift=-1, axis=0)] = np.nan\n",
    "        \n",
    "        # получаем двумерные индексы в матрице mse \n",
    "        try:\n",
    "            n_best_obj, self.n_best_fea = np.unravel_index(np.nanargmin(mse), mse.shape)\n",
    "        except ValueError:\n",
    "            self.is_leaf = True\n",
    "            self.prediction = np.mean(y)\n",
    "            return\n",
    "        \n",
    "        # фиксируем порог\n",
    "        self.threshold = x_sliced_sorted[n_best_obj, self.n_best_fea]\n",
    "\n",
    "        # получаем индексы левой и правой подматрице\n",
    "        left_obj = np.where(x[:, self.n_best_fea] <= self.threshold)[0]\n",
    "        right_obj = np.where(x[:, self.n_best_fea] > self.threshold)[0]\n",
    "        if left_obj.shape[0] < min_samples_leaf or right_obj.shape[0] < min_samples_leaf:\n",
    "            self.is_leaf = True\n",
    "            self.prediction = np.mean(y)\n",
    "            return\n",
    "        \n",
    "        self.left_node = _Node(2 * self.node_idx + 1)\n",
    "        self.right_node = _Node(2 * self.node_idx + 2)\n",
    "        self.left_node.fit(x[left_obj], y[left_obj], depth + 1, max_depth, min_samples_split)\n",
    "        self.right_node.fit(x[right_obj], y[right_obj], depth + 1, max_depth, min_samples_split)\n",
    "\n",
    "    def predict(self, x):\n",
    "        if self.is_leaf:\n",
    "            return self.prediction\n",
    "\n",
    "        prediction = np.empty([x.shape[0]])\n",
    "        left_obj = np.where(x[:, self.n_best_fea] <= self.threshold)\n",
    "        right_obj = np.where(x[:, self.n_best_fea] > self.threshold)\n",
    "\n",
    "        prediction[left_obj] = self.left_node.predict(x[left_obj])\n",
    "        prediction[right_obj] = self.right_node.predict(x[right_obj])\n",
    "\n",
    "        return prediction\n",
    "    \n",
    "    def apply(self, x):\n",
    "        if self.is_leaf:\n",
    "            return self.node_idx\n",
    "        \n",
    "        idx = np.empty([x.shape[0]], dtype=np.int32)\n",
    "        left_obj = np.where(x[:, self.n_best_fea] <= self.threshold)\n",
    "        right_obj = np.where(x[:, self.n_best_fea] > self.threshold)\n",
    "\n",
    "        idx[left_obj] = self.left_node.apply(x[left_obj])\n",
    "        idx[right_obj] = self.right_node.apply(x[right_obj])\n",
    "\n",
    "        return idx\n",
    "\n",
    "    def traverse(self, nodes_list):\n",
    "        nodes_list.append(self)\n",
    "        if self.is_leaf:\n",
    "            return\n",
    "        self.left_node.traverse(nodes_list)\n",
    "        self.right_node.traverse(nodes_list)\n",
    "            \n",
    "        \n",
    "class RegressionDecisionTree:\n",
    "    def __init__(self, max_depth=1, min_samples_split=2):\n",
    "        self.max_depth = max_depth\n",
    "        self.min_samples_split = min_samples_split\n",
    "\n",
    "        self.top_node = _Node(node_idx=0)\n",
    "        self.nodes = []\n",
    "\n",
    "    def fit(self, x, y):\n",
    "        self.top_node.fit(x, y, 0, self.max_depth, self.min_samples_split)\n",
    "        self.traverse()\n",
    "\n",
    "    def predict(self, x):\n",
    "        return self.top_node.predict(x)\n",
    "\n",
    "    def traverse(self):\n",
    "        return self.top_node.traverse(self.nodes)\n",
    "        \n",
    "    def __getitem__(self, key):\n",
    "        for item in self.nodes:\n",
    "            if item.node_idx == key:\n",
    "                return item\n",
    "    "
   ]
  },
  {
   "cell_type": "code",
   "execution_count": 6,
   "metadata": {},
   "outputs": [
    {
     "name": "stdout",
     "output_type": "stream",
     "text": [
      "0.8038803712322645\n",
      "0.7920565192582394\n",
      "[<__main__._Node instance at 0x7ff699a91368>, <__main__._Node instance at 0x7ff663b3f0e0>, <__main__._Node instance at 0x7ff69a701b00>]\n"
     ]
    }
   ],
   "source": [
    "clf = RegressionDecisionTree()\n",
    "sk_clf = DecisionTreeRegressor()\n",
    "clf.fit(X_train.astype(np.float64),y_train.astype(np.float64))\n",
    "print(roc_auc_score(y_test, clf.predict(X_test)))\n",
    "sk_clf.fit(X_train.astype(np.float64),y_train.astype(np.float64))\n",
    "print(roc_auc_score(y_test, sk_clf.predict(X_test)))\n",
    "#print(clf.tree_.apply(X_test))\n",
    "#print(clf.leafs)\n",
    "print(clf.nodes)"
   ]
  },
  {
   "cell_type": "code",
   "execution_count": 8,
   "metadata": {
    "collapsed": true
   },
   "outputs": [],
   "source": [
    "class Bagging(object):\n",
    "    \n",
    "    def __init__(self, max_depth = 3, n_estimators = 30, subsample_size = 5000, max_features=100):\n",
    "            \n",
    "        self.max_depth = max_depth\n",
    "        self.n_estimators = n_estimators\n",
    "        self.subsample_size = subsample_size\n",
    "        self.max_features = max_features\n",
    "#         self.estimators_ = [DecisionTreeRegressor(max_depth=max_depth, random_state=139)\n",
    "#                            for _ in range(self.n_estimators)]\n",
    "        self.estimators_ = [RegressionDecisionTree(max_depth=max_depth)\n",
    "                               for _ in range(self.n_estimators)]\n",
    "        self.rsm_indices = []\n",
    "    \n",
    "    def get_bootstrap_samples(self, X, y):\n",
    "        indices = np.random.choice(X.shape[0], self.subsample_size, replace=True)\n",
    "        rsm_indices = np.random.choice(X.shape[1], self.max_features, replace=False)\n",
    "        #rsm_indices = np.arange(int(np.sqrt(X.shape[1])))\n",
    "        #self.rsm_indices.append(rsm_indices)\n",
    "        samples_X = X[indices,:]#[:,rsm_indices]\n",
    "        samples_y = y_train[indices]\n",
    "        return samples_X, samples_y\n",
    "\n",
    "#         n_samples = X.shape[0]\n",
    "\n",
    "#         indices = np.random.randint(0, n_samples, n_samples)\n",
    "#         samples_X = X[indices,:]\n",
    "#         samples_y = y_train[indices]\n",
    "        \n",
    "#         return samples_X, samples_y\n",
    "    \n",
    "    def fit(self, data_train, y_train):        \n",
    "        for i in range(self.n_estimators):\n",
    "            samples_train, samples_y = self.get_bootstrap_samples(data_train, y_train)\n",
    "            self.estimators_[i].built_tree = self.estimators_[i].fit(samples_train.astype(np.float64), samples_y.astype(np.float64))\n",
    "                \n",
    "    def predict(self, X_test):      \n",
    "        pred = []\n",
    "        for i in range(self.n_estimators):\n",
    "            #pred.append(self.estimators_[i].predict(X_test[:, self.rsm_indices[i]].astype(np.float64)))\n",
    "            pred.append(self.estimators_[i].predict(X_test.astype(np.float64)))\n",
    "        return np.mean(pred, axis=0)\n",
    "\n",
    "    "
   ]
  },
  {
   "cell_type": "code",
   "execution_count": 14,
   "metadata": {},
   "outputs": [],
   "source": [
    "def sigmoid(h):\n",
    "    return 1./(1. + np.exp(-h))\n",
    "\n",
    "class Boosting(object):\n",
    "    def __init__(self):\n",
    "        self.boo = []\n",
    "        \n",
    "    def append(self, bag):\n",
    "        self.boo.append(bag)\n",
    "        \n",
    "    def predict(self, X):\n",
    "        prediction = np.zeros(X.shape[0])\n",
    "        for bag in self.boo:\n",
    "            prediction += bag.predict(X)\n",
    "        return prediction\n",
    "    \n",
    "    def _dLdh(self, y_true, y_pred):\n",
    "        return sigmoid(y_pred) - y_true\n",
    "    \n",
    "    def next_values(self, y_true, y_pred):\n",
    "        return -self._dLdh(y_true, y_pred)\n",
    "    "
   ]
  },
  {
   "cell_type": "code",
   "execution_count": 18,
   "metadata": {},
   "outputs": [],
   "source": [
    "\n",
    "def update_terminal_region(terminal_regions, leaf, X, y, residual):\n",
    "        \"\"\"Make a single Newton-Raphson step.\n",
    "\n",
    "        our node estimate is given by:\n",
    "\n",
    "            sum((y - prob)) / sum(prob * (1 - prob))\n",
    "\n",
    "        we take advantage that: y - prob = residual\n",
    "        \"\"\"\n",
    "        terminal_region = np.where(terminal_regions.astype(np.int32) == leaf.node_idx)[0]\n",
    "        residual = residual.take(terminal_region, axis=0)\n",
    "        y = y.take(terminal_region, axis=0)\n",
    "\n",
    "        numerator = np.sum(residual)\n",
    "        denominator = np.sum((y - residual) * (1 - y + residual))\n",
    "\n",
    "        # prevents overflow and division by zero\n",
    "        if abs(denominator) < 1e-150:\n",
    "            leaf.prediction = 0.0\n",
    "        else:\n",
    "            leaf.prediction = numerator / denominator\n",
    "\n",
    "\n",
    "def optimize_leafs(forest, X, y, residual):\n",
    "    tree = forest\n",
    "    #for tree in bag.estimators_:\n",
    "    terminal_regions = tree.top_node.apply(X.astype(np.float32))\n",
    "    for node in tree.nodes:\n",
    "        if node.is_leaf:\n",
    "            update_terminal_region(terminal_regions, node, X, y, residual)"
   ]
  },
  {
   "cell_type": "code",
   "execution_count": null,
   "metadata": {
    "collapsed": true
   },
   "outputs": [],
   "source": [
    "# sklearn interface\n",
    "# from sklearn.tree._tree import TREE_LEAF\n",
    "\n",
    "# def update_terminal_region(tree, terminal_regions, leaf, X, y, residual):\n",
    "#         \"\"\"Make a single Newton-Raphson step.\n",
    "\n",
    "#         our node estimate is given by:\n",
    "\n",
    "#             sum((y - prob)) / sum(prob * (1 - prob))\n",
    "\n",
    "#         we take advantage that: y - prob = residual\n",
    "#         \"\"\"\n",
    "#         terminal_region = np.where(terminal_regions == leaf)[0]\n",
    "#         residual = residual.take(terminal_region, axis=0)\n",
    "#         y = y.take(terminal_region, axis=0)\n",
    "\n",
    "#         numerator = np.sum(residual)\n",
    "#         denominator = np.sum((y - residual) * (1 - y + residual))\n",
    "\n",
    "#         # prevents overflow and division by zero\n",
    "#         if abs(denominator) < 1e-150:\n",
    "#             tree.value[leaf, 0, 0] = 0.0\n",
    "#         else:\n",
    "#             tree.value[leaf, 0, 0] = numerator / denominator\n",
    "\n",
    "\n",
    "# def optimize_leafs(forest, X, y, residual):\n",
    "#     for tree in bag.estimators_:\n",
    "#         tree = tree.tree_\n",
    "#         terminal_regions = tree.apply(X.astype(np.float32))\n",
    "#         for leaf in np.where(tree.children_left == TREE_LEAF)[0]:\n",
    "#             update_terminal_region(tree, terminal_regions, leaf, X, y, residual)\n"
   ]
  },
  {
   "cell_type": "code",
   "execution_count": 16,
   "metadata": {},
   "outputs": [],
   "source": [
    "def LogLoss(y_true, y_pred):\n",
    "    return np.sum(-y_true*np.log(sigmoid(y_pred)) - (1 - y_true)*np.log(1 - sigmoid(y_pred)))"
   ]
  },
  {
   "cell_type": "code",
   "execution_count": 19,
   "metadata": {},
   "outputs": [
    {
     "data": {
      "application/vnd.jupyter.widget-view+json": {
       "model_id": "f908284a81384843a7f7d30e8c2960a1",
       "version_major": 2,
       "version_minor": 0
      },
      "text/plain": [
       "HBox(children=(IntProgress(value=0, max=20), HTML(value=u'')))"
      ]
     },
     "metadata": {},
     "output_type": "display_data"
    },
    {
     "name": "stdout",
     "output_type": "stream",
     "text": [
      "\n",
      "(0.9972623396222717, 0.8494186873829722)\n"
     ]
    },
    {
     "data": {
      "text/plain": [
       "0.9692422651821415"
      ]
     },
     "execution_count": 19,
     "metadata": {},
     "output_type": "execute_result"
    }
   ],
   "source": [
    "N = 20\n",
    "boo = Boosting()\n",
    "labels_to_predict = y_train\n",
    "h_i = np.zeros(X_train.shape[0])\n",
    "eta = 0.1\n",
    "\n",
    "#bag = RandomForestRegressor(max_depth=3, random_state=139)# обучаем лесок на текущих метках\n",
    "#bag = Bagging(subsample_size = 7093, max_features=102)\n",
    "bag = RegressionDecisionTree(max_depth=3)\n",
    "bag.fit(X_train, labels_to_predict)\n",
    "boo.append(bag)\n",
    "for idx in tqdm(range(N)):  \n",
    "    h_i = h_i + bag.predict(X_train)\n",
    "    #print(np.sum(boo._dLdh(y_train, h_i)))\n",
    "    labels_to_predict = boo.next_values(y_train, h_i)# делаем шаг бустинга\n",
    "    \n",
    "    #bag = RandomForestRegressor(max_depth=3, random_state=139)# обучаем лесок на текущих метках\n",
    "    #bag = DecisionTreeRegressor(max_depth=3, random_state=139)\n",
    "    #bag = Bagging(n_estimators=50, subsample_size = 1000, max_features=60)\n",
    "    bag = RegressionDecisionTree(max_depth=3)\n",
    "    bag.fit(X_train, labels_to_predict)\n",
    "    boo.append(bag)\n",
    "    \n",
    "    optimize_leafs(bag, X_train, y_train, labels_to_predict)\n",
    "\n",
    "    \n",
    "    \n",
    "print(roc_auc_score(y_train, boo.predict(X_train)),\n",
    "      roc_auc_score(y_test, boo.predict(X_test)))\n",
    "\n",
    "sk_boo = GradientBoostingClassifier(n_estimators=N, random_state=139)\n",
    "sk_boo.fit(X_train, y_train)\n",
    "roc_auc_score(y_test, sk_boo.predict_proba(X_test)[:,1])"
   ]
  },
  {
   "cell_type": "code",
   "execution_count": null,
   "metadata": {
    "collapsed": true
   },
   "outputs": [],
   "source": [
    "sk_boo.predict_proba(X_test)[:, 1]"
   ]
  },
  {
   "cell_type": "code",
   "execution_count": null,
   "metadata": {
    "collapsed": true
   },
   "outputs": [],
   "source": [
    "y_test"
   ]
  },
  {
   "cell_type": "code",
   "execution_count": null,
   "metadata": {
    "collapsed": true
   },
   "outputs": [],
   "source": [
    "print(boo.predict(X_test))"
   ]
  },
  {
   "cell_type": "code",
   "execution_count": 14,
   "metadata": {},
   "outputs": [
    {
     "name": "stdout",
     "output_type": "stream",
     "text": [
      "Test\n",
      "3297.913642047876\n",
      "3034.095319676036\n",
      "1.0869512307873073\n",
      "Train\n",
      "1015.4797183306739\n",
      "1625.8383504320245\n",
      "0.6245883657873099\n"
     ]
    }
   ],
   "source": [
    "print(\"Test\")\n",
    "print(LogLoss(y_test, boo.predict(X_test)))\n",
    "print(LogLoss(y_test, sk_boo.decision_function(X_test)))\n",
    "print(LogLoss(y_test, boo.predict(X_test)) / LogLoss(y_test, sk_boo.decision_function(X_test)))\n",
    "\n",
    "print(\"Train\")\n",
    "print(LogLoss(y_train, boo.predict(X_train)))\n",
    "print(LogLoss(y_train, sk_boo.decision_function(X_train)))\n",
    "print(LogLoss(y_train, boo.predict(X_train)) / LogLoss(y_train, sk_boo.decision_function(X_train)))\n"
   ]
  },
  {
   "cell_type": "code",
   "execution_count": null,
   "metadata": {
    "collapsed": true
   },
   "outputs": [],
   "source": [
    "np.random.choice(X.shape[1], 100, replace=True)"
   ]
  },
  {
   "cell_type": "code",
   "execution_count": null,
   "metadata": {
    "collapsed": true
   },
   "outputs": [],
   "source": [
    "bag = Bagging()\n",
    "bag.fit(X_train, y_train)\n",
    "roc_auc_score(y_test, bag.predict(X_test))"
   ]
  },
  {
   "cell_type": "code",
   "execution_count": null,
   "metadata": {
    "collapsed": true
   },
   "outputs": [],
   "source": [
    "boo.boo"
   ]
  },
  {
   "cell_type": "markdown",
   "metadata": {},
   "source": [
    "## Передерываю"
   ]
  },
  {
   "cell_type": "code",
   "execution_count": 4,
   "metadata": {},
   "outputs": [],
   "source": [
    "import numpy as np\n",
    "\n",
    "class _Node:\n",
    "    def __init__(self, node_idx):\n",
    "        self.node_idx = node_idx\n",
    "        self.eps = 1e-3\n",
    "        self.is_leaf = False\n",
    "\n",
    "        self.n_obj = None\n",
    "\n",
    "        self.n_best_fea = None\n",
    "        self.threshold = None\n",
    "\n",
    "        self.left_node = None\n",
    "        self.right_node = None\n",
    "\n",
    "        self.prediction = None\n",
    "\n",
    "    def fit(self, x, y, depth, max_depth, min_samples_split=2, min_samples_leaf=1):\n",
    "        self.n_obj = x.shape[0]\n",
    "\n",
    "        if depth == max_depth or x.shape[0] < min_samples_split:\n",
    "            self.is_leaf = True\n",
    "            self.prediction = np.mean(y)\n",
    "            return\n",
    "\n",
    "        x_sliced = x\n",
    "        y_sliced = y\n",
    "        \n",
    "        # индексы отсортированных столбцов (признаков)\n",
    "        idx_sliced_sorted = np.argsort(x_sliced, axis=0)\n",
    "        \n",
    "        # отсортированные x, y\n",
    "        x_sliced_sorted = np.sort(x_sliced, axis=0)\n",
    "        y_sliced_sorted = y_sliced[idx_sliced_sorted]\n",
    "        \n",
    "        # получаем квадраты целей и аккумулируем их к последней строке\n",
    "        y_sq_cumsum = np.cumsum(y_sliced_sorted ** 2, axis=0)\n",
    "        # то же на развернутой матрице\n",
    "        y_sq_cumsum_reversed = np.cumsum(y_sliced_sorted[::-1] ** 2, axis=0)[::-1]\n",
    "        \n",
    "        # аккумуляция первых степеней\n",
    "        y_cumsum = np.cumsum(y_sliced_sorted, axis=0)\n",
    "        # аккумуляция первых степеней в развернутой матрице\n",
    "        y_cumsum_reversed = np.cumsum(y_sliced_sorted[::-1], axis=0)[::-1]\n",
    "\n",
    "        # считаем эмпирическую дисперсию (умноженную на n)\n",
    "        cnt_array = np.array(range(1, y_cumsum.shape[0] + 1)).reshape(-1, 1)\n",
    "        mse_left = y_sq_cumsum - y_cumsum ** 2 / cnt_array\n",
    "        mse_right = y_sq_cumsum_reversed - y_cumsum_reversed ** 2 / cnt_array[::-1]\n",
    "        \n",
    "        # скалдываем левый и правый вариант mse \n",
    "        mse = mse_left\n",
    "        mse[:-1] += mse_right[1:]\n",
    "\n",
    "        # исключаем из рассмотрения незначительные признаки (заполняя их nan)\n",
    "        garbage_fea = np.where(np.abs(np.max(x, axis=0) - np.min(x, axis=0)) < self.eps)[0]\n",
    "        if garbage_fea.shape[0] > 0:\n",
    "            mse[:, garbage_fea] = np.nan\n",
    "        # исключаем последнюю строку\n",
    "        mse[-1] = np.nan\n",
    "        # исключаем случаи разделения по признакам с равным значениями mse\n",
    "        mse[x_sliced_sorted == np.roll(x_sliced_sorted, shift=-1, axis=0)] = np.nan\n",
    "        \n",
    "        # получаем двумерные индексы в матрице mse \n",
    "        try:\n",
    "            n_best_obj, self.n_best_fea = np.unravel_index(np.nanargmin(mse), mse.shape)\n",
    "        except ValueError:\n",
    "            self.is_leaf = True\n",
    "            self.prediction = np.mean(y)\n",
    "            return\n",
    "        \n",
    "        # фиксируем порог\n",
    "        self.threshold = (x_sliced_sorted[n_best_obj, self.n_best_fea] + \n",
    "                            x_sliced_sorted[n_best_obj + 1, self.n_best_fea]) / 2.0\n",
    "\n",
    "        # получаем индексы левой и правой подматрице\n",
    "        left_obj = np.where(x[:, self.n_best_fea] <= self.threshold)[0]\n",
    "        right_obj = np.where(x[:, self.n_best_fea] > self.threshold)[0]\n",
    "        if left_obj.shape[0] < min_samples_leaf or right_obj.shape[0] < min_samples_leaf:\n",
    "            self.is_leaf = True\n",
    "            self.prediction = np.mean(y)\n",
    "            return\n",
    "        \n",
    "        self.left_node = _Node(2 * self.node_idx + 1)\n",
    "        self.right_node = _Node(2 * self.node_idx + 2)\n",
    "        self.left_node.fit(x[left_obj], y[left_obj], depth + 1, max_depth, min_samples_split)\n",
    "        self.right_node.fit(x[right_obj], y[right_obj], depth + 1, max_depth, min_samples_split)\n",
    "\n",
    "    def predict(self, x):\n",
    "        if self.is_leaf:\n",
    "            return self.prediction\n",
    "\n",
    "        prediction = np.empty([x.shape[0]])\n",
    "        left_obj = np.where(x[:, self.n_best_fea] <= self.threshold)\n",
    "        right_obj = np.where(x[:, self.n_best_fea] > self.threshold)\n",
    "\n",
    "        prediction[left_obj] = self.left_node.predict(x[left_obj])\n",
    "        prediction[right_obj] = self.right_node.predict(x[right_obj])\n",
    "\n",
    "        return prediction\n",
    "    \n",
    "    def apply(self, x):\n",
    "        if self.is_leaf:\n",
    "            return self.node_idx\n",
    "        \n",
    "        idx = np.empty([x.shape[0]], dtype=np.int32)\n",
    "        left_obj = np.where(x[:, self.n_best_fea] <= self.threshold)\n",
    "        right_obj = np.where(x[:, self.n_best_fea] > self.threshold)\n",
    "\n",
    "        idx[left_obj] = self.left_node.apply(x[left_obj])\n",
    "        idx[right_obj] = self.right_node.apply(x[right_obj])\n",
    "\n",
    "        return idx\n",
    "\n",
    "    def traverse(self, nodes_list):\n",
    "        nodes_list.append(self)\n",
    "        if self.is_leaf:\n",
    "            return\n",
    "        self.left_node.traverse(nodes_list)\n",
    "        self.right_node.traverse(nodes_list)\n",
    "            \n",
    "        \n",
    "class RegressionDecisionTree:\n",
    "    def __init__(self, max_depth=1, min_samples_split=2):\n",
    "        self.max_depth = max_depth\n",
    "        self.min_samples_split = min_samples_split\n",
    "\n",
    "        self.top_node = _Node(node_idx=0)\n",
    "        self.nodes = []\n",
    "\n",
    "    def fit(self, x, y):\n",
    "        self.top_node.fit(x, y, 0, self.max_depth, self.min_samples_split)\n",
    "        self.traverse()\n",
    "\n",
    "    def predict(self, x):\n",
    "        return self.top_node.predict(x)\n",
    "\n",
    "    def traverse(self):\n",
    "        return self.top_node.traverse(self.nodes)\n",
    "        \n",
    "    def __getitem__(self, key):\n",
    "        for item in self.nodes:\n",
    "            if item.node_idx == key:\n",
    "                return item\n",
    "    "
   ]
  }
 ],
 "metadata": {
  "kernelspec": {
   "display_name": "Python 2",
   "language": "python",
   "name": "python2"
  },
  "language_info": {
   "codemirror_mode": {
    "name": "ipython",
    "version": 2
   },
   "file_extension": ".py",
   "mimetype": "text/x-python",
   "name": "python",
   "nbconvert_exporter": "python",
   "pygments_lexer": "ipython2",
   "version": "2.7.14"
  }
 },
 "nbformat": 4,
 "nbformat_minor": 2
}
