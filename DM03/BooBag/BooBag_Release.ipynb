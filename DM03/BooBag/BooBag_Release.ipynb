{
 "cells": [
  {
   "cell_type": "code",
   "execution_count": 2,
   "metadata": {},
   "outputs": [],
   "source": [
    "import numpy as np\n",
    "from tqdm import tqdm_notebook as tqdm"
   ]
  },
  {
   "cell_type": "markdown",
   "metadata": {},
   "source": [
    "## Получаем выборку"
   ]
  },
  {
   "cell_type": "code",
   "execution_count": 3,
   "metadata": {},
   "outputs": [],
   "source": [
    "class DataLoader:\n",
    "    def __init__(self, path):\n",
    "        self.path = path\n",
    "        \n",
    "    def get(self):\n",
    "        with open(self.path, \"r\") as f:\n",
    "            data = np.loadtxt(f)\n",
    "        y = data[:, 0] \n",
    "        X = data[:, 1:]\n",
    "        return X, y\n",
    "#     def get_cv(self, kfold=5):\n",
    "#         with open(self.path, \"r\") as f:\n",
    "#             data = np.loadtxt(f)\n",
    "#         indices = np.random.choice(data.shape[0], self.subsample_size, replace=True)\n",
    "#         y = data[:, 0] \n",
    "#         X = data[:, 1:]\n",
    "#         return X, y"
   ]
  },
  {
   "cell_type": "code",
   "execution_count": 5,
   "metadata": {},
   "outputs": [],
   "source": [
    "X_train, y_train = DataLoader(\"spam.train.txt\").get()\n",
    "X_test, y_test = DataLoader(\"spam.test.txt\").get()"
   ]
  },
  {
   "cell_type": "code",
   "execution_count": 6,
   "metadata": {},
   "outputs": [
    {
     "data": {
      "text/plain": [
       "(7093, 102)"
      ]
     },
     "execution_count": 6,
     "metadata": {},
     "output_type": "execute_result"
    }
   ],
   "source": [
    "X_train.shape"
   ]
  },
  {
   "cell_type": "markdown",
   "metadata": {},
   "source": [
    "## Loss и Сигмоид"
   ]
  },
  {
   "cell_type": "code",
   "execution_count": 20,
   "metadata": {},
   "outputs": [],
   "source": [
    "def LogLoss(y_true, y_pred):\n",
    "    return np.sum(-y_true*np.log(sigmoid(y_pred)) - (1 - y_true)*np.log(1 - sigmoid(y_pred)))\n",
    "def sigmoid(h):\n",
    "    #print(h)\n",
    "    return 1./(1. + np.exp(-h))"
   ]
  },
  {
   "cell_type": "markdown",
   "metadata": {},
   "source": [
    "## Бустинг и оптимизация в листьях"
   ]
  },
  {
   "cell_type": "code",
   "execution_count": 21,
   "metadata": {},
   "outputs": [],
   "source": [
    "class Boosting(object):\n",
    "    def __init__(self):\n",
    "        self.boo = []\n",
    "        \n",
    "    def append(self, bag):\n",
    "        self.boo.append(bag)\n",
    "        \n",
    "    def predict(self, X):\n",
    "        prediction = np.zeros(X.shape[0])\n",
    "        for bag in self.boo:\n",
    "            prediction += bag.predict(X)\n",
    "        return prediction\n",
    "    \n",
    "    def _dLdh(self, y_true, y_pred):\n",
    "        return sigmoid(y_pred) - y_true\n",
    "    \n",
    "    def next_values(self, y_true, y_pred):\n",
    "        return -self._dLdh(y_true, y_pred)\n",
    "\n",
    "    \n",
    "def update_terminal_region(terminal_regions, leaf, X, y, residual):\n",
    "        \"\"\"Make a single Newton-Raphson step.\n",
    "\n",
    "        our node estimate is given by:\n",
    "\n",
    "            sum((y - prob)) / sum(prob * (1 - prob))\n",
    "\n",
    "        we take advantage that: y - prob = residual\n",
    "        \"\"\"\n",
    "        terminal_region = np.where(terminal_regions.astype(np.int32) == leaf.node_idx)[0]\n",
    "        residual = residual.take(terminal_region, axis=0)\n",
    "        y = y.take(terminal_region, axis=0)\n",
    "\n",
    "        numerator = np.sum(residual)\n",
    "        denominator = np.sum((y - residual) * (1 - y + residual))\n",
    "\n",
    "        # prevents overflow and division by zero\n",
    "        if abs(denominator) < 1e-150:\n",
    "            leaf.prediction = 0.0\n",
    "        else:\n",
    "            leaf.prediction = numerator / denominator\n",
    "\n",
    "            \n",
    "def optimize_leafs(forest, X, y, residual):\n",
    "    #for tree in bag.estimators_:\n",
    "        tree = forest\n",
    "        terminal_regions = tree.top_node.apply(X.astype(np.float32))\n",
    "        for node in tree.nodes:\n",
    "            if node.is_leaf:\n",
    "                update_terminal_region(terminal_regions, node, X, y, residual)"
   ]
  },
  {
   "cell_type": "markdown",
   "metadata": {},
   "source": [
    "## Бэггинг"
   ]
  },
  {
   "cell_type": "code",
   "execution_count": 22,
   "metadata": {},
   "outputs": [],
   "source": [
    "class Bagging(object):\n",
    "    \n",
    "    def __init__(self, max_depth = 3, n_estimators = 30, subsample_size = 5000, max_features=100):\n",
    "            \n",
    "        self.max_depth = max_depth\n",
    "        self.n_estimators = n_estimators\n",
    "        self.subsample_size = subsample_size\n",
    "        self.max_features = max_features\n",
    "#         self.estimators_ = [DecisionTreeRegressor(max_depth=max_depth, random_state=139)\n",
    "#                            for _ in range(self.n_estimators)]\n",
    "        self.estimators_ = [RegressionDecisionTree(max_depth=max_depth)\n",
    "                               for _ in range(self.n_estimators)]\n",
    "        self.rsm_indices = []\n",
    "    \n",
    "    def get_bootstrap_samples(self, X, y):\n",
    "        indices = np.random.choice(X.shape[0], self.subsample_size, replace=True)\n",
    "        #rsm_indices = np.random.choice(X.shape[1], self.max_features, replace=False)\n",
    "        #self.rsm_indices.append(rsm_indices)\n",
    "        samples_X = X[indices,:]#[:,rsm_indices]\n",
    "        samples_y = y_train[indices]\n",
    "        return samples_X, samples_y\n",
    "\n",
    "    \n",
    "    def fit(self, data_train, y_train):        \n",
    "        for i in range(self.n_estimators):\n",
    "            samples_train, samples_y = self.get_bootstrap_samples(data_train, y_train)\n",
    "            self.estimators_[i].fit(samples_train.astype(np.float64), samples_y.astype(np.float64))\n",
    "                \n",
    "    def predict(self, X_test):      \n",
    "        pred = []\n",
    "        for i in range(self.n_estimators):\n",
    "            #pred.append(self.estimators_[i].predict(X_test[:, self.rsm_indices[i]].astype(np.float64)))\n",
    "            pred.append(self.estimators_[i].predict(X_test.astype(np.float64)))\n",
    "        return np.mean(pred, axis=0)\n"
   ]
  },
  {
   "cell_type": "markdown",
   "metadata": {},
   "source": [
    "## Дерево регресса"
   ]
  },
  {
   "cell_type": "code",
   "execution_count": 39,
   "metadata": {},
   "outputs": [],
   "source": [
    "import numpy as np\n",
    "\n",
    "class _Node:\n",
    "    def __init__(self, node_idx):\n",
    "        self.node_idx = node_idx\n",
    "        self.eps = 1e-3\n",
    "        self.is_leaf = False\n",
    "\n",
    "        self.n_obj = None\n",
    "\n",
    "        self.n_best_fea = None\n",
    "        self.threshold = None\n",
    "\n",
    "        self.left_node = None\n",
    "        self.right_node = None\n",
    "\n",
    "        self.prediction = None\n",
    "\n",
    "    def fit(self, x, y, depth, max_depth, min_samples_split=2, min_samples_leaf=1):\n",
    "        self.n_obj = x.shape[0]\n",
    "\n",
    "        if depth == max_depth or x.shape[0] < min_samples_split:\n",
    "            self.is_leaf = True\n",
    "            self.prediction = np.mean(y)\n",
    "            return\n",
    "\n",
    "        x_sliced = x\n",
    "        y_sliced = y\n",
    "        \n",
    "        # индексы отсортированных столбцов (признаков)\n",
    "        idx_sliced_sorted = np.argsort(x_sliced, axis=0)\n",
    "        \n",
    "        # отсортированные x, y\n",
    "        x_sliced_sorted = np.sort(x_sliced, axis=0)\n",
    "        y_sliced_sorted = y_sliced[idx_sliced_sorted]\n",
    "        \n",
    "        # получаем квадраты целей и аккумулируем их в последней строке\n",
    "        y_sq_cumsum = np.cumsum(y_sliced_sorted ** 2, axis=0)\n",
    "        # то же на развернутой матрице\n",
    "        y_sq_cumsum_reversed = np.cumsum(y_sliced_sorted[::-1] ** 2, axis=0)[::-1]\n",
    "        \n",
    "        # аккумуляция первых степеней\n",
    "        y_cumsum = np.cumsum(y_sliced_sorted, axis=0)\n",
    "        # аккумуляция первых степеней в развернутой матрице\n",
    "        y_cumsum_reversed = np.cumsum(y_sliced_sorted[::-1], axis=0)[::-1]\n",
    "\n",
    "        # считаем эмпирическую дисперсию (умноженную на n)\n",
    "        cnt_array = np.array(range(1, y_cumsum.shape[0] + 1)).reshape(-1, 1)\n",
    "        mse_left = y_sq_cumsum - y_cumsum ** 2 / cnt_array\n",
    "        mse_right = y_sq_cumsum_reversed - y_cumsum_reversed ** 2 / cnt_array[::-1]\n",
    "        \n",
    "        # скалдываем левый и правый вариант mse \n",
    "        mse = mse_left\n",
    "        mse[:-1] += mse_right[1:]\n",
    "\n",
    "        # исключаем из рассмотрения незначительные признаки (заполняя их nan)\n",
    "        garbage_fea = np.where(np.abs(np.max(x, axis=0) - np.min(x, axis=0)) < self.eps)[0]\n",
    "        if garbage_fea.shape[0] > 0:\n",
    "            mse[:, garbage_fea] = np.nan\n",
    "        # исключаем последнюю строку\n",
    "        mse[-1] = np.nan\n",
    "        # исключаем случаи разделения по признакам с равным значениями mse\n",
    "        mse[x_sliced_sorted == np.roll(x_sliced_sorted, shift=-1, axis=0)] = np.nan\n",
    "        \n",
    "        # получаем двумерные индексы в матрице mse \n",
    "        try:\n",
    "            n_best_obj, self.n_best_fea = np.unravel_index(np.nanargmin(mse), mse.shape)\n",
    "        except ValueError:\n",
    "            self.is_leaf = True\n",
    "            self.prediction = np.mean(y)\n",
    "            return\n",
    "        \n",
    "        # фиксируем порог\n",
    "        self.threshold = x_sliced_sorted[n_best_obj, self.n_best_fea]\n",
    "\n",
    "        # получаем индексы левой и правой подматрице\n",
    "        left_obj = np.where(x[:, self.n_best_fea] <= self.threshold)[0]\n",
    "        right_obj = np.where(x[:, self.n_best_fea] > self.threshold)[0]\n",
    "        if left_obj.shape[0] < min_samples_leaf or right_obj.shape[0] < min_samples_leaf:\n",
    "            self.is_leaf = True\n",
    "            self.prediction = np.mean(y)\n",
    "            return\n",
    "        \n",
    "        self.left_node = _Node(2 * self.node_idx + 1)\n",
    "        self.right_node = _Node(2 * self.node_idx + 2)\n",
    "        self.left_node.fit(x[left_obj], y[left_obj], depth + 1, max_depth, min_samples_split)\n",
    "        self.right_node.fit(x[right_obj], y[right_obj], depth + 1, max_depth, min_samples_split)\n",
    "\n",
    "    def predict(self, x):\n",
    "        if self.is_leaf:\n",
    "            return self.prediction\n",
    "\n",
    "        prediction = np.empty([x.shape[0]])\n",
    "        left_obj = np.where(x[:, self.n_best_fea] <= self.threshold)\n",
    "        right_obj = np.where(x[:, self.n_best_fea] > self.threshold)\n",
    "\n",
    "        prediction[left_obj] = self.left_node.predict(x[left_obj])\n",
    "        prediction[right_obj] = self.right_node.predict(x[right_obj])\n",
    "\n",
    "        return prediction\n",
    "    \n",
    "    def apply(self, x):\n",
    "        if self.is_leaf:\n",
    "            return self.node_idx\n",
    "        \n",
    "        idx = np.empty([x.shape[0]], dtype=np.int32)\n",
    "        left_obj = np.where(x[:, self.n_best_fea] <= self.threshold)\n",
    "        right_obj = np.where(x[:, self.n_best_fea] > self.threshold)\n",
    "\n",
    "        idx[left_obj] = self.left_node.apply(x[left_obj])\n",
    "        idx[right_obj] = self.right_node.apply(x[right_obj])\n",
    "\n",
    "        return idx\n",
    "\n",
    "    def traverse(self, nodes_list):\n",
    "        nodes_list.append(self)\n",
    "        if self.is_leaf:\n",
    "            return\n",
    "        self.left_node.traverse(nodes_list)\n",
    "        self.right_node.traverse(nodes_list)\n",
    "            \n",
    "        \n",
    "class RegressionDecisionTree:\n",
    "    def __init__(self, max_depth=1, min_samples_split=2):\n",
    "        self.max_depth = max_depth\n",
    "        self.min_samples_split = min_samples_split\n",
    "\n",
    "        self.top_node = _Node(node_idx=0)\n",
    "        self.nodes = []\n",
    "\n",
    "    def fit(self, x, y):\n",
    "        self.top_node.fit(x, y, 0, self.max_depth, self.min_samples_split)\n",
    "        self.traverse()\n",
    "\n",
    "    def predict(self, x):\n",
    "        return self.top_node.predict(x)\n",
    "\n",
    "    def traverse(self):\n",
    "        return self.top_node.traverse(self.nodes)\n",
    "        \n",
    "    def __getitem__(self, key):\n",
    "        for item in self.nodes:\n",
    "            if item.node_idx == key:\n",
    "                return item\n",
    "    "
   ]
  },
  {
   "cell_type": "markdown",
   "metadata": {},
   "source": [
    "## Обучение бустинга (кишками наружу)"
   ]
  },
  {
   "cell_type": "markdown",
   "metadata": {},
   "source": [
    "### scikit-learn imports"
   ]
  },
  {
   "cell_type": "code",
   "execution_count": 9,
   "metadata": {},
   "outputs": [],
   "source": [
    "from sklearn.ensemble import RandomForestRegressor\n",
    "from sklearn.tree import DecisionTreeRegressor\n",
    "from sklearn.datasets import make_classification\n",
    "from sklearn.model_selection import train_test_split\n",
    "from sklearn.metrics import roc_auc_score\n",
    "from sklearn.ensemble import GradientBoostingRegressor"
   ]
  },
  {
   "cell_type": "code",
   "execution_count": 40,
   "metadata": {},
   "outputs": [
    {
     "data": {
      "application/vnd.jupyter.widget-view+json": {
       "model_id": "01a92bed545f4396abf7fbf3b61a73bd",
       "version_major": 2,
       "version_minor": 0
      },
      "text/plain": [
       "HBox(children=(IntProgress(value=0, max=30), HTML(value=u'')))"
      ]
     },
     "metadata": {},
     "output_type": "display_data"
    },
    {
     "name": "stderr",
     "output_type": "stream",
     "text": [
      "/home/emil/anaconda3/envs/py27/lib/python2.7/site-packages/ipykernel_launcher.py:2: RuntimeWarning: divide by zero encountered in log\n",
      "  \n",
      "/home/emil/anaconda3/envs/py27/lib/python2.7/site-packages/ipykernel_launcher.py:2: RuntimeWarning: invalid value encountered in multiply\n",
      "  \n"
     ]
    }
   ],
   "source": [
    "N = 30\n",
    "boo = Boosting()\n",
    "labels_to_predict = y_train\n",
    "h_i = np.zeros(X_train.shape[0])\n",
    "eta = 0.5\n",
    "n_features = 60\n",
    "n_samples = 1000\n",
    "n_in_bag = 100\n",
    "\n",
    "train_loss = []\n",
    "test_loss = []\n",
    "\n",
    "#bag = RandomForestRegressor(max_depth=3, random_state=139)# обучаем лесок на текущих метках\n",
    "#bag = Bagging(n_estimators=n_in_bag, subsample_size = n_samples, max_features=n_features)\n",
    "bag = RegressionDecisionTree(max_depth=3)\n",
    "bag.fit(X_train, labels_to_predict)\n",
    "boo.append(bag)\n",
    "for idx in tqdm(range(N)):  \n",
    "    h_i = h_i + bag.predict(X_train)\n",
    "    #print(np.sum(boo._dLdh(y_train, h_i)))\n",
    "    labels_to_predict = boo.next_values(y_train, h_i)# делаем шаг бустинга\n",
    "    \n",
    "    #bag = RandomForestRegressor(max_depth=3, random_state=139)# обучаем лесок на текущих метках\n",
    "    #bag = DecisionTreeRegressor(max_depth=3, random_state=139)\n",
    "    #bag = Bagging(n_estimators=n_in_bag, subsample_size = n_samples, max_features=n_features)\n",
    "    bag = RegressionDecisionTree(max_depth=3)\n",
    "    # вот тут дыра\n",
    "    bag.fit(X_train, labels_to_predict)\n",
    "    boo.append(bag)\n",
    "    \n",
    "    optimize_leafs(bag, X_train, y_train, labels_to_predict)\n",
    "    \n",
    "    \n",
    "    train_loss.append(LogLoss(y_train, boo.predict(X_train)))\n",
    "    \n",
    "    \n",
    "    test_loss.append(LogLoss(y_test, boo.predict(X_test)))\n",
    "    \n",
    "    \n",
    "# print(roc_auc_score(y_train, boo.predict(X_train)),\n",
    "#       roc_auc_score(y_test, boo.predict(X_test)))\n",
    "\n",
    "# sk_boo = GradientBoostingClassifier(n_estimators=N, random_state=139)\n",
    "# sk_boo.fit(X_train, y_train)\n",
    "# roc_auc_score(y_test, sk_boo.predict_proba(X_test)[:,1])"
   ]
  },
  {
   "cell_type": "code",
   "execution_count": 15,
   "metadata": {},
   "outputs": [],
   "source": [
    "from matplotlib import pyplot as plt\n",
    "%matplotlib inline"
   ]
  },
  {
   "cell_type": "code",
   "execution_count": 24,
   "metadata": {},
   "outputs": [
    {
     "data": {
      "text/plain": [
       "<matplotlib.legend.Legend at 0x7f8a87c33290>"
      ]
     },
     "execution_count": 24,
     "metadata": {},
     "output_type": "execute_result"
    },
    {
     "data": {
      "image/png": "[encoded data removed]",
      "text/plain": [
       "<Figure size 432x288 with 1 Axes>"
      ]
     },
     "metadata": {},
     "output_type": "display_data"
    }
   ],
   "source": [
    "plt.plot(np.arange(N), train_loss, np.arange(N), test_loss)\n",
    "plt.legend([\"train\", \"test\"])"
   ]
  },
  {
   "cell_type": "code",
   "execution_count": 37,
   "metadata": {},
   "outputs": [
    {
     "data": {
      "text/plain": [
       "GradientBoostingRegressor(alpha=0.9, criterion='friedman_mse', init=None,\n",
       "             learning_rate=0.1, loss='ls', max_depth=3, max_features=None,\n",
       "             max_leaf_nodes=None, min_impurity_decrease=0.0,\n",
       "             min_impurity_split=None, min_samples_leaf=1,\n",
       "             min_samples_split=2, min_weight_fraction_leaf=0.0,\n",
       "             n_estimators=30, presort='auto', random_state=139,\n",
       "             subsample=1.0, verbose=0, warm_start=False)"
      ]
     },
     "execution_count": 37,
     "metadata": {},
     "output_type": "execute_result"
    }
   ],
   "source": [
    "from sklearn.metrics import log_loss\n",
    "sk_train = []\n",
    "sk_test = []\n",
    "sk_boo = GradientBoostingRegressor(n_estimators=N, random_state=139)\n",
    "sk_boo.fit(X_train, y_train)\n"
   ]
  },
  {
   "cell_type": "code",
   "execution_count": 36,
   "metadata": {},
   "outputs": [
    {
     "ename": "AttributeError",
     "evalue": "'numpy.float64' object has no attribute 'append'",
     "output_type": "error",
     "traceback": [
      "\u001b[0;31m---------------------------------------------------------------------------\u001b[0m",
      "\u001b[0;31mAttributeError\u001b[0m                            Traceback (most recent call last)",
      "\u001b[0;32m<ipython-input-36-7d7c4431fe50>\u001b[0m in \u001b[0;36m<module>\u001b[0;34m()\u001b[0m\n\u001b[1;32m      3\u001b[0m \u001b[0;34m\u001b[0m\u001b[0m\n\u001b[1;32m      4\u001b[0m \u001b[0;32mfor\u001b[0m \u001b[0mitem\u001b[0m \u001b[0;32min\u001b[0m \u001b[0mtrain_pred\u001b[0m\u001b[0;34m:\u001b[0m\u001b[0;34m\u001b[0m\u001b[0m\n\u001b[0;32m----> 5\u001b[0;31m     \u001b[0msk_train\u001b[0m\u001b[0;34m.\u001b[0m\u001b[0mappend\u001b[0m\u001b[0;34m(\u001b[0m\u001b[0mlog_loss\u001b[0m\u001b[0;34m(\u001b[0m\u001b[0my_train\u001b[0m\u001b[0;34m,\u001b[0m \u001b[0mitem\u001b[0m\u001b[0;34m)\u001b[0m\u001b[0;34m)\u001b[0m\u001b[0;34m\u001b[0m\u001b[0m\n\u001b[0m\u001b[1;32m      6\u001b[0m \u001b[0;34m\u001b[0m\u001b[0m\n\u001b[1;32m      7\u001b[0m \u001b[0;32mfor\u001b[0m \u001b[0mitem\u001b[0m \u001b[0;32min\u001b[0m \u001b[0mtest_pred\u001b[0m\u001b[0;34m:\u001b[0m\u001b[0;34m\u001b[0m\u001b[0m\n",
      "\u001b[0;31mAttributeError\u001b[0m: 'numpy.float64' object has no attribute 'append'"
     ]
    }
   ],
   "source": [
    "train_pred = list(sk_boo.staged_predict(X_train))\n",
    "test_pred = list(sk_boo.staged_predict(X_test))\n",
    "\n",
    "for item in train_pred:\n",
    "    sk_train.append(log_loss(y_train, item))\n",
    "    \n",
    "for item in test_pred:\n",
    "    sk_train.append(log_loss(y_test, item))\n",
    "    \n",
    "plt.plot(sk_train)\n",
    "plt.plot(sk_test)\n",
    "plt.legend([\"train\", \"test\"])"
   ]
  },
  {
   "cell_type": "code",
   "execution_count": 38,
   "metadata": {},
   "outputs": [
    {
     "name": "stdout",
     "output_type": "stream",
     "text": [
      "Test\n",
      "nan\n",
      "4758.3114376308695\n",
      "nan\n",
      "Train\n",
      "nan\n",
      "3739.549382515236\n",
      "nan\n"
     ]
    },
    {
     "name": "stderr",
     "output_type": "stream",
     "text": [
      "/home/emil/anaconda3/envs/py27/lib/python2.7/site-packages/ipykernel_launcher.py:2: RuntimeWarning: divide by zero encountered in log\n",
      "  \n",
      "/home/emil/anaconda3/envs/py27/lib/python2.7/site-packages/ipykernel_launcher.py:2: RuntimeWarning: invalid value encountered in multiply\n",
      "  \n"
     ]
    }
   ],
   "source": [
    "print(\"Test\")\n",
    "my_test = LogLoss(y_test, boo.predict(X_test))\n",
    "sk_test = LogLoss(y_test, sk_boo.predict(X_test))\n",
    "print(my_test)\n",
    "print(sk_test)\n",
    "print(my_test / sk_test)\n",
    "\n",
    "print(\"Train\")\n",
    "my_train = LogLoss(y_train, boo.predict(X_train))\n",
    "sk_train = LogLoss(y_train, sk_boo.predict(X_train))\n",
    "print(my_train)\n",
    "print(sk_train)\n",
    "print(my_train / sk_train)\n"
   ]
  },
  {
   "cell_type": "code",
   "execution_count": 17,
   "metadata": {},
   "outputs": [
    {
     "data": {
      "application/vnd.jupyter.widget-view+json": {
       "model_id": "7d886e73079e4ee3946ee8219834e803",
       "version_major": 2,
       "version_minor": 0
      },
      "text/plain": [
       "HBox(children=(IntProgress(value=0, max=7), HTML(value=u'')))"
      ]
     },
     "metadata": {},
     "output_type": "display_data"
    }
   ],
   "source": [
    "from sklearn.metrics import mean_squared_error\n",
    "\n",
    "my = []\n",
    "sk = []\n",
    "\n",
    "max_depth = 20\n",
    "for idx in tqdm(range(1, max_depth, 3)):\n",
    "    my_clf = RegressionDecisionTree(max_depth=idx)\n",
    "    sk_clf = DecisionTreeRegressor(max_depth=idx)\n",
    "    my_clf.fit(X_train.astype(np.float64),y_train.astype(np.float64))\n",
    "    sk_clf.fit(X_train.astype(np.float64),y_train.astype(np.float64))\n",
    "\n",
    "    my.append(mean_squared_error(y_test, my_clf.predict(X_test)))\n",
    "    sk.append(mean_squared_error(y_test, sk_clf.predict(X_test)))\n"
   ]
  },
  {
   "cell_type": "code",
   "execution_count": 18,
   "metadata": {},
   "outputs": [
    {
     "data": {
      "text/plain": [
       "<matplotlib.legend.Legend at 0x7f8a87da7210>"
      ]
     },
     "execution_count": 18,
     "metadata": {},
     "output_type": "execute_result"
    },
    {
     "data": {
      "image/png": "[encoded data removed]",
      "text/plain": [
       "<Figure size 432x288 with 1 Axes>"
      ]
     },
     "metadata": {},
     "output_type": "display_data"
    }
   ],
   "source": [
    "plt.plot(range(1, max_depth, 3), my, range(1, max_depth, 3), sk)\n",
    "plt.legend([\"my\", \"sklearn\"])"
   ]
  }
 ],
 "metadata": {
  "kernelspec": {
   "display_name": "Python 2",
   "language": "python",
   "name": "python2"
  },
  "language_info": {
   "codemirror_mode": {
    "name": "ipython",
    "version": 2
   },
   "file_extension": ".py",
   "mimetype": "text/x-python",
   "name": "python",
   "nbconvert_exporter": "python",
   "pygments_lexer": "ipython2",
   "version": "2.7.14"
  }
 },
 "nbformat": 4,
 "nbformat_minor": 2
}
