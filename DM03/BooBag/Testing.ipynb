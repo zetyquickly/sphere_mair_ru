{
 "cells": [
  {
   "cell_type": "code",
   "execution_count": 1,
   "metadata": {
    "collapsed": true
   },
   "outputs": [],
   "source": [
    "import numpy as np\n",
    "from tqdm import tqdm_notebook as tqdm\n",
    "from sklearn.ensemble import GradientBoostingClassifier, RandomForestRegressor\n",
    "from sklearn.metrics import log_loss, mean_squared_error\n",
    "from sklearn.tree import DecisionTreeRegressor\n",
    "\n",
    "\n",
    "from matplotlib import pyplot as plt\n",
    "%matplotlib inline"
   ]
  },
  {
   "cell_type": "code",
   "execution_count": 2,
   "metadata": {
    "collapsed": true
   },
   "outputs": [],
   "source": [
    "class DataLoader:\n",
    "    def __init__(self, path):\n",
    "        self.path = path\n",
    "        \n",
    "    def get(self):\n",
    "        with open(self.path, \"r\") as f:\n",
    "            data = np.loadtxt(f)\n",
    "        y = data[:, 0] \n",
    "        X = data[:, 1:]\n",
    "        return X, y\n",
    "X_train, y_train = DataLoader(\"spam.train.txt\").get()\n",
    "X_test, y_test = DataLoader(\"spam.test.txt\").get()\n"
   ]
  },
  {
   "cell_type": "markdown",
   "metadata": {},
   "source": [
    "### Дерево регресса"
   ]
  },
  {
   "cell_type": "code",
   "execution_count": 3,
   "metadata": {
    "collapsed": true
   },
   "outputs": [],
   "source": [
    "import numpy as np\n",
    "\n",
    "class _Node:\n",
    "    def __init__(self, node_idx):\n",
    "        self.node_idx = node_idx\n",
    "        self.eps = 1e-4\n",
    "        self.is_leaf = False\n",
    "\n",
    "        self.n_obj = None\n",
    "\n",
    "        self.n_best_fea = None\n",
    "        self.threshold = None\n",
    "\n",
    "        self.left_node = None\n",
    "        self.right_node = None\n",
    "\n",
    "        self.prediction = None\n",
    "\n",
    "    def fit(self, x, y, depth, max_depth, min_samples_split=2, min_samples_leaf=1):\n",
    "        self.n_obj = x.shape[0]\n",
    "\n",
    "        if depth == max_depth or x.shape[0] < min_samples_split:\n",
    "            self.is_leaf = True\n",
    "            self.prediction = np.mean(y)\n",
    "            return\n",
    "\n",
    "        x_sliced = x\n",
    "        y_sliced = y\n",
    "        \n",
    "        # индексы отсортированных столбцов (признаков)\n",
    "        idx_sliced_sorted = np.argsort(x_sliced, axis=0)\n",
    "        \n",
    "        # отсортированные x, y\n",
    "        x_sliced_sorted = np.sort(x_sliced, axis=0)\n",
    "        y_sliced_sorted = y_sliced[idx_sliced_sorted]\n",
    "        \n",
    "        # получаем квадраты целей и аккумулируем их в последней строке\n",
    "        y_sq_cumsum = np.cumsum(y_sliced_sorted ** 2, axis=0)\n",
    "        # то же на развернутой матрице\n",
    "        y_sq_cumsum_reversed = np.cumsum(y_sliced_sorted[::-1] ** 2, axis=0)[::-1]\n",
    "        \n",
    "        # аккумуляция первых степеней\n",
    "        y_cumsum = np.cumsum(y_sliced_sorted, axis=0)\n",
    "        # аккумуляция первых степеней в развернутой матрице\n",
    "        y_cumsum_reversed = np.cumsum(y_sliced_sorted[::-1], axis=0)[::-1]\n",
    "\n",
    "        # считаем mse\n",
    "        cnt_array = np.array(range(1, y_cumsum.shape[0] + 1)).reshape(-1, 1)\n",
    "        mse_left = y_sq_cumsum - y_cumsum ** 2 / cnt_array\n",
    "        mse_right = y_sq_cumsum_reversed - y_cumsum_reversed ** 2 / cnt_array[::-1]\n",
    "        \n",
    "        # скалдываем левый и правый вариант mse \n",
    "        mse = mse_left\n",
    "        mse[:-1] += mse_right[1:]\n",
    "\n",
    "        # исключаем из рассмотрения незначительные признаки (заполняя их nan)\n",
    "        garbage_fea = np.where(np.abs(np.max(x, axis=0) - np.min(x, axis=0)) < self.eps)[0]\n",
    "        if garbage_fea.shape[0] > 0:\n",
    "            mse[:, garbage_fea] = np.nan\n",
    "        #исключаем последнюю строку\n",
    "        mse[-1] = np.nan\n",
    "        #исключаем случаи разделения по признакам с равным значениями mse\n",
    "        mse[np.isclose(x_sliced_sorted, np.roll(x_sliced_sorted, shift=-1, axis=0))] = np.nan\n",
    "        \n",
    "        # получаем двумерные индексы в матрице mse \n",
    "        try:\n",
    "            n_best_obj, self.n_best_fea = np.unravel_index(np.nanargmin(mse), mse.shape)            \n",
    "        except ValueError:\n",
    "            #print(x_sliced_sorted)\n",
    "            self.is_leaf = True\n",
    "            self.prediction = np.mean(y)\n",
    "            return\n",
    "        \n",
    "        # фиксируем порог\n",
    "        self.threshold = (x_sliced_sorted[n_best_obj, self.n_best_fea] + \n",
    "                          x_sliced_sorted[n_best_obj+1, self.n_best_fea])/2.0\n",
    "\n",
    "        # получаем индексы левой и правой подматрице\n",
    "        left_obj = np.where(x[:, self.n_best_fea] <= self.threshold)[0]\n",
    "        right_obj = np.where(x[:, self.n_best_fea] > self.threshold)[0]\n",
    "        if left_obj.shape[0] < min_samples_leaf or right_obj.shape[0] < min_samples_leaf:\n",
    "            self.is_leaf = True\n",
    "            self.prediction = np.mean(y)\n",
    "            return\n",
    "        \n",
    "        self.left_node = _Node(2 * self.node_idx + 1)\n",
    "        self.right_node = _Node(2 * self.node_idx + 2)\n",
    "        self.left_node.fit(x[left_obj], y[left_obj], depth + 1, max_depth, min_samples_split)\n",
    "        self.right_node.fit(x[right_obj], y[right_obj], depth + 1, max_depth, min_samples_split)\n",
    "\n",
    "    def predict(self, x):\n",
    "        if self.is_leaf:\n",
    "            return self.prediction\n",
    "\n",
    "        prediction = np.empty([x.shape[0]])\n",
    "        left_obj = np.where(x[:, self.n_best_fea] <= self.threshold)\n",
    "        right_obj = np.where(x[:, self.n_best_fea] > self.threshold)\n",
    "\n",
    "        prediction[left_obj] = self.left_node.predict(x[left_obj])\n",
    "        prediction[right_obj] = self.right_node.predict(x[right_obj])\n",
    "\n",
    "        return prediction\n",
    "    \n",
    "    def apply(self, x):\n",
    "        if self.is_leaf:\n",
    "            return self.node_idx\n",
    "        \n",
    "        idx = np.empty([x.shape[0]], dtype=np.int32)\n",
    "        left_obj = np.where(x[:, self.n_best_fea] <= self.threshold)\n",
    "        right_obj = np.where(x[:, self.n_best_fea] > self.threshold)\n",
    "\n",
    "        idx[left_obj] = self.left_node.apply(x[left_obj])\n",
    "        idx[right_obj] = self.right_node.apply(x[right_obj])\n",
    "\n",
    "        return idx\n",
    "\n",
    "    def traverse(self, nodes_list):\n",
    "        nodes_list.append(self)\n",
    "        if self.is_leaf:\n",
    "            return\n",
    "        self.left_node.traverse(nodes_list)\n",
    "        self.right_node.traverse(nodes_list)\n",
    "            \n",
    "        \n",
    "class RegressionDecisionTree:\n",
    "    def __init__(self, max_depth=3, min_samples_split=2):\n",
    "        self.max_depth = max_depth\n",
    "        self.min_samples_split = min_samples_split\n",
    "\n",
    "        self.top_node = _Node(node_idx=0)\n",
    "        self.nodes = []\n",
    "        self.estimators_ = [self]\n",
    "\n",
    "    def fit(self, x, y):\n",
    "        self.top_node.fit(x, y, 0, self.max_depth, self.min_samples_split)\n",
    "        self.traverse()\n",
    "\n",
    "    def predict(self, x):\n",
    "        return self.top_node.predict(x)\n",
    "\n",
    "    def traverse(self):\n",
    "        return self.top_node.traverse(self.nodes)\n",
    "        \n",
    "    def __getitem__(self, key):\n",
    "        for item in self.nodes:\n",
    "            if item.node_idx == key:\n",
    "                return item"
   ]
  },
  {
   "cell_type": "markdown",
   "metadata": {},
   "source": [
    "### Bagging"
   ]
  },
  {
   "cell_type": "code",
   "execution_count": 4,
   "metadata": {
    "collapsed": true
   },
   "outputs": [],
   "source": [
    "class Bagging(object):\n",
    "    \n",
    "    def __init__(self, max_depth = 3, n_estimators = 30, subsample_size = 5000, max_features=None):\n",
    "            \n",
    "        self.max_depth = max_depth\n",
    "        self.n_estimators = n_estimators\n",
    "        self.subsample_size = subsample_size\n",
    "        self.max_features = max_features\n",
    "        self.estimators_ = [RegressionDecisionTree(max_depth=max_depth)\n",
    "                               for _ in range(self.n_estimators)]\n",
    "    \n",
    "    def get_bootstrap_indices(self, M, N):\n",
    "        self.indices = np.random.choice(M, (self.n_estimators, self.subsample_size), replace=True)\n",
    "        if self.max_features is not None:\n",
    "            self.rsm_ind = [np.random.choice(N, self.max_features, replace=False) \n",
    "                                for _ in range(self.n_estimators)]\n",
    "    \n",
    "    def fit(self, X, y): \n",
    "        self.get_bootstrap_indices(*X.shape)\n",
    "        for i in range(self.n_estimators):\n",
    "            if  self.max_features is not None:\n",
    "                samples_X = X[self.indices[i], :][:, self.rsm_ind[i]]\n",
    "            else: \n",
    "                samples_X = X[self.indices[i], :]\n",
    "            samples_y = y[self.indices[i]]\n",
    "            self.estimators_[i].fit(samples_X.astype(np.float64), samples_y.astype(np.float64))\n",
    "                \n",
    "    def predict(self, X):      \n",
    "        pred = []\n",
    "        for i in range(self.n_estimators):\n",
    "            if self.max_features is not None:\n",
    "                test = X[:, self.rsm_ind[i]]\n",
    "            else:\n",
    "                test = X\n",
    "            pred.append(self.estimators_[i].predict(test.astype(np.float64)))\n",
    "        return np.mean(pred, axis=0)"
   ]
  },
  {
   "cell_type": "markdown",
   "metadata": {},
   "source": [
    "### Бустинг"
   ]
  },
  {
   "cell_type": "code",
   "execution_count": 76,
   "metadata": {
    "collapsed": true
   },
   "outputs": [],
   "source": [
    "def sigmoid(h):\n",
    "    return 1./(1. + np.exp(-h))\n",
    "\n",
    "class Boosting(object):\n",
    "    def __init__(self, N_steps=20, eta = 0.1, n_features = None, \n",
    "                 n_samples = 1000, n_in_bag = 30, est_type=\"bagging\"):\n",
    "        self.boo = []\n",
    "        self.N_steps = N_steps\n",
    "        self.eta = eta\n",
    "        self.n_features = n_features\n",
    "        self.n_samples = n_samples\n",
    "        self.n_in_bag = n_in_bag\n",
    "        self.est_type = est_type\n",
    "        \n",
    "    def append(self, bag):\n",
    "        self.boo.append(bag)\n",
    "        \n",
    "    def predict(self, X, how_much=None):\n",
    "        prediction = np.zeros(X.shape[0])\n",
    "        idx = 0\n",
    "        for bag in self.boo:\n",
    "            prediction += bag.predict(X)\n",
    "            idx += 1\n",
    "            if (idx == how_much):\n",
    "                break\n",
    "        return prediction\n",
    "    \n",
    "    def _dLdh(self, y_true, y_pred):\n",
    "        return sigmoid(y_pred) - y_true\n",
    "    \n",
    "    def _next_values(self, y_true, y_pred):\n",
    "        return -self._dLdh(y_true, y_pred)\n",
    "\n",
    "    def _update_terminal_region(self, terminal_regions, leaf, X, y, residual):\n",
    "\n",
    "            terminal_region = np.where(terminal_regions.astype(np.int32) == leaf.node_idx)[0]\n",
    "            residual = residual.take(terminal_region, axis=0)\n",
    "            y = y.take(terminal_region, axis=0)\n",
    "            \n",
    "            \n",
    "            numerator = np.sum(residual)\n",
    "            denominator = np.sum((y - residual) * (1 - y + residual))   \n",
    "            \n",
    "            # prevents overflow and division by zero\n",
    "            if abs(denominator) < 1e-150:\n",
    "                leaf.prediction = 0.0\n",
    "            else:\n",
    "                leaf.prediction = numerator / denominator\n",
    "\n",
    "    def _optimize_leafs(self, forest, X, y, residual):\n",
    "        for tree in forest.estimators_:\n",
    "            terminal_regions = tree.top_node.apply(X.astype(np.float32))\n",
    "            for node in tree.nodes:\n",
    "                if node.is_leaf:\n",
    "                    self._update_terminal_region(terminal_regions, node, X, y, residual)\n",
    "    \n",
    "    def fit(self, X, y):\n",
    "        labels_to_predict = y\n",
    "        h_i = y\n",
    "        \n",
    "        for idx in tqdm(range(0, self.N_steps), desc=\"Training...\"):\n",
    "            if self.est_type == \"bagging\":\n",
    "                bag = Bagging(n_estimators = self.n_in_bag, subsample_size = self.n_samples, \n",
    "                              max_features=self.n_features)\n",
    "            elif self.est_type == \"tree\":\n",
    "                bag = RegressionDecisionTree()\n",
    "            \n",
    "            labels_to_predict = self._next_values(y, h_i)# делаем шаг бустинга\n",
    "            bag.fit(X_train, labels_to_predict)\n",
    "            self.boo.append(bag)         \n",
    "            h_i = h_i + self.eta*bag.predict(X)\n",
    "            \n",
    "            \n",
    "            self._optimize_leafs(bag, X, y, labels_to_predict)\n",
    "            \n",
    "            "
   ]
  },
  {
   "cell_type": "markdown",
   "metadata": {},
   "source": [
    "## Тестирование "
   ]
  },
  {
   "cell_type": "markdown",
   "metadata": {},
   "source": [
    "### Сравнение с sklearn на деревьях (без беггинга)"
   ]
  },
  {
   "cell_type": "code",
   "execution_count": 74,
   "metadata": {},
   "outputs": [
    {
     "data": {
      "application/vnd.jupyter.widget-view+json": {
       "model_id": "cde5016ba87e4f3ba4b3260d5250f859",
       "version_major": 2,
       "version_minor": 0
      },
      "text/plain": [
       "HBox(children=(IntProgress(value=0, description=u'Training...', max=30), HTML(value=u'')))"
      ]
     },
     "metadata": {},
     "output_type": "display_data"
    },
    {
     "data": {
      "application/vnd.jupyter.widget-view+json": {
       "model_id": "a37f37fcbcb44b84b5e8db71a5841662",
       "version_major": 2,
       "version_minor": 0
      },
      "text/plain": [
       "HBox(children=(IntProgress(value=0, description=u'Predicting...', max=30), HTML(value=u'')))"
      ]
     },
     "metadata": {},
     "output_type": "display_data"
    }
   ],
   "source": [
    "N = 30\n",
    "sk_boo = GradientBoostingClassifier(n_estimators=N, random_state=139)\n",
    "sk_boo.fit(X_train, y_train)\n",
    "\n",
    "sk_train = []\n",
    "sk_test = []\n",
    "\n",
    "train_pred = list(sk_boo.staged_predict(X_train))\n",
    "test_pred = list(sk_boo.staged_predict(X_test))\n",
    "\n",
    "for item in train_pred:\n",
    "    sk_train.append(log_loss(y_train, item))\n",
    "    \n",
    "for item in test_pred:\n",
    "    sk_test.append(log_loss(y_test, item))\n",
    "\n",
    "boo = Boosting(N_steps=N, eta=0.1, est_type=\"tree\")\n",
    "boo.fit(X_train, y_train)\n",
    "\n",
    "my_train = []\n",
    "my_test = []\n",
    "\n",
    "for idx in tqdm(range(1, N+1), desc=\"Predicting...\"):\n",
    "    my_train.append(log_loss(y_train, boo.predict(X_train, idx)))\n",
    "    my_test.append(log_loss(y_test, boo.predict(X_test, idx)))"
   ]
  },
  {
   "cell_type": "code",
   "execution_count": 77,
   "metadata": {},
   "outputs": [
    {
     "data": {
      "text/plain": [
       "[<matplotlib.lines.Line2D at 0x7f4d32cd3790>]"
      ]
     },
     "execution_count": 77,
     "metadata": {},
     "output_type": "execute_result"
    },
    {
     "data": {
      "image/png": "[encoded data removed]",
      "text/plain": [
       "<Figure size 432x288 with 1 Axes>"
      ]
     },
     "metadata": {},
     "output_type": "display_data"
    }
   ],
   "source": [
    "sk_train = np.array(sk_train)\n",
    "sk_test = np.array(sk_test)\n",
    "\n",
    "plt.plot(sk_train, c='orange')\n",
    "plt.plot(my_train)\n",
    "plt.legend([\"sk_train\",\"my_train\"])\n",
    "\n",
    "plt.plot(sk_train*0.8, c='orange', linestyle=\"--\")\n",
    "plt.plot(sk_train*1.2, c='orange', linestyle=\"--\")\n"
   ]
  },
  {
   "cell_type": "code",
   "execution_count": 15,
   "metadata": {},
   "outputs": [
    {
     "data": {
      "text/plain": [
       "[<matplotlib.lines.Line2D at 0x7f8fe6922ed0>]"
      ]
     },
     "execution_count": 15,
     "metadata": {},
     "output_type": "execute_result"
    },
    {
     "data": {
      "image/png": "[encoded data removed]",
      "text/plain": [
       "<Figure size 432x288 with 1 Axes>"
      ]
     },
     "metadata": {},
     "output_type": "display_data"
    }
   ],
   "source": [
    "sk_train = np.array(sk_train)\n",
    "sk_test = np.array(sk_test)\n",
    "\n",
    "plt.plot(sk_test, c='orange')\n",
    "plt.plot(my_test)\n",
    "plt.legend([\"sk_test\", \"my_test\"])\n",
    "\n",
    "plt.plot(sk_test*0.8, c='orange', linestyle=\"--\")\n",
    "plt.plot(sk_test*1.2, c='orange', linestyle=\"--\")"
   ]
  },
  {
   "cell_type": "code",
   "execution_count": 29,
   "metadata": {},
   "outputs": [
    {
     "data": {
      "text/plain": [
       "0.029319579005761143"
      ]
     },
     "execution_count": 29,
     "metadata": {},
     "output_type": "execute_result"
    }
   ],
   "source": [
    "np.abs(sk_test[185:301] - my_test[185:301]).mean()"
   ]
  },
  {
   "cell_type": "markdown",
   "metadata": {},
   "source": [
    "### Сравнение с sklearn ансамбля бэггингов"
   ]
  },
  {
   "cell_type": "code",
   "execution_count": 79,
   "metadata": {},
   "outputs": [
    {
     "data": {
      "application/vnd.jupyter.widget-view+json": {
       "model_id": "372f5eef80e54e76b72198a311a176c2",
       "version_major": 2,
       "version_minor": 0
      },
      "text/plain": [
       "HBox(children=(IntProgress(value=0, description=u'Training...', max=10), HTML(value=u'')))"
      ]
     },
     "metadata": {},
     "output_type": "display_data"
    },
    {
     "data": {
      "application/vnd.jupyter.widget-view+json": {
       "model_id": "f7708f2836c540918195927775260979",
       "version_major": 2,
       "version_minor": 0
      },
      "text/plain": [
       "HBox(children=(IntProgress(value=0, description=u'Predicting...', max=10), HTML(value=u'')))"
      ]
     },
     "metadata": {},
     "output_type": "display_data"
    }
   ],
   "source": [
    "N = 10\n",
    "sk_boo = GradientBoostingClassifier(n_estimators=N, random_state=139)\n",
    "sk_boo.fit(X_train, y_train)\n",
    "\n",
    "sk_train = []\n",
    "sk_test = []\n",
    "\n",
    "train_pred = list(sk_boo.staged_predict(X_train))\n",
    "test_pred = list(sk_boo.staged_predict(X_test))\n",
    "\n",
    "for item in train_pred:\n",
    "    sk_train.append(log_loss(y_train, item))\n",
    "    \n",
    "for item in test_pred:\n",
    "    sk_test.append(log_loss(y_test, item))\n",
    "\n",
    "boo = Boosting(N_steps=N, eta=0.1, est_type=\"bagging\")\n",
    "boo.fit(X_train, y_train)\n",
    "\n",
    "my_train = []\n",
    "my_test = []\n",
    "\n",
    "for idx in tqdm(range(1, N+1), desc=\"Predicting...\"):\n",
    "    my_train.append(log_loss(y_train, boo.predict(X_train, idx)))\n",
    "    my_test.append(log_loss(y_test, boo.predict(X_test, idx)))"
   ]
  },
  {
   "cell_type": "code",
   "execution_count": 70,
   "metadata": {},
   "outputs": [
    {
     "data": {
      "text/plain": [
       "[6.9827921631293774,\n",
       " 3.4587539664163702,\n",
       " 3.2389005946875491,\n",
       " 3.235465871537953,\n",
       " 3.874302431371353,\n",
       " 3.012209820987735,\n",
       " 3.0156506667509078,\n",
       " 3.2663740065889089,\n",
       " 2.9194732501221781,\n",
       " 3.1530274270220713]"
      ]
     },
     "execution_count": 70,
     "metadata": {},
     "output_type": "execute_result"
    }
   ],
   "source": [
    "sk_test"
   ]
  },
  {
   "cell_type": "code",
   "execution_count": 80,
   "metadata": {},
   "outputs": [
    {
     "data": {
      "text/plain": [
       "[<matplotlib.lines.Line2D at 0x7f4d400cfe10>]"
      ]
     },
     "execution_count": 80,
     "metadata": {},
     "output_type": "execute_result"
    },
    {
     "data": {
      "image/png": "[encoded data removed]",
      "text/plain": [
       "<Figure size 432x288 with 1 Axes>"
      ]
     },
     "metadata": {},
     "output_type": "display_data"
    }
   ],
   "source": [
    "sk_train = np.array(sk_train)\n",
    "sk_test = np.array(sk_test)\n",
    "\n",
    "plt.plot(sk_train, c='orange')\n",
    "plt.plot(my_train)\n",
    "plt.legend([\"sk_train\",\"my_train\"])\n",
    "\n",
    "plt.plot(sk_train*0.8, c='orange', linestyle=\"--\")\n",
    "plt.plot(sk_train*1.2, c='orange', linestyle=\"--\")\n"
   ]
  },
  {
   "cell_type": "code",
   "execution_count": 81,
   "metadata": {},
   "outputs": [
    {
     "data": {
      "text/plain": [
       "[<matplotlib.lines.Line2D at 0x7f4d40200650>]"
      ]
     },
     "execution_count": 81,
     "metadata": {},
     "output_type": "execute_result"
    },
    {
     "data": {
      "image/png": "[encoded data removed]",
      "text/plain": [
       "<Figure size 432x288 with 1 Axes>"
      ]
     },
     "metadata": {},
     "output_type": "display_data"
    }
   ],
   "source": [
    "sk_train = np.array(sk_train)\n",
    "sk_test = np.array(sk_test)\n",
    "\n",
    "plt.plot(sk_test, c='orange')\n",
    "plt.plot(my_test)\n",
    "plt.legend([\"sk_test\", \"my_test\"])\n",
    "\n",
    "plt.plot(sk_test*0.8, c='orange', linestyle=\"--\")\n",
    "plt.plot(sk_test*1.2, c='orange', linestyle=\"--\")"
   ]
  },
  {
   "cell_type": "code",
   "execution_count": 39,
   "metadata": {},
   "outputs": [
    {
     "data": {
      "text/plain": [
       "[<matplotlib.lines.Line2D at 0x7f8fe415a0d0>]"
      ]
     },
     "execution_count": 39,
     "metadata": {},
     "output_type": "execute_result"
    },
    {
     "data": {
      "image/png": "[encoded data removed]",
      "text/plain": [
       "<Figure size 432x288 with 1 Axes>"
      ]
     },
     "metadata": {},
     "output_type": "display_data"
    }
   ],
   "source": [
    "sk_train = np.array(sk_train)\n",
    "sk_test = np.array(sk_test)\n",
    "\n",
    "ind = range(250,300)\n",
    "\n",
    "plt.plot(sk_test[ind], c='orange')\n",
    "plt.plot(np.array(my_test)[ind])\n",
    "plt.legend([\"sk_test\", \"my_test\"])\n",
    "\n",
    "plt.plot(sk_test[ind]*0.8, c='orange', linestyle=\"--\")\n",
    "plt.plot(sk_test[ind]*1.2, c='orange', linestyle=\"--\")"
   ]
  },
  {
   "cell_type": "code",
   "execution_count": 42,
   "metadata": {},
   "outputs": [
    {
     "data": {
      "text/plain": [
       "0.252274991133664"
      ]
     },
     "execution_count": 42,
     "metadata": {},
     "output_type": "execute_result"
    }
   ],
   "source": [
    "np.abs(sk_test[190:301] - my_test[190:301]).mean()"
   ]
  },
  {
   "cell_type": "code",
   "execution_count": 6,
   "metadata": {},
   "outputs": [
    {
     "data": {
      "application/vnd.jupyter.widget-view+json": {
       "model_id": "0bc29b902a2049dc8bb3b5bb594d9099",
       "version_major": 2,
       "version_minor": 0
      },
      "text/plain": [
       "HBox(children=(IntProgress(value=0, description=u'Training...', max=5), HTML(value=u'')))"
      ]
     },
     "metadata": {},
     "output_type": "display_data"
    },
    {
     "name": "stdout",
     "output_type": "stream",
     "text": [
      "\n"
     ]
    }
   ],
   "source": [
    "N = 5\n",
    "boo = Boosting(N_steps=N, eta=0.1, est_type=\"tree\")\n",
    "boo.fit(X_train, y_train)"
   ]
  },
  {
   "cell_type": "code",
   "execution_count": 7,
   "metadata": {},
   "outputs": [
    {
     "data": {
      "application/vnd.jupyter.widget-view+json": {
       "model_id": "bded17456b354a08931e3781f62ac956",
       "version_major": 2,
       "version_minor": 0
      },
      "text/plain": [
       "HBox(children=(IntProgress(value=0, description=u'Predicting...', max=5), HTML(value=u'')))"
      ]
     },
     "metadata": {},
     "output_type": "display_data"
    },
    {
     "name": "stdout",
     "output_type": "stream",
     "text": [
      "\n"
     ]
    }
   ],
   "source": [
    "my_train = []\n",
    "my_test = []\n",
    "for idx in tqdm(range(1, N+1), desc=\"Predicting...\"):\n",
    "    my_train.append(log_loss(y_train, boo.predict(X_train, idx)))\n",
    "    my_test.append(log_loss(y_test, boo.predict(X_test, idx)))"
   ]
  },
  {
   "cell_type": "code",
   "execution_count": 11,
   "metadata": {},
   "outputs": [
    {
     "data": {
      "text/plain": [
       "(array([], dtype=int64),)"
      ]
     },
     "execution_count": 11,
     "metadata": {},
     "output_type": "execute_result"
    }
   ],
   "source": [
    "np.where(boo.predict(X_train, 1) > 1e-3)"
   ]
  },
  {
   "cell_type": "code",
   "execution_count": 8,
   "metadata": {},
   "outputs": [
    {
     "data": {
      "text/plain": [
       "[20.076607229129664,\n",
       " 3.3079228280048403,\n",
       " 2.7625900842665794,\n",
       " 2.9055430544649483,\n",
       " 3.0211299515190206]"
      ]
     },
     "execution_count": 8,
     "metadata": {},
     "output_type": "execute_result"
    }
   ],
   "source": [
    "my_train"
   ]
  },
  {
   "cell_type": "code",
   "execution_count": 9,
   "metadata": {},
   "outputs": [
    {
     "data": {
      "text/plain": [
       "[27.556145884682607,\n",
       " 8.2876827475942587,\n",
       " 7.6175388982380845,\n",
       " 6.9660735968755132,\n",
       " 7.0386266480891049]"
      ]
     },
     "execution_count": 9,
     "metadata": {},
     "output_type": "execute_result"
    }
   ],
   "source": [
    "my_test"
   ]
  },
  {
   "cell_type": "code",
   "execution_count": 46,
   "metadata": {},
   "outputs": [
    {
     "data": {
      "text/plain": [
       "DecisionTreeRegressor(criterion='mse', max_depth=3, max_features=None,\n",
       "           max_leaf_nodes=None, min_impurity_decrease=0.0,\n",
       "           min_impurity_split=None, min_samples_leaf=1,\n",
       "           min_samples_split=2, min_weight_fraction_leaf=0.0,\n",
       "           presort=False, random_state=None, splitter='best')"
      ]
     },
     "execution_count": 46,
     "metadata": {},
     "output_type": "execute_result"
    }
   ],
   "source": [
    "clf = RegressionDecisionTree()\n",
    "clf.fit(X_train, y_train)\n",
    "sk_clf = DecisionTreeRegressor(max_depth=3)\n",
    "sk_clf.fit(X_train, y_train)"
   ]
  },
  {
   "cell_type": "code",
   "execution_count": 47,
   "metadata": {},
   "outputs": [
    {
     "name": "stdout",
     "output_type": "stream",
     "text": [
      "(0.32085731812856333, 0.32085731812856333)\n"
     ]
    }
   ],
   "source": [
    "print(log_loss(y_train, clf.predict(X_train)), log_loss(y_train, sk_clf.predict(X_train)))"
   ]
  },
  {
   "cell_type": "code",
   "execution_count": 53,
   "metadata": {},
   "outputs": [
    {
     "data": {
      "application/vnd.jupyter.widget-view+json": {
       "model_id": "01a9a613b7174f91b2408d32b3bc42a6",
       "version_major": 2,
       "version_minor": 0
      },
      "text/plain": [
       "HBox(children=(IntProgress(value=0, description=u'Training...', max=1), HTML(value=u'')))"
      ]
     },
     "metadata": {},
     "output_type": "display_data"
    }
   ],
   "source": [
    "N = 1\n",
    "boo = Boosting(N_steps=N, eta=0.1, est_type=\"tree\")\n",
    "boo.fit(X_train, y_train)"
   ]
  },
  {
   "cell_type": "code",
   "execution_count": 54,
   "metadata": {},
   "outputs": [
    {
     "data": {
      "text/plain": [
       "0.32085731812856333"
      ]
     },
     "execution_count": 54,
     "metadata": {},
     "output_type": "execute_result"
    }
   ],
   "source": [
    "log_loss(y_train, boo.predict(X_train, 1))\n"
   ]
  },
  {
   "cell_type": "code",
   "execution_count": 55,
   "metadata": {},
   "outputs": [
    {
     "data": {
      "text/plain": [
       "14.462503975363374"
      ]
     },
     "execution_count": 55,
     "metadata": {},
     "output_type": "execute_result"
    }
   ],
   "source": [
    "sk_boo = GradientBoostingClassifier(n_estimators=1, random_state=139)\n",
    "sk_boo.fit(X_train, y_train)\n",
    "log_loss(y_train, sk_boo.predict(X_train))"
   ]
  },
  {
   "cell_type": "code",
   "execution_count": 61,
   "metadata": {},
   "outputs": [],
   "source": [
    "sk_train = []\n",
    "sk_test = []\n",
    "sk_boo = GradientBoostingClassifier(n_estimators=5, random_state=139)\n",
    "sk_boo.fit(X_train, y_train)\n",
    "\n",
    "train_pred = list(sk_boo.staged_predict(X_train))\n",
    "test_pred = list(sk_boo.staged_predict(X_test))\n",
    "\n",
    "for item in train_pred:\n",
    "    sk_train.append(log_loss(y_train, item))\n",
    "    \n",
    "for item in test_pred:\n",
    "    sk_test.append(log_loss(y_test, item))"
   ]
  },
  {
   "cell_type": "code",
   "execution_count": 62,
   "metadata": {},
   "outputs": [
    {
     "data": {
      "text/plain": [
       "[6.9827921631293774,\n",
       " 3.4587539664163702,\n",
       " 3.2389005946875491,\n",
       " 3.235465871537953,\n",
       " 3.874302431371353]"
      ]
     },
     "execution_count": 62,
     "metadata": {},
     "output_type": "execute_result"
    }
   ],
   "source": [
    "sk_test"
   ]
  },
  {
   "cell_type": "code",
   "execution_count": null,
   "metadata": {
    "collapsed": true
   },
   "outputs": [],
   "source": []
  }
 ],
 "metadata": {
  "kernelspec": {
   "display_name": "Python 2",
   "language": "python",
   "name": "python2"
  },
  "language_info": {
   "codemirror_mode": {
    "name": "ipython",
    "version": 2
   },
   "file_extension": ".py",
   "mimetype": "text/x-python",
   "name": "python",
   "nbconvert_exporter": "python",
   "pygments_lexer": "ipython2",
   "version": "2.7.15"
  }
 },
 "nbformat": 4,
 "nbformat_minor": 2
}
