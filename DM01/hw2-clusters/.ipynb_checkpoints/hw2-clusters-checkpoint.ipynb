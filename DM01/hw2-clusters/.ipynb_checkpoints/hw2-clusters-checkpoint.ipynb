{
 "cells": [
  {
   "cell_type": "markdown",
   "metadata": {},
   "source": [
    "# Алгоритмы интеллектуальной обработки больших объемов данных\n",
    "## Домашнее задание №2 - Алгоритмы кластеризации\n"
   ]
  },
  {
   "cell_type": "markdown",
   "metadata": {},
   "source": [
    "###### <hr\\>\n",
    "**Общая информация**\n",
    "\n",
    "**Срок сдачи:** 23 октября 2017, 06:00 <br\\>\n",
    "**Штраф за опоздание:** -2 балла после 06:00 23 октября, -4 балла после 06:00 30 октября, -6 баллов после 06:00 6 ноября\n",
    "\n",
    "При отправлении ДЗ указывайте фамилию в названии файла\n",
    "Присылать ДЗ необходимо в виде ссылки на свой github репозиторий в slack @alkhamush Необходимо в slack создать таск в приватный чат:\n",
    "/todo Фамилия Имя ссылка на гитхаб @alkhamush\n",
    "Пример:\n",
    "/todo Ксения Стройкова https://github.com/stroykova/spheremailru/stroykova_hw1.ipynb @alkhamush\n",
    "\n",
    "Используйте данный Ipython Notebook при оформлении домашнего задания.\n",
    "<hr\\>"
   ]
  },
  {
   "cell_type": "markdown",
   "metadata": {},
   "source": [
    "###### Задание 1 (4 балла)\n",
    "Реализовать алгоритм кластеризации, который относится к вашему варианту. Проверить работоспособность алгоритма на \"Iris\". Сравните свой алгоритм кластеризации с алгоритмом из scikit-learn по времени выполнения, использую timeit. Ваша реализация не должна работать сильно дольше, а в идеале должна быть даже немного быстрее.\n",
    "\n",
    "###### Задание 2 (2 балла)\n",
    "Выбрать, имплементировать и использовать критерий качества\n",
    "\n",
    "###### Задание 3 (3балла)\n",
    "Применить алгоритм кластеризации к данным по странам.   \n",
    "Подход следующий: фиксируем год, для каждой страны берём индикаторы по зафиксированному году, кластеризуем по индикаторам.   \n",
    "Разбиение должно быть объяснимым, в противном случае, скорее всего нужно лучше настроить параметры кластеризации.   \n",
    "Данные нужно скачать тут https://data.worldbank.org/data-catalog/world-development-indicators.   \n",
    "Также необходимо показать, какие страны попали в общий кластер.\n",
    "изуализировать результат с помощью T-SNE. Внимание! На полном объеме данных данный алгоритм может работать существенное время.\n",
    "\n",
    "###### Задание 4 (1 балл)\n",
    "Опишите в выводе почему и какие страны попали в общий кластер."
   ]
  },
  {
   "cell_type": "markdown",
   "metadata": {},
   "source": [
    "Основная задача этого задания - реализация одного из алгоритмов кластеризации. Кроме того, мы научимся подбирать параметры алгоритма, визуализируем результат кластеризации и попытаемся проанализировать природу полученных кластеров."
   ]
  },
  {
   "cell_type": "code",
   "execution_count": 1,
   "metadata": {},
   "outputs": [
    {
     "name": "stdout",
     "output_type": "stream",
     "text": [
      "Populating the interactive namespace from numpy and matplotlib\n"
     ]
    }
   ],
   "source": [
    "import pandas as pd\n",
    "import pylab as pl\n",
    "import numpy as np\n",
    "import scipy.spatial as ss\n",
    "import sklearn.cluster as sc\n",
    "import sklearn.manifold as sm\n",
    "import sklearn.datasets as ds\n",
    "import sklearn.metrics as smt\n",
    "\n",
    "import matplotlib.pyplot as plt\n",
    "import mpl_toolkits.basemap as bm\n",
    "\n",
    "%matplotlib inline\n",
    "\n",
    "plt.style.use('ggplot')\n",
    "plt.rcParams['figure.figsize'] = (12,5)\n",
    "\n",
    "# Plotting config\n",
    "%pylab inline"
   ]
  },
  {
   "cell_type": "markdown",
   "metadata": {},
   "source": [
    "## Реализация алгоритма"
   ]
  },
  {
   "cell_type": "markdown",
   "metadata": {},
   "source": [
    "Алгоритм кластеризации, который необходимо реализовать, выбирается на основании Вашего порядкового номера в списке группы."
   ]
  },
  {
   "cell_type": "markdown",
   "metadata": {},
   "source": [
    "1. Авилова Екатерина\n",
    "2. Адаменко Павел\n",
    "3. Акиньщиков Алексей\n",
    "4. Афанасьева Анастасия\n",
    "5. Балес Александр\n",
    "6. Беляев Владимир\n",
    "7. Беспалова Анастасия\n",
    "8. Богомолов Эмиль\n",
    "9. Боднарюк Василий\n",
    "10. Бучкин Александр\n",
    "11. Валинуров Денис\n",
    "12. Волков Глеб\n",
    "13. Голенков Кирилл\n",
    "14. Горбушин Михаил\n",
    "15. Димов Илья\n",
    "16. Докшина Елизавета\n",
    "17. Дорожинский Владислав\n",
    "18. Жирнов Михаил\n",
    "19. Жолковский Евгений\n",
    "20. Зайдель Петр\n",
    "21. Зимнюков Максим\n",
    "22. Иванов Илья\n",
    "23. Кашипов Артем\n",
    "24. Комов Евгений\n",
    "25. Кошман Дима\n",
    "26. Кузнецова Екатерина\n",
    "27. Кулагин Алексей\n",
    "28. Лавреновъ Виталiй\n",
    "29. Лебедь Федор\n",
    "30. Лешков Михаил\n",
    "31. Лозинский Иван\n",
    "32. Лоскутов Антон\n",
    "33. Лютов Владимир\n",
    "34. Мажаров Иван\n",
    "35. Манкевич Павел\n",
    "36. Муравьев Никита\n",
    "37. Находнов Максим\n",
    "38. Оплачко Николай\n",
    "39. Павлов Евгений\n",
    "40. Петряйкин Федор\n",
    "41. Рахматуллин Фарид\n",
    "42. Секретарев Тихон\n",
    "43. Сенюшкин Дмитрий\n",
    "44. Серов Николай\n",
    "45. Смирнов Александр\n",
    "46. Соловьев Павел\n",
    "47. Сомов Иван\n",
    "48. Спиркин Роман\n",
    "49. Терёшина Мария\n",
    "50. Торбунова Екатерина\n",
    "51. Тюгаев Антон\n",
    "52. Фельдман Борис\n",
    "53. Филин Максим\n",
    "54. Фролов Михаил\n",
    "55. Хохлов Олег\n",
    "56. Черемнов Андрей\n",
    "57. Шевцов Антон\n",
    "58. Шурыгин Александр"
   ]
  },
  {
   "cell_type": "code",
   "execution_count": 3,
   "metadata": {
    "collapsed": true
   },
   "outputs": [],
   "source": [
    "N = 8 # put your index here"
   ]
  },
  {
   "cell_type": "code",
   "execution_count": 4,
   "metadata": {},
   "outputs": [
    {
     "name": "stdout",
     "output_type": "stream",
     "text": [
      "Реализуем алгоритм кластеризации 'DBSCAN. (параметры - epsilon, min_pts)'\n"
     ]
    }
   ],
   "source": [
    "algorithms = [\n",
    "    u\"Gaussian Mixture Model с использованием maximum a-posteriori для выбора кластера (параметр - k)\",\n",
    "    u\"Hierarchical clustering с поддержкой single-linkage, complete-linkage, average-linkage (параметры - k, linkage)\",\n",
    "    u\"DBSCAN. (параметры - epsilon, min_pts)\"\n",
    "]\n",
    "\n",
    "my_algorithm = algorithms[N % len(algorithms)]\n",
    "print u\"Реализуем алгоритм кластеризации '%s'\" % my_algorithm"
   ]
  },
  {
   "cell_type": "markdown",
   "metadata": {},
   "source": [
    "Алгоритм кластеризации должен удовлетворять следующему интерфейсу. Конструктор принимает набор параметров, необходимых для работы алгоритма кластеризации. Метод `fit` подсчитывает параметры модели и возвращает `self`. Метод `predict` возвращает вектор с индексами кластеров для поданных в него объектов `x`"
   ]
  },
  {
   "cell_type": "code",
   "execution_count": 2,
   "metadata": {
    "collapsed": true
   },
   "outputs": [],
   "source": [
    "## Задание 1\n",
    "from sklearn.base import BaseEstimator, ClusterMixin\n",
    "\n",
    "class Clustering(BaseEstimator, ClusterMixin):\n",
    "    \"\"\"\n",
    "    Implement clustering algorithm according \n",
    "    \"\"\"\n",
    "    \n",
    "    def __init__(self, eps = 1.0, min_pts = 2):\n",
    "        \"\"\"\n",
    "        Please add necessary algoritm parameters to class constructor.\n",
    "        \"\"\"\n",
    "        self.min_pts = min_pts\n",
    "        self.eps = eps\n",
    "        return\n",
    "    \n",
    "    def dist(self,p,q):\n",
    "        return np.linalg.norm(np.array(p)-np.array(q))\n",
    "    \n",
    "    def get_neighbours(self, data):\n",
    "        cluster = 0\n",
    "        indices = 1\n",
    "        visited = 2\n",
    "        all_neighbours = {}\n",
    "        for point in data:\n",
    "            cur_nbrs = []\n",
    "            for other_point in data:              \n",
    "                if self.dist(point, other_point) <= self.eps:\n",
    "                    # Add all entries of equal points\n",
    "                    cur_nbrs.extend([other_point for dummy in xrange(len(data[other_point][indices]))])\n",
    "                    \n",
    "            all_neighbours[point] = cur_nbrs\n",
    "            \n",
    "        return all_neighbours\n",
    "    \n",
    "    \n",
    "    def expand_cluster(self, point, nbr):\n",
    "    \n",
    "        cluster = 0\n",
    "        indices = 1\n",
    "        visited = 2\n",
    "        self.data[point][cluster] = self.C\n",
    "        for neighbour in nbr:\n",
    "            if self.data[neighbour][visited] == 0:# if neighbour point is not classified\n",
    "                self.data[neighbour][visited] = 1 \n",
    "                new_nbr = self.all_neighbours[neighbour]\n",
    "                if len(new_nbr) >= self.min_pts:\n",
    "                    nbr.extend(new_nbr)\n",
    "            if self.data[neighbour][cluster] in [0,-1]: # if neighbour point marked as noise\n",
    "                self.data[neighbour][cluster] = self.C\n",
    "        return\n",
    "    \n",
    "    def data_preprocess(self, X):\n",
    "        cluster = 0\n",
    "        indices = 1\n",
    "        visited = 2\n",
    "        data = dict()\n",
    "        for idx, point in enumerate(X):\n",
    "            key = tuple(point)\n",
    "            if key in data: # If there are several equal points then append all their indices\n",
    "                data[key][indices].append(idx)\n",
    "            else:\n",
    "                value = [0, [idx], 0]\n",
    "                data[key] = value\n",
    "        return data\n",
    "    \n",
    "    def fit(self, X, y=None):\n",
    "        \"\"\"\n",
    "        Use data matrix X to compute model parameters\n",
    "        \"\"\"\n",
    "        cluster = 0\n",
    "        indices = 1\n",
    "        visited = 2\n",
    "        self.C = 0\n",
    "        \n",
    "        # Create the dictionary with keys are vectors of features converted to tuple and values are \n",
    "        # tuple('class label', 'id in dataset')\n",
    "        self.data = self.data_preprocess(X)\n",
    "        \n",
    "        # Now the features of each object are identifying the objects\n",
    "        \n",
    "        # Createthe dictionary with keys are objects ids and values are neighbours ids\n",
    "        self.all_neighbours = self.get_neighbours(self.data)\n",
    "        \n",
    "        for point in self.data:\n",
    "            if self.data[point][visited] == 0:\n",
    "                self.data[point][visited] = 1 \n",
    "                nbr = self.all_neighbours[point]\n",
    "                if len(nbr) < self.min_pts:\n",
    "                    self.data[point][cluster] = -1\n",
    "                else:\n",
    "                    self.C += 1\n",
    "                    self.expand_cluster(point, nbr)\n",
    "            \n",
    "        return \n",
    "    \n",
    "    def predict(self, X):\n",
    "        \"\"\"\n",
    "        Using computed model parameters predict cluster\n",
    "        for all objects from X\n",
    "        \"\"\"\n",
    "        cluster = 0\n",
    "        indices = 1\n",
    "        visited = 2\n",
    "        y = []\n",
    "        for idx, point in enumerate(X):\n",
    "            key = tuple(point)\n",
    "            cur_clust = self.data[key][cluster]\n",
    "            # Make noise cluster number 0\n",
    "            if (cur_clust == -1):\n",
    "                cur_clust = 0\n",
    "            y.append(cur_clust)\n",
    "            \n",
    "        return  np.array(y)\n",
    "            \n",
    "        \n",
    "    \n",
    "    def fit_predict(self, X, y=None):\n",
    "        self.fit(X, y)\n",
    "        #print(len(self.data),len(self.all_neighbours))\n",
    "        return self.predict(X)"
   ]
  },
  {
   "cell_type": "markdown",
   "metadata": {},
   "source": [
    "Сначала проверим реализованный алгоритм кластеризации на классическом наборе данных [Iris](http://www.wikiwand.com/en/Iris_flower_data_set). Загрузим данные (они включены в библиотеку sklearn) и посмотрим на то, как они выглядят в двух проекциях (для простоты используем 2 класса из 3)."
   ]
  },
  {
   "cell_type": "code",
   "execution_count": 3,
   "metadata": {},
   "outputs": [
    {
     "data": {
      "image/png": "[encoded data removed]",
      "text/plain": [
       "<matplotlib.figure.Figure at 0x7ff2a2f25e90>"
      ]
     },
     "metadata": {},
     "output_type": "display_data"
    }
   ],
   "source": [
    "iris = ds.load_iris()\n",
    "x_iris = iris.data[:100]\n",
    "y_iris = iris.target[:100]\n",
    "\n",
    "pl.figure(figsize=(10, 5))\n",
    "\n",
    "pl.subplot(1, 2, 1)\n",
    "pl.scatter(x_iris[:, 0], x_iris[:, 1], c=y_iris, cmap=pl.cm.PuOr, lw=0, s=30)\n",
    "plt.xlabel('Sepal length')\n",
    "plt.ylabel('Sepal width')\n",
    "\n",
    "pl.subplot(1, 2, 2)\n",
    "pl.scatter(x_iris[:, 2], x_iris[:, 3], c=y_iris, cmap=pl.cm.PuOr, lw=0, s=30)\n",
    "plt.xlabel('Petal length')\n",
    "plt.ylabel('Petal width')\n",
    "pl.show()"
   ]
  },
  {
   "cell_type": "code",
   "execution_count": 4,
   "metadata": {},
   "outputs": [
    {
     "data": {
      "image/png": "[encoded data removed]",
      "text/plain": [
       "<matplotlib.figure.Figure at 0x7ff2a08b43d0>"
      ]
     },
     "metadata": {},
     "output_type": "display_data"
    }
   ],
   "source": [
    "model = sc.DBSCAN(eps=0.7, min_samples=3)\n",
    "\n",
    "y_sklearn = model.fit_predict(x_iris)\n",
    "\n",
    "pl.figure(figsize=(10, 5))\n",
    "\n",
    "pl.subplot(1, 2, 1)\n",
    "pl.scatter(x_iris[:, 0], x_iris[:, 1], c=y_sklearn, cmap=pl.cm.PuOr, lw=0, s=30)\n",
    "plt.xlabel('Sepal length')\n",
    "plt.ylabel('Sepal width')\n",
    "\n",
    "pl.subplot(1, 2, 2)\n",
    "pl.scatter(x_iris[:, 2], x_iris[:, 3], c=y_sklearn, cmap=pl.cm.PuOr, lw=0, s=30)\n",
    "plt.xlabel('Petal length')\n",
    "plt.ylabel('Petal width')\n",
    "pl.show()"
   ]
  },
  {
   "cell_type": "code",
   "execution_count": 6,
   "metadata": {},
   "outputs": [
    {
     "data": {
      "image/png": "[encoded data removed]",
      "text/plain": [
       "<matplotlib.figure.Figure at 0x7ff2a0861a90>"
      ]
     },
     "metadata": {},
     "output_type": "display_data"
    }
   ],
   "source": [
    "model = Clustering(0.7,3)\n",
    "\n",
    "pred_iris = model.fit_predict(x_iris)\n",
    "\n",
    "pl.figure(figsize=(10, 5))\n",
    "\n",
    "pl.subplot(1, 2, 1)\n",
    "pl.scatter(x_iris[:, 0], x_iris[:, 1], c=pred_iris, cmap=pl.cm.PuOr, lw=0, s=30)\n",
    "plt.xlabel('Sepal length')\n",
    "plt.ylabel('Sepal width')\n",
    "\n",
    "pl.subplot(1, 2, 2)\n",
    "pl.scatter(x_iris[:, 2], x_iris[:, 3], c=pred_iris, cmap=pl.cm.PuOr, lw=0, s=30)\n",
    "plt.xlabel('Petal length')\n",
    "plt.ylabel('Petal width')\n",
    "pl.show()"
   ]
  },
  {
   "cell_type": "markdown",
   "metadata": {},
   "source": [
    "Видно, что классы разделяются, поэтому можно надеяться, что наш алгоритм \"найдет\" кластеры, соответствующие исходным классам. Результат работы реализованного алгоритма кластеризации предлагается сравнить с эталонной кластеризацией. Для этого предлагается изучить метрику ([adjusted rand score](http://scikit-learn.org/stable/modules/generated/sklearn.metrics.adjusted_rand_score.html)). В случае если значение этой метрики отличается от 1, предлагается поработать над улучшением реализации своего алгоритма."
   ]
  },
  {
   "cell_type": "code",
   "execution_count": 7,
   "metadata": {},
   "outputs": [
    {
     "name": "stdout",
     "output_type": "stream",
     "text": [
      "Adjusted Rand index for iris is: 1.00\n"
     ]
    }
   ],
   "source": [
    "pred_iris = Clustering().fit_predict(x_iris)\n",
    "print \"Adjusted Rand index for iris is: %.2f\" % smt.adjusted_rand_score(y_iris, pred_iris)"
   ]
  },
  {
   "cell_type": "markdown",
   "metadata": {},
   "source": [
    "Выбрать и реализовать критерий качества, на основании которого будут подбираться параметры модели. Варианты критериев:\n",
    "- Инерция (сумма квадратов расстояний от каждой из точек до ближайшего к этой точке центроида)\n",
    "- Средний диаметр (максимальное расстояние между точками в кластере) или радиус (расстояние от центроида до самой дальней от него точки в кластере)\n",
    "- Silhouette\n",
    "\n",
    "**Критерий качества необходимо выбрать таким образом, чтобы он подходил для реализованного алгоритма**"
   ]
  },
  {
   "cell_type": "markdown",
   "metadata": {},
   "source": [
    "Далее описаны два критерия качества: средний радиус и Silhoutte"
   ]
  },
  {
   "cell_type": "code",
   "execution_count": 8,
   "metadata": {
    "collapsed": true
   },
   "outputs": [],
   "source": [
    "## Задание 2\n",
    "# Реализация критерия, использующего радиус (не применяется далее)\n",
    "def my_dist(p,q):\n",
    "    return np.linalg.norm(p-q)\n",
    "    \n",
    "def get_radius(X,y,centroids):\n",
    "    '''\n",
    "    Create dictionary {cluster_id: max_radius}\n",
    "    '''\n",
    "    rads = dict()\n",
    "    labels = np.array(y)\n",
    "    for i in centroids.keys():\n",
    "        ith_label_points = X[labels == i]\n",
    "        p = centroids[i]\n",
    "        max_rad = max([my_dist(p,q) for q in ith_label_points])\n",
    "        rads[i] = max_rad\n",
    "    return rads\n",
    "\n",
    "def get_centroids(X,y):\n",
    "    '''\n",
    "    Create dictionary {cluster_id: centroid coordinates}\n",
    "    '''\n",
    "    clusters = set(y) # create set of clusters' ids\n",
    "    labels = np.array(y)\n",
    "    centroids = dict()\n",
    "    for i in clusters:\n",
    "        ith_label_points = X[labels == i]\n",
    "        tmp = np.zeros((1,X.shape[1]))\n",
    "        for point in ith_label_points:\n",
    "            tmp += point\n",
    "        tmp /= len(ith_label_points)\n",
    "        centroids[i] = tmp\n",
    "    return centroids\n",
    "    \n",
    "        \n",
    "def quality(X, y):\n",
    "    \"\"\"\n",
    "    Implement radius quality criterion of your choice\n",
    "    \"\"\"\n",
    "    centroids = get_centroids(X,y)\n",
    "    rads = get_radius(X,y,centroids)\n",
    "    qlt = np.sum(rads.values()) / len(rads)\n",
    "    return qlt"
   ]
  },
  {
   "cell_type": "markdown",
   "metadata": {},
   "source": [
    "### Silhouette\n",
    "\n",
    "Реализация критерия silhoutte $a(x)$ - расстояние от x до центроида собственного кластера, $b(x)$ - минимум из расстояний до центройдов других кластеров $SC(x) = \\frac{a(x)+b(x)}{\\max\\left(a(x),b(x)\\right)}$"
   ]
  },
  {
   "cell_type": "code",
   "execution_count": 9,
   "metadata": {
    "collapsed": true
   },
   "outputs": [],
   "source": [
    "\n",
    "\n",
    "def my_dist(p,q):\n",
    "    return np.linalg.norm(p-q)\n",
    "    \n",
    "def get_silhoutte_coefs(X, y, centroids):\n",
    "    '''\n",
    "    Create list of coefficients for each point in X\n",
    "    '''\n",
    "    labels = np.array(y)\n",
    "    sc = []\n",
    "    for idx, point in enumerate(X):\n",
    "        cluster = int(y[idx])\n",
    "        a = my_dist(point, centroids[cluster])\n",
    "        b = min([my_dist(point, q) for key, q in centroids.items() if key != cluster])    \n",
    "        sc.append((b-a)/max(a,b))\n",
    "    return sc\n",
    "\n",
    "def get_centroids(X,y):\n",
    "    '''\n",
    "    Create dictionary {cluster_id: centroid coordinates}\n",
    "    '''\n",
    "    clusters = set(y) # create set of clusters' ids\n",
    "    labels = np.array(y)\n",
    "    centroids = dict()\n",
    "    for i in clusters:\n",
    "        ith_label_points = X[labels == i]\n",
    "        tmp = np.zeros((1,X.shape[1]))\n",
    "        for point in ith_label_points:\n",
    "            tmp += point\n",
    "        tmp /= len(ith_label_points)\n",
    "        centroids[i] = tmp\n",
    "    return centroids\n",
    "    \n",
    "        \n",
    "def quality(X, y):\n",
    "    \"\"\"\n",
    "    Implement silhoutte quality criterion of your choice\n",
    "    \n",
    "        returns: list of SilCoefficients and average coeff\n",
    "    \"\"\"\n",
    "    \n",
    "    # Of there's only one cluster raising ValueError as sklearn.metrics.silhouette_score do\n",
    "    if len(set(y)) == 1:\n",
    "        raise ValueError(\"Number of labels is %d. Valid values are 2 \"\n",
    "                       \"to n_samples - 1 (inclusive)\" % len(set(y)))\n",
    "    centroids = get_centroids(X,y)\n",
    "    sil_coef = get_silhoutte_coefs(X,y,centroids)\n",
    "    sil_avg = sum(sil_coef) / len(sil_coef)\n",
    "    return sil_coef, sil_avg"
   ]
  },
  {
   "cell_type": "markdown",
   "metadata": {},
   "source": [
    "Следующая функция позволяет изобразить график Silhoutte"
   ]
  },
  {
   "cell_type": "code",
   "execution_count": 10,
   "metadata": {
    "collapsed": true
   },
   "outputs": [],
   "source": [
    "import matplotlib.cm as cm\n",
    "\n",
    "def plot_silhouette(X,y,sil_coef,sil_avg):\n",
    "    clusters = set(y)\n",
    "    sample_silhouette_values = np.array(sil_coef)\n",
    "    cluster_labels = np.array(y)\n",
    "    fig, ax1, = plt.subplots(1, 1)\n",
    "    fig.set_size_inches(10, 10)\n",
    "    ax1.set_xlim([-1, 1])\n",
    "    y_lower = 10\n",
    "    for i in clusters:\n",
    "        # Aggregate the silhouette scores for samples belonging to\n",
    "        # cluster i, and sort them\n",
    "        ith_cluster_silhouette_values = sample_silhouette_values[cluster_labels == i]\n",
    "\n",
    "        ith_cluster_silhouette_values.sort()\n",
    "\n",
    "        size_cluster_i = ith_cluster_silhouette_values.shape[0]\n",
    "        y_upper = y_lower + size_cluster_i\n",
    "\n",
    "        color = cm.spectral(float(i) / len(clusters))\n",
    "        ax1.fill_betweenx(np.arange(y_lower, y_upper),\n",
    "                          0, ith_cluster_silhouette_values,\n",
    "                          facecolor=color, edgecolor=color, alpha=0.7)\n",
    "\n",
    "        # Label the silhouette plots with their cluster numbers at the middle\n",
    "        ax1.text(-0.05, y_lower + 0.5 * size_cluster_i, str(i))\n",
    "\n",
    "        # Compute the new y_lower for next plot\n",
    "        y_lower = y_upper + 10  # 10 for the 0 samples\n",
    "        \n",
    "    ax1.set_title(\"The silhouette plot for the various clusters.\")\n",
    "    ax1.set_xlabel(\"The silhouette coefficient values\")\n",
    "    ax1.set_ylabel(\"Cluster label\")\n",
    "    \n",
    "    # The vertical line for average silhouette score of all the values\n",
    "    ax1.axvline(x=sil_avg, color=\"red\", linestyle=\"--\")\n",
    "\n",
    "    ax1.set_yticks([])  # Clear the yaxis labels / ticks\n",
    "    ax1.set_xticks([-0.8, -0.6, -0.4, -0.2, 0, 0.2, 0.4, 0.6, 0.8, 1])\n"
   ]
  },
  {
   "cell_type": "markdown",
   "metadata": {},
   "source": [
    "Нарисуем Silhoutte для какой-то конкретной кластеризации данных. Красным пунктиром изображено среднее значение (криетрий качества) Silhoutte на всех элементах выборки. Значения близкие к единице показывают, что объекты кластеризованы хорошо, близкие к нулю -- означает, что объекты на пограничном уровне правильности отнесения к кластеру. Отричцательные же значения говорят о неправильном отнесении к кластеру.\n",
    "Примечание: нулевым кластеорм в реализации всегда обозначается шум, по этому поведение его силуэта может быть неоднозначно"
   ]
  },
  {
   "cell_type": "code",
   "execution_count": 12,
   "metadata": {},
   "outputs": [
    {
     "name": "stdout",
     "output_type": "stream",
     "text": [
      "Silhoutte average is 0.811780:\n"
     ]
    },
    {
     "data": {
      "image/png": "[encoded data removed]",
      "text/plain": [
       "<matplotlib.figure.Figure at 0x7ff2a047dcd0>"
      ]
     },
     "metadata": {},
     "output_type": "display_data"
    }
   ],
   "source": [
    "model = Clustering(0.7,4)\n",
    "pred_iris = model.fit_predict(x_iris)\n",
    "\n",
    "sil_coef,sil_avg = quality(x_iris, pred_iris)\n",
    "plot_silhouette(x_iris, pred_iris,sil_coef,sil_avg)\n",
    "print(\"Silhoutte average is %f:\" % sil_avg)"
   ]
  },
  {
   "cell_type": "markdown",
   "metadata": {},
   "source": [
    "Применим критерий для выбора параметров алгоритма. Предлагается изменить следующий код таким образом, чтобы кластеризация вызывалась с верным набором параметров. На графике можно будет увидеть зависимость критерия от параметров алгоритма. Необходимо выбрать оптимальные значения этих параметров."
   ]
  },
  {
   "cell_type": "markdown",
   "metadata": {},
   "source": [
    "Как отмечалось ранее, чем ближе Silhoutte score к единице, тем качетсвеннее кластеризация. Это мы можем увидеть на графиках, построенных в этой ячейке"
   ]
  },
  {
   "cell_type": "code",
   "execution_count": 13,
   "metadata": {
    "scrolled": true
   },
   "outputs": [
    {
     "data": {
      "image/png": "[encoded data removed]",
      "text/plain": [
       "<matplotlib.figure.Figure at 0x7ff2a064fc90>"
      ]
     },
     "metadata": {},
     "output_type": "display_data"
    }
   ],
   "source": [
    "epsilons = np.arange(0.1, 1.0, 0.2)\n",
    "min_points = range(1, 10)\n",
    "\n",
    "criteria_eps = np.zeros(len(epsilons))\n",
    "criteria_pts = np.zeros(len(min_points))\n",
    "\n",
    "iris = ds.load_iris()\n",
    "X = iris.data[:100]\n",
    "\n",
    "# For iris dataset have found that parameters (eps=0.7, min_pts=3) give the best clustering (visual criteria)\n",
    "# so let us show two plots with quality() of two eps and min_pts where one is fixed and the other varies\n",
    "\n",
    "\n",
    "\n",
    "min_pts = 3\n",
    "for i, eps in enumerate(epsilons):\n",
    "    cls = Clustering(eps, min_pts)\n",
    "    y = cls.fit_predict(X)\n",
    "    _, criteria_eps[i] = quality(X, y)\n",
    "\n",
    "epsilon = 0.7\n",
    "for i, pts in enumerate(min_points):\n",
    "    cls = Clustering(epsilon, pts)\n",
    "    y = cls.fit_predict(X)\n",
    "    _, criteria_pts[i] = quality(X, y) \n",
    "    \n",
    "pl.figure(figsize=(10, 5))\n",
    "\n",
    "pl.subplot(1, 2, 1)\n",
    "pl.plot(epsilons, criteria_eps)\n",
    "pl.title(\"$J(\\epsilon, pts^* = 3)$\")\n",
    "pl.ylabel(\"Criteria $J$\")\n",
    "pl.xlabel(\"$\\epsilon$\")\n",
    "pl.grid()\n",
    "\n",
    "pl.subplot(1, 2, 2)\n",
    "pl.plot(min_points, criteria_pts)\n",
    "pl.title(\"$J(\\epsilon^{*} = 0.7, pts)$\")\n",
    "pl.ylabel(\"Criteria $J$\")\n",
    "pl.xlabel(\"Number of points $pts$\")\n",
    "pl.grid()\n",
    "\n",
    "pl.show()"
   ]
  },
  {
   "cell_type": "code",
   "execution_count": 15,
   "metadata": {},
   "outputs": [
    {
     "data": {
      "text/html": [
       "<div>\n",
       "<style>\n",
       "    .dataframe thead tr:only-child th {\n",
       "        text-align: right;\n",
       "    }\n",
       "\n",
       "    .dataframe thead th {\n",
       "        text-align: left;\n",
       "    }\n",
       "\n",
       "    .dataframe tbody tr th {\n",
       "        vertical-align: top;\n",
       "    }\n",
       "</style>\n",
       "<table border=\"1\" class=\"dataframe\">\n",
       "  <thead>\n",
       "    <tr style=\"text-align: right;\">\n",
       "      <th></th>\n",
       "      <th>Country Code</th>\n",
       "      <th>Indicator Name</th>\n",
       "      <th>Indicator Code</th>\n",
       "      <th>1960</th>\n",
       "      <th>1961</th>\n",
       "      <th>1962</th>\n",
       "      <th>1963</th>\n",
       "      <th>1964</th>\n",
       "      <th>1965</th>\n",
       "      <th>1966</th>\n",
       "      <th>...</th>\n",
       "      <th>2008</th>\n",
       "      <th>2009</th>\n",
       "      <th>2010</th>\n",
       "      <th>2011</th>\n",
       "      <th>2012</th>\n",
       "      <th>2013</th>\n",
       "      <th>2014</th>\n",
       "      <th>2015</th>\n",
       "      <th>2016</th>\n",
       "      <th>Unnamed: 61</th>\n",
       "    </tr>\n",
       "    <tr>\n",
       "      <th>Country Name</th>\n",
       "      <th></th>\n",
       "      <th></th>\n",
       "      <th></th>\n",
       "      <th></th>\n",
       "      <th></th>\n",
       "      <th></th>\n",
       "      <th></th>\n",
       "      <th></th>\n",
       "      <th></th>\n",
       "      <th></th>\n",
       "      <th></th>\n",
       "      <th></th>\n",
       "      <th></th>\n",
       "      <th></th>\n",
       "      <th></th>\n",
       "      <th></th>\n",
       "      <th></th>\n",
       "      <th></th>\n",
       "      <th></th>\n",
       "      <th></th>\n",
       "      <th></th>\n",
       "    </tr>\n",
       "  </thead>\n",
       "  <tbody>\n",
       "    <tr>\n",
       "      <th>Arab World</th>\n",
       "      <td>ARB</td>\n",
       "      <td>2005 PPP conversion factor, GDP (LCU per inter...</td>\n",
       "      <td>PA.NUS.PPP.05</td>\n",
       "      <td>NaN</td>\n",
       "      <td>NaN</td>\n",
       "      <td>NaN</td>\n",
       "      <td>NaN</td>\n",
       "      <td>NaN</td>\n",
       "      <td>NaN</td>\n",
       "      <td>NaN</td>\n",
       "      <td>...</td>\n",
       "      <td>NaN</td>\n",
       "      <td>NaN</td>\n",
       "      <td>NaN</td>\n",
       "      <td>NaN</td>\n",
       "      <td>NaN</td>\n",
       "      <td>NaN</td>\n",
       "      <td>NaN</td>\n",
       "      <td>NaN</td>\n",
       "      <td>NaN</td>\n",
       "      <td>NaN</td>\n",
       "    </tr>\n",
       "    <tr>\n",
       "      <th>Arab World</th>\n",
       "      <td>ARB</td>\n",
       "      <td>2005 PPP conversion factor, private consumptio...</td>\n",
       "      <td>PA.NUS.PRVT.PP.05</td>\n",
       "      <td>NaN</td>\n",
       "      <td>NaN</td>\n",
       "      <td>NaN</td>\n",
       "      <td>NaN</td>\n",
       "      <td>NaN</td>\n",
       "      <td>NaN</td>\n",
       "      <td>NaN</td>\n",
       "      <td>...</td>\n",
       "      <td>NaN</td>\n",
       "      <td>NaN</td>\n",
       "      <td>NaN</td>\n",
       "      <td>NaN</td>\n",
       "      <td>NaN</td>\n",
       "      <td>NaN</td>\n",
       "      <td>NaN</td>\n",
       "      <td>NaN</td>\n",
       "      <td>NaN</td>\n",
       "      <td>NaN</td>\n",
       "    </tr>\n",
       "    <tr>\n",
       "      <th>Arab World</th>\n",
       "      <td>ARB</td>\n",
       "      <td>Access to clean fuels and technologies for coo...</td>\n",
       "      <td>EG.CFT.ACCS.ZS</td>\n",
       "      <td>NaN</td>\n",
       "      <td>NaN</td>\n",
       "      <td>NaN</td>\n",
       "      <td>NaN</td>\n",
       "      <td>NaN</td>\n",
       "      <td>NaN</td>\n",
       "      <td>NaN</td>\n",
       "      <td>...</td>\n",
       "      <td>82.831932</td>\n",
       "      <td>83.474617</td>\n",
       "      <td>84.006076</td>\n",
       "      <td>84.416148</td>\n",
       "      <td>84.734574</td>\n",
       "      <td>85.003645</td>\n",
       "      <td>85.244971</td>\n",
       "      <td>NaN</td>\n",
       "      <td>NaN</td>\n",
       "      <td>NaN</td>\n",
       "    </tr>\n",
       "    <tr>\n",
       "      <th>Arab World</th>\n",
       "      <td>ARB</td>\n",
       "      <td>Access to electricity (% of population)</td>\n",
       "      <td>EG.ELC.ACCS.ZS</td>\n",
       "      <td>NaN</td>\n",
       "      <td>NaN</td>\n",
       "      <td>NaN</td>\n",
       "      <td>NaN</td>\n",
       "      <td>NaN</td>\n",
       "      <td>NaN</td>\n",
       "      <td>NaN</td>\n",
       "      <td>...</td>\n",
       "      <td>85.042248</td>\n",
       "      <td>84.655338</td>\n",
       "      <td>85.955345</td>\n",
       "      <td>86.392313</td>\n",
       "      <td>86.846966</td>\n",
       "      <td>87.604961</td>\n",
       "      <td>88.039125</td>\n",
       "      <td>NaN</td>\n",
       "      <td>NaN</td>\n",
       "      <td>NaN</td>\n",
       "    </tr>\n",
       "    <tr>\n",
       "      <th>Arab World</th>\n",
       "      <td>ARB</td>\n",
       "      <td>Access to electricity, rural (% of rural popul...</td>\n",
       "      <td>EG.ELC.ACCS.RU.ZS</td>\n",
       "      <td>NaN</td>\n",
       "      <td>NaN</td>\n",
       "      <td>NaN</td>\n",
       "      <td>NaN</td>\n",
       "      <td>NaN</td>\n",
       "      <td>NaN</td>\n",
       "      <td>NaN</td>\n",
       "      <td>...</td>\n",
       "      <td>72.292323</td>\n",
       "      <td>71.765345</td>\n",
       "      <td>73.734266</td>\n",
       "      <td>74.500717</td>\n",
       "      <td>75.218497</td>\n",
       "      <td>76.712250</td>\n",
       "      <td>77.407269</td>\n",
       "      <td>NaN</td>\n",
       "      <td>NaN</td>\n",
       "      <td>NaN</td>\n",
       "    </tr>\n",
       "  </tbody>\n",
       "</table>\n",
       "<p>5 rows × 61 columns</p>\n",
       "</div>"
      ],
      "text/plain": [
       "             Country Code                                     Indicator Name  \\\n",
       "Country Name                                                                   \n",
       "Arab World            ARB  2005 PPP conversion factor, GDP (LCU per inter...   \n",
       "Arab World            ARB  2005 PPP conversion factor, private consumptio...   \n",
       "Arab World            ARB  Access to clean fuels and technologies for coo...   \n",
       "Arab World            ARB            Access to electricity (% of population)   \n",
       "Arab World            ARB  Access to electricity, rural (% of rural popul...   \n",
       "\n",
       "                 Indicator Code  1960  1961  1962  1963  1964  1965  1966  \\\n",
       "Country Name                                                                \n",
       "Arab World        PA.NUS.PPP.05   NaN   NaN   NaN   NaN   NaN   NaN   NaN   \n",
       "Arab World    PA.NUS.PRVT.PP.05   NaN   NaN   NaN   NaN   NaN   NaN   NaN   \n",
       "Arab World       EG.CFT.ACCS.ZS   NaN   NaN   NaN   NaN   NaN   NaN   NaN   \n",
       "Arab World       EG.ELC.ACCS.ZS   NaN   NaN   NaN   NaN   NaN   NaN   NaN   \n",
       "Arab World    EG.ELC.ACCS.RU.ZS   NaN   NaN   NaN   NaN   NaN   NaN   NaN   \n",
       "\n",
       "                 ...            2008       2009       2010       2011  \\\n",
       "Country Name     ...                                                    \n",
       "Arab World       ...             NaN        NaN        NaN        NaN   \n",
       "Arab World       ...             NaN        NaN        NaN        NaN   \n",
       "Arab World       ...       82.831932  83.474617  84.006076  84.416148   \n",
       "Arab World       ...       85.042248  84.655338  85.955345  86.392313   \n",
       "Arab World       ...       72.292323  71.765345  73.734266  74.500717   \n",
       "\n",
       "                   2012       2013       2014  2015  2016  Unnamed: 61  \n",
       "Country Name                                                            \n",
       "Arab World          NaN        NaN        NaN   NaN   NaN          NaN  \n",
       "Arab World          NaN        NaN        NaN   NaN   NaN          NaN  \n",
       "Arab World    84.734574  85.003645  85.244971   NaN   NaN          NaN  \n",
       "Arab World    86.846966  87.604961  88.039125   NaN   NaN          NaN  \n",
       "Arab World    75.218497  76.712250  77.407269   NaN   NaN          NaN  \n",
       "\n",
       "[5 rows x 61 columns]"
      ]
     },
     "execution_count": 15,
     "metadata": {},
     "output_type": "execute_result"
    }
   ],
   "source": [
    "## Задание 3\n",
    "# Read data from file\n",
    "data = pd.DataFrame.from_csv('./WDI_csv/WDIData.csv')\n",
    "data.head()"
   ]
  },
  {
   "cell_type": "code",
   "execution_count": 16,
   "metadata": {},
   "outputs": [
    {
     "name": "stdout",
     "output_type": "stream",
     "text": [
      "Unnamed: 61\n"
     ]
    }
   ],
   "source": [
    "# Find are there columns full of nans?\n",
    "labels = list(data)\n",
    "for label in labels:\n",
    "    if pd.isnull(data[label]).all():\n",
    "        print(label)"
   ]
  },
  {
   "cell_type": "code",
   "execution_count": 17,
   "metadata": {
    "collapsed": true
   },
   "outputs": [],
   "source": [
    "# Define a function that takes from the data the slice we want\n",
    "def extract_table(df, year, indicators, method=None):\n",
    "    year = str(year)\n",
    "    if isinstance(indicators, str):\n",
    "        indicators = [indicators]\n",
    "    df_slice_year = df[['Country Code','Indicator Code',year]]\n",
    "    df_slice_indicators = df_slice_year[df_slice_year['Indicator Code'].isin(indicators)]\n",
    "    \n",
    "    # Create more appropriate appearance of table\n",
    "    new_df = df_slice_indicators.pivot_table(values=year, index='Country Code', columns=['Indicator Code'])\n",
    "    \n",
    "    # If whole row is nan then drop it\n",
    "    new_df.dropna(how='all', inplace=True)\n",
    "    \n",
    "    # Fill nan in column with mean of that column\n",
    "    if method == 'fillna':\n",
    "        new_df.fillna(new_df.mean(), inplace=True)\n",
    "    elif  method == 'dropna':\n",
    "        new_df.dropna(how='any', inplace=True)  \n",
    "    \n",
    "    return new_df"
   ]
  },
  {
   "cell_type": "code",
   "execution_count": 18,
   "metadata": {},
   "outputs": [
    {
     "data": {
      "text/html": [
       "<div>\n",
       "<style>\n",
       "    .dataframe thead tr:only-child th {\n",
       "        text-align: right;\n",
       "    }\n",
       "\n",
       "    .dataframe thead th {\n",
       "        text-align: left;\n",
       "    }\n",
       "\n",
       "    .dataframe tbody tr th {\n",
       "        vertical-align: top;\n",
       "    }\n",
       "</style>\n",
       "<table border=\"1\" class=\"dataframe\">\n",
       "  <thead>\n",
       "    <tr style=\"text-align: right;\">\n",
       "      <th>Indicator Code</th>\n",
       "      <th>AG.LND.FRST.K2</th>\n",
       "      <th>AG.LND.TOTL.RU.K2</th>\n",
       "      <th>AG.PRD.CREL.MT</th>\n",
       "    </tr>\n",
       "    <tr>\n",
       "      <th>Country Code</th>\n",
       "      <th></th>\n",
       "      <th></th>\n",
       "      <th></th>\n",
       "    </tr>\n",
       "  </thead>\n",
       "  <tbody>\n",
       "    <tr>\n",
       "      <th>ABW</th>\n",
       "      <td>4.2</td>\n",
       "      <td>9.008322e+00</td>\n",
       "      <td>1.077119e+08</td>\n",
       "    </tr>\n",
       "    <tr>\n",
       "      <th>AFG</th>\n",
       "      <td>13500.0</td>\n",
       "      <td>5.057469e+06</td>\n",
       "      <td>5.957000e+06</td>\n",
       "    </tr>\n",
       "    <tr>\n",
       "      <th>AGO</th>\n",
       "      <td>584800.0</td>\n",
       "      <td>1.248199e+06</td>\n",
       "      <td>1.181944e+06</td>\n",
       "    </tr>\n",
       "    <tr>\n",
       "      <th>ALB</th>\n",
       "      <td>7763.0</td>\n",
       "      <td>2.668671e+04</td>\n",
       "      <td>6.938000e+05</td>\n",
       "    </tr>\n",
       "    <tr>\n",
       "      <th>AND</th>\n",
       "      <td>160.0</td>\n",
       "      <td>5.057469e+06</td>\n",
       "      <td>1.077119e+08</td>\n",
       "    </tr>\n",
       "  </tbody>\n",
       "</table>\n",
       "</div>"
      ],
      "text/plain": [
       "Indicator Code  AG.LND.FRST.K2  AG.LND.TOTL.RU.K2  AG.PRD.CREL.MT\n",
       "Country Code                                                     \n",
       "ABW                        4.2       9.008322e+00    1.077119e+08\n",
       "AFG                    13500.0       5.057469e+06    5.957000e+06\n",
       "AGO                   584800.0       1.248199e+06    1.181944e+06\n",
       "ALB                     7763.0       2.668671e+04    6.938000e+05\n",
       "AND                      160.0       5.057469e+06    1.077119e+08"
      ]
     },
     "execution_count": 18,
     "metadata": {},
     "output_type": "execute_result"
    }
   ],
   "source": [
    "year = '2010'\n",
    "indicator = [ 'AG.LND.FRST.K2', 'AG.LND.TOTL.RU.K2', 'AG.PRD.CREL.MT']\n",
    "\n",
    "new_df = extract_table(data, year, indicator, method='fillna')\n",
    "new_df.head()"
   ]
  },
  {
   "cell_type": "code",
   "execution_count": 19,
   "metadata": {
    "collapsed": true
   },
   "outputs": [],
   "source": [
    "x = new_df.values\n",
    "means,stds = x.mean(axis=0), x.std(axis=0)\n",
    "x = (x - means)/stds\n",
    "\n",
    "model = Clustering(0.4,3)\n",
    "\n",
    "y = model.fit_predict(x)"
   ]
  },
  {
   "cell_type": "code",
   "execution_count": 20,
   "metadata": {},
   "outputs": [
    {
     "data": {
      "image/png": "[encoded data removed]",
      "text/plain": [
       "<matplotlib.figure.Figure at 0x7ff2a03ec210>"
      ]
     },
     "metadata": {},
     "output_type": "display_data"
    }
   ],
   "source": [
    "\n",
    "pl.figure(figsize=(20, 10))\n",
    "\n",
    "pl.subplot(2,2,1)\n",
    "pl.scatter(x[:, 0], x[:, 2], c=y, cmap=pl.cm.PuOr, lw=0, s=30)\n",
    "plt.xlabel('Total forest land')\n",
    "plt.ylabel('Cereal production')\n",
    "\n",
    "pl.subplot(2,2,2)\n",
    "pl.scatter(x[:, 1], x[:, 2], c=y, cmap=pl.cm.PuOr, lw=0, s=30)\n",
    "plt.xlabel('Total rural land')\n",
    "plt.ylabel('Cereal production')\n",
    "\n",
    "pl.subplot(2,2,3)\n",
    "pl.scatter(x[:, 0], x[:, 1], c=y, cmap=pl.cm.PuOr, lw=0, s=30)\n",
    "plt.xlabel('Total forest land')\n",
    "plt.xlabel('Total rural land')\n",
    "\n",
    "\n",
    "pl.show()"
   ]
  },
  {
   "cell_type": "markdown",
   "metadata": {},
   "source": [
    "Кластеризация стран по значениям на 2010 год проведена по четырем признакам:  площадь леса в стране, площадь сельской местности и производство круп. \n",
    "На всех графиках наблюдается линейная состовляющая в зависимости признаков. Но кроме этого кластеризация с выбранными параметрами показывает, что существуют похожие по этим параметрам страны.\n",
    "\n",
    "В основной кластер попали страны со средним (близким к нулю после нормировки) размером площади леса и сельской местности. Далекие от этого кластера значения попали в кластер \"шум\"\n"
   ]
  },
  {
   "cell_type": "markdown",
   "metadata": {},
   "source": [
    "Поздравляем, Вы завершили домашние задания по модулю \"Алгоритмы кластеризации\". Надеемся, что это было интересно."
   ]
  }
 ],
 "metadata": {
  "kernelspec": {
   "display_name": "Python 2",
   "language": "python",
   "name": "python2"
  },
  "language_info": {
   "codemirror_mode": {
    "name": "ipython",
    "version": 2
   },
   "file_extension": ".py",
   "mimetype": "text/x-python",
   "name": "python",
   "nbconvert_exporter": "python",
   "pygments_lexer": "ipython2",
   "version": "2.7.12"
  }
 },
 "nbformat": 4,
 "nbformat_minor": 1
}
